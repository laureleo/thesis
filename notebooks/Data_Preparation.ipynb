{
 "cells": [
  {
   "cell_type": "markdown",
   "metadata": {},
   "source": [
    "# DATA PREPARATION\n",
    "We need to format the suc3.0 data, which exist in an xml tree, in such a way that ALBERT can accept it.\n",
    "\n",
    "Because of my familiarity with dataframes, I'll begin by converting the xml tree into a pandas dataframe\n",
    "\n",
    "\n",
    "I'd recommend this link for an easy read on how to use BERT for NER, which should be a good enough paralell for ALBERT\n",
    "https://www.vamvas.ch/bert-for-ner/"
   ]
  },
  {
   "cell_type": "code",
   "execution_count": 1,
   "metadata": {},
   "outputs": [],
   "source": [
    "import pandas as pd\n",
    "import seaborn as sns\n",
    "import xml.etree.ElementTree as et \n",
    "import matplotlib.pyplot as plt\n",
    "import numpy as np"
   ]
  },
  {
   "cell_type": "markdown",
   "metadata": {},
   "source": [
    "### Setup"
   ]
  },
  {
   "cell_type": "code",
   "execution_count": 2,
   "metadata": {},
   "outputs": [],
   "source": [
    "# The attributes at each level of the corpus\n",
    "\n",
    "TEXT_attributes = {\n",
    " 'text_blingbring': '|',\n",
    " 'text_id': '|',\n",
    " 'text_lix': '|',\n",
    " 'text_nk': '|',\n",
    " 'text_ovix': '|',\n",
    " 'text_swefn': '|',\n",
    " 'text_index': 0}\n",
    "\n",
    "SENTENCE_attributes = {\n",
    " 'sentence__geocontext': '|',\n",
    " 'sentence_id': '|',\n",
    " 'sentence_index': 0}\n",
    "\n",
    "WORD_attributes = {\n",
    " 'word_blingbring': '|',\n",
    " 'word_complemgram': '|',\n",
    " 'word_compwf': '|',\n",
    " 'word_dephead': '|',\n",
    " 'word_deprel': '|',\n",
    " 'word_lemma': '|:|',\n",
    " 'word_lex': '|',\n",
    " 'word_msd': '|',\n",
    " 'word_pos': '|',\n",
    " 'word_prefix': '|',\n",
    " 'word_ref': '|',\n",
    " 'word_sense': '|',\n",
    " 'word_suffix': '|',\n",
    " 'word_swefn': '|',\n",
    " 'word_ex': '|',\n",
    " 'word_name': '|',\n",
    " 'word_subtype': '|',\n",
    " 'word_type': '|',\n",
    " 'word_index': 0}\n",
    "\n",
    "# A dict containing all attributes associated with a single word, increading higher-level ones\n",
    "WORD_LEVEL_MASTER_DICT = {}\n",
    "WORD_LEVEL_MASTER_DICT.update(TEXT_attributes)\n",
    "WORD_LEVEL_MASTER_DICT.update(SENTENCE_attributes)\n",
    "WORD_LEVEL_MASTER_DICT.update(WORD_attributes)"
   ]
  },
  {
   "cell_type": "code",
   "execution_count": 3,
   "metadata": {},
   "outputs": [],
   "source": [
    "\"\"\"\n",
    "Some tags/dictionaries have a conflicting namespace for the attributes\n",
    "This function takes the attributes and adds a prefix to the keynames, to make sure nothing overwrites anything else\n",
    "Returns the same dict but with updated key names\n",
    "\"\"\"\n",
    "def rename_attributes(dictionary, prefix):\n",
    "    new_dict = {}\n",
    "    for key in dictionary.attrib:\n",
    "        value = dictionary.get(key)\n",
    "        new_attrib_name = prefix + \"_\" + key\n",
    "        new_dict.update({new_attrib_name:value})\n",
    "        \n",
    "    return new_dict"
   ]
  },
  {
   "cell_type": "markdown",
   "metadata": {},
   "source": [
    "### Convert XML to Dataframe"
   ]
  },
  {
   "cell_type": "code",
   "execution_count": 4,
   "metadata": {},
   "outputs": [
    {
     "name": "stderr",
     "output_type": "stream",
     "text": [
      "/home/vic/git/thesis/.thesis/lib/python3.7/site-packages/ipykernel_launcher.py:8: DeprecationWarning: This method will be removed in future versions.  Use 'list(elem)' or iteration over elem instead.\n",
      "  \n",
      "/home/vic/git/thesis/.thesis/lib/python3.7/site-packages/ipykernel_launcher.py:30: DeprecationWarning: This method will be removed in future versions.  Use 'list(elem)' or iteration over elem instead.\n",
      "/home/vic/git/thesis/.thesis/lib/python3.7/site-packages/ipykernel_launcher.py:38: DeprecationWarning: This method will be removed in future versions.  Use 'list(elem)' or iteration over elem instead.\n"
     ]
    },
    {
     "name": "stdout",
     "output_type": "stream",
     "text": [
      "Done\n"
     ]
    }
   ],
   "source": [
    "#Create a tree\n",
    "xtree = et.parse(\"../data/suc3.xml\")\n",
    "\n",
    "#Get its root element\n",
    "suc3 = xtree.getroot()\n",
    "\n",
    "#Get all children - the texts that we will extract words from\n",
    "texts = suc3.getchildren()\n",
    "\n",
    "text_index = 0\n",
    "sentence_index = 0\n",
    "word_index = 0\n",
    "\n",
    "\n",
    "#Create a list of datapoints. Each datapoint will be a word with all the attributes of the word itself, the attributes of the sentence it is part of, and the attributes of the text it is part of.\n",
    "datapoints = []\n",
    "\n",
    "# Loop over the texts in the corpus...\n",
    "for text in texts:\n",
    "    #Assign an index based on the order it appears in the corpus\n",
    "    text_index = text_index + 1\n",
    "    \n",
    "    # Create a dict of attributes that won't cause a namespace conflict\n",
    "    text_attributes = rename_attributes(text, 'text')\n",
    "    \n",
    "    #Add the index as an attribute\n",
    "    text_attributes.update({\"text_index\": text_index})\n",
    "    \n",
    "    #Get all the sentences that make up this text\n",
    "    sentences = text.getchildren()  \n",
    "    \n",
    "    for sentence in sentences:\n",
    "        sentence_index = sentence_index + 1\n",
    "\n",
    "        sentence_attributes = rename_attributes(sentence, 'sentence')\n",
    "        sentence_attributes.update({\"sentence_index\": sentence_index})\n",
    "   \n",
    "        words = sentence.getchildren()\n",
    "        \n",
    "        for word in words:\n",
    "            word_index = word_index + 1\n",
    "            \n",
    "            \n",
    "            #For words, there are multiple kinds of attributes depending on the kind of word.\n",
    "            # WORD_attributes is simply a list of all these attributes joined into one.\n",
    "            word_attributes = WORD_attributes.copy()\n",
    "            word_attributes.update({\"word_index\": word_index})\n",
    "            \n",
    "            attributes = rename_attributes(word, 'word')\n",
    "            \n",
    "            if word.tag == 'ne':\n",
    "                attributes.update({\"word_tag\": \"ne\"})\n",
    "            else:\n",
    "                attributes.update({\"word_tag\": \"w\"})\n",
    "                \n",
    "                #If it's not a named entity, the text is not stored as an attribute but actual text. We treat it as an attribute for coherence\n",
    "                attributes.update({\"word_name\": word.text})\n",
    "                \n",
    "            word_attributes.update(attributes)\n",
    "            \n",
    "            #Copy the master dict and fill it in with all the information we've extracted from the three loops\n",
    "            WORD_LEVEL_DICT = WORD_LEVEL_MASTER_DICT.copy()\n",
    "            \n",
    "            WORD_LEVEL_DICT.update(text_attributes)\n",
    "            WORD_LEVEL_DICT.update(sentence_attributes)\n",
    "            WORD_LEVEL_DICT.update(word_attributes)\n",
    "            \n",
    "            datapoints.append(WORD_LEVEL_DICT)\n",
    "                \n",
    "print(\"Done\")"
   ]
  },
  {
   "cell_type": "markdown",
   "metadata": {},
   "source": [
    "## Replace | tokens with NaN"
   ]
  },
  {
   "cell_type": "code",
   "execution_count": 128,
   "metadata": {},
   "outputs": [
    {
     "ename": "NameError",
     "evalue": "name 'datapoints' is not defined",
     "output_type": "error",
     "traceback": [
      "\u001b[0;31m---------------------------------------------------------------------------\u001b[0m",
      "\u001b[0;31mNameError\u001b[0m                                 Traceback (most recent call last)",
      "\u001b[0;32m<ipython-input-128-f97a917ba8de>\u001b[0m in \u001b[0;36m<module>\u001b[0;34m\u001b[0m\n\u001b[1;32m      1\u001b[0m \u001b[0;31m# Having extracted all words and their associated information, let's convert it into a dataframe\u001b[0m\u001b[0;34m\u001b[0m\u001b[0;34m\u001b[0m\u001b[0;34m\u001b[0m\u001b[0m\n\u001b[0;32m----> 2\u001b[0;31m \u001b[0mdf\u001b[0m \u001b[0;34m=\u001b[0m \u001b[0mpd\u001b[0m\u001b[0;34m.\u001b[0m\u001b[0mDataFrame\u001b[0m\u001b[0;34m(\u001b[0m\u001b[0mdatapoints\u001b[0m\u001b[0;34m)\u001b[0m\u001b[0;34m\u001b[0m\u001b[0;34m\u001b[0m\u001b[0m\n\u001b[0m\u001b[1;32m      3\u001b[0m \u001b[0;34m\u001b[0m\u001b[0m\n\u001b[1;32m      4\u001b[0m \u001b[0;31m#Blingbring looks less interesting\u001b[0m\u001b[0;34m\u001b[0m\u001b[0;34m\u001b[0m\u001b[0;34m\u001b[0m\u001b[0m\n\u001b[1;32m      5\u001b[0m \u001b[0mdf\u001b[0m \u001b[0;34m=\u001b[0m \u001b[0mdf\u001b[0m\u001b[0;34m.\u001b[0m\u001b[0mdrop\u001b[0m\u001b[0;34m(\u001b[0m\u001b[0mcolumns\u001b[0m\u001b[0;34m=\u001b[0m\u001b[0;34m{\u001b[0m\u001b[0;34m'text_blingbring'\u001b[0m\u001b[0;34m}\u001b[0m\u001b[0;34m)\u001b[0m\u001b[0;34m\u001b[0m\u001b[0;34m\u001b[0m\u001b[0m\n",
      "\u001b[0;31mNameError\u001b[0m: name 'datapoints' is not defined"
     ]
    }
   ],
   "source": [
    "# Having extracted all words and their associated information, let's convert it into a dataframe\n",
    "df = pd.DataFrame(datapoints)\n",
    "\n",
    "#Blingbring looks less interesting\n",
    "df = df.drop(columns={'text_blingbring'})\n",
    "\n",
    "#Replace the | with None\n",
    "df = df.replace({'|': np.nan})\n",
    "df.head(1)"
   ]
  },
  {
   "cell_type": "code",
   "execution_count": 139,
   "metadata": {},
   "outputs": [],
   "source": [
    "# Pickle the data\n",
    "#df.to_pickle('../data/suc3_dataframe')\n",
    "df = pd.read_pickle('../data/suc3_dataframe')"
   ]
  },
  {
   "cell_type": "markdown",
   "metadata": {},
   "source": [
    "## Extract only the parts relevant for NER with ALBERT"
   ]
  },
  {
   "cell_type": "code",
   "execution_count": 140,
   "metadata": {
    "jupyter": {
     "source_hidden": true
    }
   },
   "outputs": [
    {
     "data": {
      "text/html": [
       "<div>\n",
       "<style scoped>\n",
       "    .dataframe tbody tr th:only-of-type {\n",
       "        vertical-align: middle;\n",
       "    }\n",
       "\n",
       "    .dataframe tbody tr th {\n",
       "        vertical-align: top;\n",
       "    }\n",
       "\n",
       "    .dataframe thead th {\n",
       "        text-align: right;\n",
       "    }\n",
       "</style>\n",
       "<table border=\"1\" class=\"dataframe\">\n",
       "  <thead>\n",
       "    <tr style=\"text-align: right;\">\n",
       "      <th></th>\n",
       "      <th>sentence_index</th>\n",
       "      <th>word_name</th>\n",
       "      <th>word_pos</th>\n",
       "      <th>word_type</th>\n",
       "      <th>word_subtype</th>\n",
       "    </tr>\n",
       "  </thead>\n",
       "  <tbody>\n",
       "    <tr>\n",
       "      <th>0</th>\n",
       "      <td>1</td>\n",
       "      <td>I</td>\n",
       "      <td>PP</td>\n",
       "      <td>NaN</td>\n",
       "      <td>NaN</td>\n",
       "    </tr>\n",
       "    <tr>\n",
       "      <th>1</th>\n",
       "      <td>1</td>\n",
       "      <td>sin</td>\n",
       "      <td>PS</td>\n",
       "      <td>NaN</td>\n",
       "      <td>NaN</td>\n",
       "    </tr>\n",
       "    <tr>\n",
       "      <th>2</th>\n",
       "      <td>1</td>\n",
       "      <td>första</td>\n",
       "      <td>RO</td>\n",
       "      <td>NaN</td>\n",
       "      <td>NaN</td>\n",
       "    </tr>\n",
       "    <tr>\n",
       "      <th>3</th>\n",
       "      <td>1</td>\n",
       "      <td>reaktion</td>\n",
       "      <td>NN</td>\n",
       "      <td>NaN</td>\n",
       "      <td>NaN</td>\n",
       "    </tr>\n",
       "    <tr>\n",
       "      <th>4</th>\n",
       "      <td>1</td>\n",
       "      <td>på</td>\n",
       "      <td>PP</td>\n",
       "      <td>NaN</td>\n",
       "      <td>NaN</td>\n",
       "    </tr>\n",
       "  </tbody>\n",
       "</table>\n",
       "</div>"
      ],
      "text/plain": [
       "   sentence_index word_name word_pos word_type word_subtype\n",
       "0               1         I       PP       NaN          NaN\n",
       "1               1       sin       PS       NaN          NaN\n",
       "2               1    första       RO       NaN          NaN\n",
       "3               1  reaktion       NN       NaN          NaN\n",
       "4               1        på       PP       NaN          NaN"
      ]
     },
     "execution_count": 140,
     "metadata": {},
     "output_type": "execute_result"
    }
   ],
   "source": [
    "#Starting out, I wasn't certain which fields I was going to need, so I grabbed them all.\n",
    "#Now we narrow things down\n",
    "data = df[['sentence_index', 'word_name', 'word_pos', 'word_type', 'word_subtype']]\n",
    "data.head(5)"
   ]
  },
  {
   "cell_type": "markdown",
   "metadata": {},
   "source": [
    "## Replace the Nan type of non-entities with O"
   ]
  },
  {
   "cell_type": "code",
   "execution_count": 142,
   "metadata": {},
   "outputs": [
    {
     "name": "stderr",
     "output_type": "stream",
     "text": [
      "/home/vic/git/thesis/.thesis/lib/python3.7/site-packages/pandas/core/frame.py:2963: SettingWithCopyWarning: \n",
      "A value is trying to be set on a copy of a slice from a DataFrame.\n",
      "Try using .loc[row_indexer,col_indexer] = value instead\n",
      "\n",
      "See the caveats in the documentation: https://pandas.pydata.org/pandas-docs/stable/user_guide/indexing.html#returning-a-view-versus-a-copy\n",
      "  self[k1] = value[k2]\n"
     ]
    },
    {
     "data": {
      "text/html": [
       "<div>\n",
       "<style scoped>\n",
       "    .dataframe tbody tr th:only-of-type {\n",
       "        vertical-align: middle;\n",
       "    }\n",
       "\n",
       "    .dataframe tbody tr th {\n",
       "        vertical-align: top;\n",
       "    }\n",
       "\n",
       "    .dataframe thead th {\n",
       "        text-align: right;\n",
       "    }\n",
       "</style>\n",
       "<table border=\"1\" class=\"dataframe\">\n",
       "  <thead>\n",
       "    <tr style=\"text-align: right;\">\n",
       "      <th></th>\n",
       "      <th>sentence_index</th>\n",
       "      <th>word_name</th>\n",
       "      <th>word_pos</th>\n",
       "      <th>word_type</th>\n",
       "      <th>word_subtype</th>\n",
       "    </tr>\n",
       "  </thead>\n",
       "  <tbody>\n",
       "    <tr>\n",
       "      <th>0</th>\n",
       "      <td>1</td>\n",
       "      <td>I</td>\n",
       "      <td>PP</td>\n",
       "      <td>O</td>\n",
       "      <td>NaN</td>\n",
       "    </tr>\n",
       "    <tr>\n",
       "      <th>1</th>\n",
       "      <td>1</td>\n",
       "      <td>sin</td>\n",
       "      <td>PS</td>\n",
       "      <td>O</td>\n",
       "      <td>NaN</td>\n",
       "    </tr>\n",
       "    <tr>\n",
       "      <th>2</th>\n",
       "      <td>1</td>\n",
       "      <td>första</td>\n",
       "      <td>RO</td>\n",
       "      <td>O</td>\n",
       "      <td>NaN</td>\n",
       "    </tr>\n",
       "    <tr>\n",
       "      <th>3</th>\n",
       "      <td>1</td>\n",
       "      <td>reaktion</td>\n",
       "      <td>NN</td>\n",
       "      <td>O</td>\n",
       "      <td>NaN</td>\n",
       "    </tr>\n",
       "    <tr>\n",
       "      <th>4</th>\n",
       "      <td>1</td>\n",
       "      <td>på</td>\n",
       "      <td>PP</td>\n",
       "      <td>O</td>\n",
       "      <td>NaN</td>\n",
       "    </tr>\n",
       "  </tbody>\n",
       "</table>\n",
       "</div>"
      ],
      "text/plain": [
       "   sentence_index word_name word_pos word_type word_subtype\n",
       "0               1         I       PP         O          NaN\n",
       "1               1       sin       PS         O          NaN\n",
       "2               1    första       RO         O          NaN\n",
       "3               1  reaktion       NN         O          NaN\n",
       "4               1        på       PP         O          NaN"
      ]
     },
     "execution_count": 142,
     "metadata": {},
     "output_type": "execute_result"
    }
   ],
   "source": [
    "# The example uses O instaed of Nan, so we follow them\n",
    "data[['word_type']] = data[['word_type']].replace(np.nan,'O')\n",
    "data.head(5)"
   ]
  },
  {
   "cell_type": "markdown",
   "metadata": {},
   "source": [
    "## Switch to wordpiece representation of words using the albert tokenizer\n",
    "\n",
    "Wordpiece segmentation has some advantages. Even when a model is pretrained and has a good starting point from transfer learning, some words are just too rare to represent correctly.\n",
    "Wordpiece segmentation breaks unknown words down into smaller subparts"
   ]
  },
  {
   "cell_type": "code",
   "execution_count": 143,
   "metadata": {},
   "outputs": [
    {
     "data": {
      "text/plain": [
       "['▁Sovjet', 'led', 'arens']"
      ]
     },
     "execution_count": 143,
     "metadata": {},
     "output_type": "execute_result"
    }
   ],
   "source": [
    "from transformers import AutoTokenizer\n",
    "tokenizer = AutoTokenizer.from_pretrained(\"KB/albert-base-swedish-cased-alpha\")\n",
    "\n",
    "#An example of wordpiece segmentation. The whole word might be unknown, but splitting the word into known parts may allow the model to leverage its understanding anyway.\n",
    "tokenizer.tokenize('Sovjetledarens')"
   ]
  },
  {
   "cell_type": "code",
   "execution_count": 144,
   "metadata": {},
   "outputs": [
    {
     "name": "stderr",
     "output_type": "stream",
     "text": [
      "/home/vic/git/thesis/.thesis/lib/python3.7/site-packages/ipykernel_launcher.py:3: SettingWithCopyWarning: \n",
      "A value is trying to be set on a copy of a slice from a DataFrame.\n",
      "Try using .loc[row_indexer,col_indexer] = value instead\n",
      "\n",
      "See the caveats in the documentation: https://pandas.pydata.org/pandas-docs/stable/user_guide/indexing.html#returning-a-view-versus-a-copy\n",
      "  This is separate from the ipykernel package so we can avoid doing imports until\n"
     ]
    }
   ],
   "source": [
    "# Do it for all the data. This takes a while.\n",
    "# Each word gets represented as a list of the parts it was split into\n",
    "data['wordpiece'] = data.apply(lambda x: tokenizer.tokenize(x.word_name), axis = 1)"
   ]
  },
  {
   "cell_type": "markdown",
   "metadata": {},
   "source": [
    "## Switch to BIO representation of labels"
   ]
  },
  {
   "cell_type": "code",
   "execution_count": 145,
   "metadata": {},
   "outputs": [],
   "source": [
    "def generate_bio_labels(dataframe_row):\n",
    "    \"\"\"\n",
    "    Switch from single-word single-label to word-piece -bio-piece-labels\n",
    "    This is done by, for each word, taking the list of subwords it was split into, and matching labels to that.\n",
    "    We will unravel the lists later\n",
    "    \"\"\"\n",
    "    length_of_split = len(dataframe_row.wordpiece)\n",
    "    current_tag = dataframe_row.word_type\n",
    "\n",
    "    labelpiece = []\n",
    "\n",
    "    #The first part of the split words gets tagged with an \"B-\" for beginning\n",
    "    labelpiece.append(\"B-\" + current_tag)\n",
    "\n",
    "    for i in range(1, length_of_split):   \n",
    "        #The rest of the parts get tagged with an \"I-\" for intermediate\n",
    "        labelpiece.append(\"I-\" + current_tag)\n",
    "\n",
    "    return labelpiece"
   ]
  },
  {
   "cell_type": "code",
   "execution_count": 146,
   "metadata": {},
   "outputs": [
    {
     "name": "stderr",
     "output_type": "stream",
     "text": [
      "/home/vic/git/thesis/.thesis/lib/python3.7/site-packages/ipykernel_launcher.py:2: SettingWithCopyWarning: \n",
      "A value is trying to be set on a copy of a slice from a DataFrame.\n",
      "Try using .loc[row_indexer,col_indexer] = value instead\n",
      "\n",
      "See the caveats in the documentation: https://pandas.pydata.org/pandas-docs/stable/user_guide/indexing.html#returning-a-view-versus-a-copy\n",
      "  \n"
     ]
    },
    {
     "data": {
      "text/html": [
       "<div>\n",
       "<style scoped>\n",
       "    .dataframe tbody tr th:only-of-type {\n",
       "        vertical-align: middle;\n",
       "    }\n",
       "\n",
       "    .dataframe tbody tr th {\n",
       "        vertical-align: top;\n",
       "    }\n",
       "\n",
       "    .dataframe thead th {\n",
       "        text-align: right;\n",
       "    }\n",
       "</style>\n",
       "<table border=\"1\" class=\"dataframe\">\n",
       "  <thead>\n",
       "    <tr style=\"text-align: right;\">\n",
       "      <th></th>\n",
       "      <th>sentence_index</th>\n",
       "      <th>word_name</th>\n",
       "      <th>word_pos</th>\n",
       "      <th>word_type</th>\n",
       "      <th>word_subtype</th>\n",
       "      <th>wordpiece</th>\n",
       "      <th>labelpiece</th>\n",
       "    </tr>\n",
       "  </thead>\n",
       "  <tbody>\n",
       "    <tr>\n",
       "      <th>0</th>\n",
       "      <td>1</td>\n",
       "      <td>I</td>\n",
       "      <td>PP</td>\n",
       "      <td>O</td>\n",
       "      <td>NaN</td>\n",
       "      <td>[▁I]</td>\n",
       "      <td>[B-O]</td>\n",
       "    </tr>\n",
       "    <tr>\n",
       "      <th>1</th>\n",
       "      <td>1</td>\n",
       "      <td>sin</td>\n",
       "      <td>PS</td>\n",
       "      <td>O</td>\n",
       "      <td>NaN</td>\n",
       "      <td>[▁sin]</td>\n",
       "      <td>[B-O]</td>\n",
       "    </tr>\n",
       "    <tr>\n",
       "      <th>2</th>\n",
       "      <td>1</td>\n",
       "      <td>första</td>\n",
       "      <td>RO</td>\n",
       "      <td>O</td>\n",
       "      <td>NaN</td>\n",
       "      <td>[▁första]</td>\n",
       "      <td>[B-O]</td>\n",
       "    </tr>\n",
       "    <tr>\n",
       "      <th>3</th>\n",
       "      <td>1</td>\n",
       "      <td>reaktion</td>\n",
       "      <td>NN</td>\n",
       "      <td>O</td>\n",
       "      <td>NaN</td>\n",
       "      <td>[▁reaktion]</td>\n",
       "      <td>[B-O]</td>\n",
       "    </tr>\n",
       "    <tr>\n",
       "      <th>4</th>\n",
       "      <td>1</td>\n",
       "      <td>på</td>\n",
       "      <td>PP</td>\n",
       "      <td>O</td>\n",
       "      <td>NaN</td>\n",
       "      <td>[▁på]</td>\n",
       "      <td>[B-O]</td>\n",
       "    </tr>\n",
       "    <tr>\n",
       "      <th>5</th>\n",
       "      <td>1</td>\n",
       "      <td>Sovjetledarens</td>\n",
       "      <td>NN</td>\n",
       "      <td>O</td>\n",
       "      <td>NaN</td>\n",
       "      <td>[▁Sovjet, led, arens]</td>\n",
       "      <td>[B-O, I-O, I-O]</td>\n",
       "    </tr>\n",
       "    <tr>\n",
       "      <th>6</th>\n",
       "      <td>1</td>\n",
       "      <td>varningar</td>\n",
       "      <td>NN</td>\n",
       "      <td>O</td>\n",
       "      <td>NaN</td>\n",
       "      <td>[▁varningar]</td>\n",
       "      <td>[B-O]</td>\n",
       "    </tr>\n",
       "    <tr>\n",
       "      <th>7</th>\n",
       "      <td>1</td>\n",
       "      <td>deklarerade</td>\n",
       "      <td>VB</td>\n",
       "      <td>O</td>\n",
       "      <td>NaN</td>\n",
       "      <td>[▁deklarerade]</td>\n",
       "      <td>[B-O]</td>\n",
       "    </tr>\n",
       "    <tr>\n",
       "      <th>8</th>\n",
       "      <td>1</td>\n",
       "      <td>Litauens</td>\n",
       "      <td>NaN</td>\n",
       "      <td>LOC</td>\n",
       "      <td>PPL</td>\n",
       "      <td>[▁Lita, uens]</td>\n",
       "      <td>[B-LOC, I-LOC]</td>\n",
       "    </tr>\n",
       "    <tr>\n",
       "      <th>9</th>\n",
       "      <td>1</td>\n",
       "      <td>president</td>\n",
       "      <td>NN</td>\n",
       "      <td>O</td>\n",
       "      <td>NaN</td>\n",
       "      <td>[▁president]</td>\n",
       "      <td>[B-O]</td>\n",
       "    </tr>\n",
       "    <tr>\n",
       "      <th>10</th>\n",
       "      <td>1</td>\n",
       "      <td>Vytautas Landsbergis</td>\n",
       "      <td>NaN</td>\n",
       "      <td>PRS</td>\n",
       "      <td>HUM</td>\n",
       "      <td>[▁V, yta, ut, as, ▁Land, sberg, is]</td>\n",
       "      <td>[B-PRS, I-PRS, I-PRS, I-PRS, I-PRS, I-PRS, I-PRS]</td>\n",
       "    </tr>\n",
       "    <tr>\n",
       "      <th>11</th>\n",
       "      <td>1</td>\n",
       "      <td>att</td>\n",
       "      <td>SN</td>\n",
       "      <td>O</td>\n",
       "      <td>NaN</td>\n",
       "      <td>[▁att]</td>\n",
       "      <td>[B-O]</td>\n",
       "    </tr>\n",
       "    <tr>\n",
       "      <th>12</th>\n",
       "      <td>1</td>\n",
       "      <td>\"</td>\n",
       "      <td>PAD</td>\n",
       "      <td>O</td>\n",
       "      <td>NaN</td>\n",
       "      <td>[▁, \"]</td>\n",
       "      <td>[B-O, I-O]</td>\n",
       "    </tr>\n",
       "    <tr>\n",
       "      <th>13</th>\n",
       "      <td>1</td>\n",
       "      <td>nu</td>\n",
       "      <td>AB</td>\n",
       "      <td>O</td>\n",
       "      <td>NaN</td>\n",
       "      <td>[▁nu]</td>\n",
       "      <td>[B-O]</td>\n",
       "    </tr>\n",
       "    <tr>\n",
       "      <th>14</th>\n",
       "      <td>1</td>\n",
       "      <td>avvisar</td>\n",
       "      <td>VB</td>\n",
       "      <td>O</td>\n",
       "      <td>NaN</td>\n",
       "      <td>[▁avvisar]</td>\n",
       "      <td>[B-O]</td>\n",
       "    </tr>\n",
       "    <tr>\n",
       "      <th>15</th>\n",
       "      <td>1</td>\n",
       "      <td>Gorbatjov</td>\n",
       "      <td>NaN</td>\n",
       "      <td>PRS</td>\n",
       "      <td>HUM</td>\n",
       "      <td>[▁Gorbatjov]</td>\n",
       "      <td>[B-PRS]</td>\n",
       "    </tr>\n",
       "    <tr>\n",
       "      <th>16</th>\n",
       "      <td>1</td>\n",
       "      <td>vår</td>\n",
       "      <td>PS</td>\n",
       "      <td>O</td>\n",
       "      <td>NaN</td>\n",
       "      <td>[▁vår]</td>\n",
       "      <td>[B-O]</td>\n",
       "    </tr>\n",
       "    <tr>\n",
       "      <th>17</th>\n",
       "      <td>1</td>\n",
       "      <td>utsträckta</td>\n",
       "      <td>PC</td>\n",
       "      <td>O</td>\n",
       "      <td>NaN</td>\n",
       "      <td>[▁utsträck, ta]</td>\n",
       "      <td>[B-O, I-O]</td>\n",
       "    </tr>\n",
       "    <tr>\n",
       "      <th>18</th>\n",
       "      <td>1</td>\n",
       "      <td>hand</td>\n",
       "      <td>NN</td>\n",
       "      <td>O</td>\n",
       "      <td>NaN</td>\n",
       "      <td>[▁hand]</td>\n",
       "      <td>[B-O]</td>\n",
       "    </tr>\n",
       "    <tr>\n",
       "      <th>19</th>\n",
       "      <td>1</td>\n",
       "      <td>med</td>\n",
       "      <td>PP</td>\n",
       "      <td>O</td>\n",
       "      <td>NaN</td>\n",
       "      <td>[▁med]</td>\n",
       "      <td>[B-O]</td>\n",
       "    </tr>\n",
       "  </tbody>\n",
       "</table>\n",
       "</div>"
      ],
      "text/plain": [
       "    sentence_index             word_name word_pos word_type word_subtype  \\\n",
       "0                1                     I       PP         O          NaN   \n",
       "1                1                   sin       PS         O          NaN   \n",
       "2                1                första       RO         O          NaN   \n",
       "3                1              reaktion       NN         O          NaN   \n",
       "4                1                    på       PP         O          NaN   \n",
       "5                1        Sovjetledarens       NN         O          NaN   \n",
       "6                1             varningar       NN         O          NaN   \n",
       "7                1           deklarerade       VB         O          NaN   \n",
       "8                1              Litauens      NaN       LOC          PPL   \n",
       "9                1             president       NN         O          NaN   \n",
       "10               1  Vytautas Landsbergis      NaN       PRS          HUM   \n",
       "11               1                   att       SN         O          NaN   \n",
       "12               1                     \"      PAD         O          NaN   \n",
       "13               1                    nu       AB         O          NaN   \n",
       "14               1               avvisar       VB         O          NaN   \n",
       "15               1             Gorbatjov      NaN       PRS          HUM   \n",
       "16               1                   vår       PS         O          NaN   \n",
       "17               1            utsträckta       PC         O          NaN   \n",
       "18               1                  hand       NN         O          NaN   \n",
       "19               1                   med       PP         O          NaN   \n",
       "\n",
       "                              wordpiece  \\\n",
       "0                                  [▁I]   \n",
       "1                                [▁sin]   \n",
       "2                             [▁första]   \n",
       "3                           [▁reaktion]   \n",
       "4                                 [▁på]   \n",
       "5                 [▁Sovjet, led, arens]   \n",
       "6                          [▁varningar]   \n",
       "7                        [▁deklarerade]   \n",
       "8                         [▁Lita, uens]   \n",
       "9                          [▁president]   \n",
       "10  [▁V, yta, ut, as, ▁Land, sberg, is]   \n",
       "11                               [▁att]   \n",
       "12                               [▁, \"]   \n",
       "13                                [▁nu]   \n",
       "14                           [▁avvisar]   \n",
       "15                         [▁Gorbatjov]   \n",
       "16                               [▁vår]   \n",
       "17                      [▁utsträck, ta]   \n",
       "18                              [▁hand]   \n",
       "19                               [▁med]   \n",
       "\n",
       "                                           labelpiece  \n",
       "0                                               [B-O]  \n",
       "1                                               [B-O]  \n",
       "2                                               [B-O]  \n",
       "3                                               [B-O]  \n",
       "4                                               [B-O]  \n",
       "5                                     [B-O, I-O, I-O]  \n",
       "6                                               [B-O]  \n",
       "7                                               [B-O]  \n",
       "8                                      [B-LOC, I-LOC]  \n",
       "9                                               [B-O]  \n",
       "10  [B-PRS, I-PRS, I-PRS, I-PRS, I-PRS, I-PRS, I-PRS]  \n",
       "11                                              [B-O]  \n",
       "12                                         [B-O, I-O]  \n",
       "13                                              [B-O]  \n",
       "14                                              [B-O]  \n",
       "15                                            [B-PRS]  \n",
       "16                                              [B-O]  \n",
       "17                                         [B-O, I-O]  \n",
       "18                                              [B-O]  \n",
       "19                                              [B-O]  "
      ]
     },
     "execution_count": 146,
     "metadata": {},
     "output_type": "execute_result"
    }
   ],
   "source": [
    "#Apply the above function to all the data\n",
    "data['labelpiece'] = data.apply(lambda x: generate_bio_labels(x), axis = 1)\n",
    "data.head(20)"
   ]
  },
  {
   "cell_type": "markdown",
   "metadata": {},
   "source": [
    "## Delete all \\N in the data"
   ]
  },
  {
   "cell_type": "code",
   "execution_count": 147,
   "metadata": {},
   "outputs": [
    {
     "name": "stdout",
     "output_type": "stream",
     "text": [
      "Dropping all tokens consiting of '/\\ n' as these are incorrectly tagged. We lose 0.7316278455374048 percent of tokens this way\n"
     ]
    }
   ],
   "source": [
    "# We have obsereved errors caused by the word name \\n in the data, so we ignore all those rows\n",
    "rows_with_errors = data[data['word_name'] == '\\n'].shape[0]\n",
    "total_rows = data.shape[0]\n",
    "print(f\"Dropping all tokens consiting of '/\\ n' as these are incorrectly tagged. We lose {100*rows_with_errors/total_rows} percent of tokens this way\")\n",
    "\n"
   ]
  },
  {
   "cell_type": "code",
   "execution_count": 148,
   "metadata": {},
   "outputs": [
    {
     "data": {
      "text/html": [
       "<div>\n",
       "<style scoped>\n",
       "    .dataframe tbody tr th:only-of-type {\n",
       "        vertical-align: middle;\n",
       "    }\n",
       "\n",
       "    .dataframe tbody tr th {\n",
       "        vertical-align: top;\n",
       "    }\n",
       "\n",
       "    .dataframe thead th {\n",
       "        text-align: right;\n",
       "    }\n",
       "</style>\n",
       "<table border=\"1\" class=\"dataframe\">\n",
       "  <thead>\n",
       "    <tr style=\"text-align: right;\">\n",
       "      <th></th>\n",
       "      <th>sentence_index</th>\n",
       "      <th>word_name</th>\n",
       "      <th>word_pos</th>\n",
       "      <th>word_type</th>\n",
       "      <th>word_subtype</th>\n",
       "      <th>wordpiece</th>\n",
       "      <th>labelpiece</th>\n",
       "    </tr>\n",
       "  </thead>\n",
       "  <tbody>\n",
       "    <tr>\n",
       "      <th>118</th>\n",
       "      <td>8</td>\n",
       "      <td>\\n</td>\n",
       "      <td>NaN</td>\n",
       "      <td>person</td>\n",
       "      <td>NaN</td>\n",
       "      <td>[]</td>\n",
       "      <td>[B-person]</td>\n",
       "    </tr>\n",
       "    <tr>\n",
       "      <th>364</th>\n",
       "      <td>22</td>\n",
       "      <td>\\n</td>\n",
       "      <td>NaN</td>\n",
       "      <td>inst</td>\n",
       "      <td>NaN</td>\n",
       "      <td>[]</td>\n",
       "      <td>[B-inst]</td>\n",
       "    </tr>\n",
       "    <tr>\n",
       "      <th>374</th>\n",
       "      <td>22</td>\n",
       "      <td>\\n</td>\n",
       "      <td>NaN</td>\n",
       "      <td>inst</td>\n",
       "      <td>NaN</td>\n",
       "      <td>[]</td>\n",
       "      <td>[B-inst]</td>\n",
       "    </tr>\n",
       "    <tr>\n",
       "      <th>679</th>\n",
       "      <td>37</td>\n",
       "      <td>\\n</td>\n",
       "      <td>NaN</td>\n",
       "      <td>inst</td>\n",
       "      <td>NaN</td>\n",
       "      <td>[]</td>\n",
       "      <td>[B-inst]</td>\n",
       "    </tr>\n",
       "    <tr>\n",
       "      <th>932</th>\n",
       "      <td>55</td>\n",
       "      <td>\\n</td>\n",
       "      <td>NaN</td>\n",
       "      <td>person</td>\n",
       "      <td>NaN</td>\n",
       "      <td>[]</td>\n",
       "      <td>[B-person]</td>\n",
       "    </tr>\n",
       "    <tr>\n",
       "      <th>...</th>\n",
       "      <td>...</td>\n",
       "      <td>...</td>\n",
       "      <td>...</td>\n",
       "      <td>...</td>\n",
       "      <td>...</td>\n",
       "      <td>...</td>\n",
       "      <td>...</td>\n",
       "    </tr>\n",
       "    <tr>\n",
       "      <th>1134618</th>\n",
       "      <td>74167</td>\n",
       "      <td>\\n</td>\n",
       "      <td>NaN</td>\n",
       "      <td>person</td>\n",
       "      <td>NaN</td>\n",
       "      <td>[]</td>\n",
       "      <td>[B-person]</td>\n",
       "    </tr>\n",
       "    <tr>\n",
       "      <th>1134779</th>\n",
       "      <td>74182</td>\n",
       "      <td>\\n</td>\n",
       "      <td>NaN</td>\n",
       "      <td>person</td>\n",
       "      <td>NaN</td>\n",
       "      <td>[]</td>\n",
       "      <td>[B-person]</td>\n",
       "    </tr>\n",
       "    <tr>\n",
       "      <th>1134875</th>\n",
       "      <td>74192</td>\n",
       "      <td>\\n</td>\n",
       "      <td>NaN</td>\n",
       "      <td>person</td>\n",
       "      <td>NaN</td>\n",
       "      <td>[]</td>\n",
       "      <td>[B-person]</td>\n",
       "    </tr>\n",
       "    <tr>\n",
       "      <th>1134920</th>\n",
       "      <td>74197</td>\n",
       "      <td>\\n</td>\n",
       "      <td>NaN</td>\n",
       "      <td>person</td>\n",
       "      <td>NaN</td>\n",
       "      <td>[]</td>\n",
       "      <td>[B-person]</td>\n",
       "    </tr>\n",
       "    <tr>\n",
       "      <th>1135297</th>\n",
       "      <td>74228</td>\n",
       "      <td>\\n</td>\n",
       "      <td>NaN</td>\n",
       "      <td>person</td>\n",
       "      <td>NaN</td>\n",
       "      <td>[]</td>\n",
       "      <td>[B-person]</td>\n",
       "    </tr>\n",
       "  </tbody>\n",
       "</table>\n",
       "<p>8308 rows × 7 columns</p>\n",
       "</div>"
      ],
      "text/plain": [
       "         sentence_index word_name word_pos word_type word_subtype wordpiece  \\\n",
       "118                   8        \\n      NaN    person          NaN        []   \n",
       "364                  22        \\n      NaN      inst          NaN        []   \n",
       "374                  22        \\n      NaN      inst          NaN        []   \n",
       "679                  37        \\n      NaN      inst          NaN        []   \n",
       "932                  55        \\n      NaN    person          NaN        []   \n",
       "...                 ...       ...      ...       ...          ...       ...   \n",
       "1134618           74167        \\n      NaN    person          NaN        []   \n",
       "1134779           74182        \\n      NaN    person          NaN        []   \n",
       "1134875           74192        \\n      NaN    person          NaN        []   \n",
       "1134920           74197        \\n      NaN    person          NaN        []   \n",
       "1135297           74228        \\n      NaN    person          NaN        []   \n",
       "\n",
       "         labelpiece  \n",
       "118      [B-person]  \n",
       "364        [B-inst]  \n",
       "374        [B-inst]  \n",
       "679        [B-inst]  \n",
       "932      [B-person]  \n",
       "...             ...  \n",
       "1134618  [B-person]  \n",
       "1134779  [B-person]  \n",
       "1134875  [B-person]  \n",
       "1134920  [B-person]  \n",
       "1135297  [B-person]  \n",
       "\n",
       "[8308 rows x 7 columns]"
      ]
     },
     "execution_count": 148,
     "metadata": {},
     "output_type": "execute_result"
    }
   ],
   "source": [
    "data[data['word_name'] == '\\n']"
   ]
  },
  {
   "cell_type": "code",
   "execution_count": null,
   "metadata": {},
   "outputs": [],
   "source": [
    "data = data[data['word_name'] != '\\n']"
   ]
  },
  {
   "cell_type": "code",
   "execution_count": 137,
   "metadata": {},
   "outputs": [
    {
     "data": {
      "text/html": [
       "<div>\n",
       "<style scoped>\n",
       "    .dataframe tbody tr th:only-of-type {\n",
       "        vertical-align: middle;\n",
       "    }\n",
       "\n",
       "    .dataframe tbody tr th {\n",
       "        vertical-align: top;\n",
       "    }\n",
       "\n",
       "    .dataframe thead th {\n",
       "        text-align: right;\n",
       "    }\n",
       "</style>\n",
       "<table border=\"1\" class=\"dataframe\">\n",
       "  <thead>\n",
       "    <tr style=\"text-align: right;\">\n",
       "      <th></th>\n",
       "      <th>sentence_index</th>\n",
       "      <th>word_name</th>\n",
       "      <th>word_pos</th>\n",
       "      <th>word_type</th>\n",
       "      <th>word_subtype</th>\n",
       "      <th>wordpiece</th>\n",
       "      <th>labelpiece</th>\n",
       "    </tr>\n",
       "  </thead>\n",
       "  <tbody>\n",
       "    <tr>\n",
       "      <th>361</th>\n",
       "      <td>22</td>\n",
       "      <td>En</td>\n",
       "      <td>DT</td>\n",
       "      <td>O</td>\n",
       "      <td>NaN</td>\n",
       "      <td>[▁En]</td>\n",
       "      <td>[B-O]</td>\n",
       "    </tr>\n",
       "    <tr>\n",
       "      <th>362</th>\n",
       "      <td>22</td>\n",
       "      <td>talesman</td>\n",
       "      <td>NN</td>\n",
       "      <td>O</td>\n",
       "      <td>NaN</td>\n",
       "      <td>[▁talesman]</td>\n",
       "      <td>[B-O]</td>\n",
       "    </tr>\n",
       "    <tr>\n",
       "      <th>363</th>\n",
       "      <td>22</td>\n",
       "      <td>vid</td>\n",
       "      <td>PP</td>\n",
       "      <td>O</td>\n",
       "      <td>NaN</td>\n",
       "      <td>[▁vid]</td>\n",
       "      <td>[B-O]</td>\n",
       "    </tr>\n",
       "    <tr>\n",
       "      <th>365</th>\n",
       "      <td>22</td>\n",
       "      <td>presscenter</td>\n",
       "      <td>NN</td>\n",
       "      <td>O</td>\n",
       "      <td>NaN</td>\n",
       "      <td>[▁press, center]</td>\n",
       "      <td>[B-O, I-O]</td>\n",
       "    </tr>\n",
       "    <tr>\n",
       "      <th>366</th>\n",
       "      <td>22</td>\n",
       "      <td>i</td>\n",
       "      <td>PP</td>\n",
       "      <td>O</td>\n",
       "      <td>NaN</td>\n",
       "      <td>[▁i]</td>\n",
       "      <td>[B-O]</td>\n",
       "    </tr>\n",
       "    <tr>\n",
       "      <th>367</th>\n",
       "      <td>22</td>\n",
       "      <td>Vilnius</td>\n",
       "      <td>NaN</td>\n",
       "      <td>LOC</td>\n",
       "      <td>PPL</td>\n",
       "      <td>[▁Vil, nius]</td>\n",
       "      <td>[B-LOC, I-LOC]</td>\n",
       "    </tr>\n",
       "    <tr>\n",
       "      <th>368</th>\n",
       "      <td>22</td>\n",
       "      <td>bekräftade</td>\n",
       "      <td>VB</td>\n",
       "      <td>O</td>\n",
       "      <td>NaN</td>\n",
       "      <td>[▁bekräftade]</td>\n",
       "      <td>[B-O]</td>\n",
       "    </tr>\n",
       "    <tr>\n",
       "      <th>369</th>\n",
       "      <td>22</td>\n",
       "      <td>på söndagskvällen</td>\n",
       "      <td>NaN</td>\n",
       "      <td>TME</td>\n",
       "      <td>DAT</td>\n",
       "      <td>[▁på, ▁söndagskvällen]</td>\n",
       "      <td>[B-TME, I-TME]</td>\n",
       "    </tr>\n",
       "    <tr>\n",
       "      <th>370</th>\n",
       "      <td>22</td>\n",
       "      <td>i</td>\n",
       "      <td>PP</td>\n",
       "      <td>O</td>\n",
       "      <td>NaN</td>\n",
       "      <td>[▁i]</td>\n",
       "      <td>[B-O]</td>\n",
       "    </tr>\n",
       "    <tr>\n",
       "      <th>371</th>\n",
       "      <td>22</td>\n",
       "      <td>ett</td>\n",
       "      <td>DT</td>\n",
       "      <td>O</td>\n",
       "      <td>NaN</td>\n",
       "      <td>[▁ett]</td>\n",
       "      <td>[B-O]</td>\n",
       "    </tr>\n",
       "    <tr>\n",
       "      <th>372</th>\n",
       "      <td>22</td>\n",
       "      <td>telefonsamtal</td>\n",
       "      <td>NN</td>\n",
       "      <td>O</td>\n",
       "      <td>NaN</td>\n",
       "      <td>[▁telefonsamtal]</td>\n",
       "      <td>[B-O]</td>\n",
       "    </tr>\n",
       "    <tr>\n",
       "      <th>373</th>\n",
       "      <td>22</td>\n",
       "      <td>med</td>\n",
       "      <td>PP</td>\n",
       "      <td>O</td>\n",
       "      <td>NaN</td>\n",
       "      <td>[▁med]</td>\n",
       "      <td>[B-O]</td>\n",
       "    </tr>\n",
       "    <tr>\n",
       "      <th>375</th>\n",
       "      <td>22</td>\n",
       "      <td>att</td>\n",
       "      <td>SN</td>\n",
       "      <td>O</td>\n",
       "      <td>NaN</td>\n",
       "      <td>[▁att]</td>\n",
       "      <td>[B-O]</td>\n",
       "    </tr>\n",
       "    <tr>\n",
       "      <th>376</th>\n",
       "      <td>22</td>\n",
       "      <td>stridsvagnskolonner</td>\n",
       "      <td>NN</td>\n",
       "      <td>O</td>\n",
       "      <td>NaN</td>\n",
       "      <td>[▁stridsvagn, skol, on, ner]</td>\n",
       "      <td>[B-O, I-O, I-O, I-O]</td>\n",
       "    </tr>\n",
       "    <tr>\n",
       "      <th>377</th>\n",
       "      <td>22</td>\n",
       "      <td>under dagen</td>\n",
       "      <td>NaN</td>\n",
       "      <td>TME</td>\n",
       "      <td>DAT</td>\n",
       "      <td>[▁under, ▁dagen]</td>\n",
       "      <td>[B-TME, I-TME]</td>\n",
       "    </tr>\n",
       "    <tr>\n",
       "      <th>378</th>\n",
       "      <td>22</td>\n",
       "      <td>synts</td>\n",
       "      <td>VB</td>\n",
       "      <td>O</td>\n",
       "      <td>NaN</td>\n",
       "      <td>[▁synts]</td>\n",
       "      <td>[B-O]</td>\n",
       "    </tr>\n",
       "    <tr>\n",
       "      <th>379</th>\n",
       "      <td>22</td>\n",
       "      <td>rulla</td>\n",
       "      <td>VB</td>\n",
       "      <td>O</td>\n",
       "      <td>NaN</td>\n",
       "      <td>[▁rulla]</td>\n",
       "      <td>[B-O]</td>\n",
       "    </tr>\n",
       "    <tr>\n",
       "      <th>380</th>\n",
       "      <td>22</td>\n",
       "      <td>genom</td>\n",
       "      <td>PP</td>\n",
       "      <td>O</td>\n",
       "      <td>NaN</td>\n",
       "      <td>[▁genom]</td>\n",
       "      <td>[B-O]</td>\n",
       "    </tr>\n",
       "    <tr>\n",
       "      <th>381</th>\n",
       "      <td>22</td>\n",
       "      <td>stadens</td>\n",
       "      <td>NN</td>\n",
       "      <td>O</td>\n",
       "      <td>NaN</td>\n",
       "      <td>[▁stadens]</td>\n",
       "      <td>[B-O]</td>\n",
       "    </tr>\n",
       "    <tr>\n",
       "      <th>382</th>\n",
       "      <td>22</td>\n",
       "      <td>centrala</td>\n",
       "      <td>JJ</td>\n",
       "      <td>O</td>\n",
       "      <td>NaN</td>\n",
       "      <td>[▁centrala]</td>\n",
       "      <td>[B-O]</td>\n",
       "    </tr>\n",
       "    <tr>\n",
       "      <th>383</th>\n",
       "      <td>22</td>\n",
       "      <td>delar</td>\n",
       "      <td>NN</td>\n",
       "      <td>O</td>\n",
       "      <td>NaN</td>\n",
       "      <td>[▁delar]</td>\n",
       "      <td>[B-O]</td>\n",
       "    </tr>\n",
       "    <tr>\n",
       "      <th>384</th>\n",
       "      <td>22</td>\n",
       "      <td>.</td>\n",
       "      <td>MAD</td>\n",
       "      <td>O</td>\n",
       "      <td>NaN</td>\n",
       "      <td>[▁, .]</td>\n",
       "      <td>[B-O, I-O]</td>\n",
       "    </tr>\n",
       "  </tbody>\n",
       "</table>\n",
       "</div>"
      ],
      "text/plain": [
       "     sentence_index            word_name word_pos word_type word_subtype  \\\n",
       "361              22                   En       DT         O          NaN   \n",
       "362              22             talesman       NN         O          NaN   \n",
       "363              22                  vid       PP         O          NaN   \n",
       "365              22          presscenter       NN         O          NaN   \n",
       "366              22                    i       PP         O          NaN   \n",
       "367              22              Vilnius      NaN       LOC          PPL   \n",
       "368              22           bekräftade       VB         O          NaN   \n",
       "369              22    på söndagskvällen      NaN       TME          DAT   \n",
       "370              22                    i       PP         O          NaN   \n",
       "371              22                  ett       DT         O          NaN   \n",
       "372              22        telefonsamtal       NN         O          NaN   \n",
       "373              22                  med       PP         O          NaN   \n",
       "375              22                  att       SN         O          NaN   \n",
       "376              22  stridsvagnskolonner       NN         O          NaN   \n",
       "377              22          under dagen      NaN       TME          DAT   \n",
       "378              22                synts       VB         O          NaN   \n",
       "379              22                rulla       VB         O          NaN   \n",
       "380              22                genom       PP         O          NaN   \n",
       "381              22              stadens       NN         O          NaN   \n",
       "382              22             centrala       JJ         O          NaN   \n",
       "383              22                delar       NN         O          NaN   \n",
       "384              22                    .      MAD         O          NaN   \n",
       "\n",
       "                        wordpiece            labelpiece  \n",
       "361                         [▁En]                 [B-O]  \n",
       "362                   [▁talesman]                 [B-O]  \n",
       "363                        [▁vid]                 [B-O]  \n",
       "365              [▁press, center]            [B-O, I-O]  \n",
       "366                          [▁i]                 [B-O]  \n",
       "367                  [▁Vil, nius]        [B-LOC, I-LOC]  \n",
       "368                 [▁bekräftade]                 [B-O]  \n",
       "369        [▁på, ▁söndagskvällen]        [B-TME, I-TME]  \n",
       "370                          [▁i]                 [B-O]  \n",
       "371                        [▁ett]                 [B-O]  \n",
       "372              [▁telefonsamtal]                 [B-O]  \n",
       "373                        [▁med]                 [B-O]  \n",
       "375                        [▁att]                 [B-O]  \n",
       "376  [▁stridsvagn, skol, on, ner]  [B-O, I-O, I-O, I-O]  \n",
       "377              [▁under, ▁dagen]        [B-TME, I-TME]  \n",
       "378                      [▁synts]                 [B-O]  \n",
       "379                      [▁rulla]                 [B-O]  \n",
       "380                      [▁genom]                 [B-O]  \n",
       "381                    [▁stadens]                 [B-O]  \n",
       "382                   [▁centrala]                 [B-O]  \n",
       "383                      [▁delar]                 [B-O]  \n",
       "384                        [▁, .]            [B-O, I-O]  "
      ]
     },
     "execution_count": 137,
     "metadata": {},
     "output_type": "execute_result"
    }
   ],
   "source": [
    "# Let's have a look at a random sentence\n",
    "data[data['sentence_index'] == 22]"
   ]
  },
  {
   "cell_type": "markdown",
   "metadata": {},
   "source": [
    "## Group tokens and labels by sentence index. Add special tokens\n",
    "The special tokens are [CLS] and [SEP], used as the very first and last token in a sentence. [CLS], token1, token2... tokenn, [SEP]\n",
    "\n",
    "Their use seem to be limited in NER - CLS for example will be used to store an embedding for the whole sentence - but let's add them anyway since everyone else does."
   ]
  },
  {
   "cell_type": "code",
   "execution_count": 124,
   "metadata": {},
   "outputs": [],
   "source": [
    "# It seems we're only gonna need the wordpieces and labelpieces\n",
    "subset = data[['sentence_index','wordpiece', 'labelpiece']].copy()\n",
    "\n",
    "#Group by sentence\n",
    "sentence_groupings = subset.groupby('sentence_index')"
   ]
  },
  {
   "cell_type": "code",
   "execution_count": 125,
   "metadata": {},
   "outputs": [],
   "source": [
    "sentence_groups = []\n",
    "\n",
    "#Get each group and put it into a list instead of a dict, for my own convenience\n",
    "for sentence_index in sentence_groupings.groups.keys():\n",
    "    # Get the data\n",
    "    sentence_group = sentence_groupings.get_group(sentence_index)\n",
    "    sentence_groups.append(sentence_group)"
   ]
  },
  {
   "cell_type": "code",
   "execution_count": 126,
   "metadata": {},
   "outputs": [
    {
     "ename": "KeyboardInterrupt",
     "evalue": "",
     "output_type": "error",
     "traceback": [
      "\u001b[0;31m---------------------------------------------------------------------------\u001b[0m",
      "\u001b[0;31mKeyboardInterrupt\u001b[0m                         Traceback (most recent call last)",
      "\u001b[0;32m<ipython-input-126-d71c686b4292>\u001b[0m in \u001b[0;36m<module>\u001b[0;34m\u001b[0m\n\u001b[1;32m     15\u001b[0m \u001b[0;34m\u001b[0m\u001b[0m\n\u001b[1;32m     16\u001b[0m     \u001b[0;32mfor\u001b[0m \u001b[0mword\u001b[0m \u001b[0;32min\u001b[0m \u001b[0mrange\u001b[0m\u001b[0;34m(\u001b[0m\u001b[0msentence\u001b[0m\u001b[0;34m.\u001b[0m\u001b[0mshape\u001b[0m\u001b[0;34m[\u001b[0m\u001b[0;36m0\u001b[0m\u001b[0;34m]\u001b[0m\u001b[0;34m)\u001b[0m\u001b[0;34m:\u001b[0m\u001b[0;34m\u001b[0m\u001b[0;34m\u001b[0m\u001b[0m\n\u001b[0;32m---> 17\u001b[0;31m         \u001b[0mrow\u001b[0m \u001b[0;34m=\u001b[0m \u001b[0msentence\u001b[0m\u001b[0;34m.\u001b[0m\u001b[0miloc\u001b[0m\u001b[0;34m[\u001b[0m\u001b[0mword\u001b[0m\u001b[0;34m]\u001b[0m\u001b[0;34m\u001b[0m\u001b[0;34m\u001b[0m\u001b[0m\n\u001b[0m\u001b[1;32m     18\u001b[0m         \u001b[0mtokenized_labels\u001b[0m\u001b[0;34m.\u001b[0m\u001b[0mextend\u001b[0m\u001b[0;34m(\u001b[0m\u001b[0mrow\u001b[0m\u001b[0;34m.\u001b[0m\u001b[0mlabelpiece\u001b[0m\u001b[0;34m)\u001b[0m\u001b[0;34m\u001b[0m\u001b[0;34m\u001b[0m\u001b[0m\n\u001b[1;32m     19\u001b[0m         \u001b[0mtokenized_sentence\u001b[0m\u001b[0;34m.\u001b[0m\u001b[0mextend\u001b[0m\u001b[0;34m(\u001b[0m\u001b[0mrow\u001b[0m\u001b[0;34m.\u001b[0m\u001b[0mwordpiece\u001b[0m\u001b[0;34m)\u001b[0m\u001b[0;34m\u001b[0m\u001b[0;34m\u001b[0m\u001b[0m\n",
      "\u001b[0;32m~/git/thesis/.thesis/lib/python3.7/site-packages/pandas/core/indexing.py\u001b[0m in \u001b[0;36m__getitem__\u001b[0;34m(self, key)\u001b[0m\n\u001b[1;32m   1766\u001b[0m \u001b[0;34m\u001b[0m\u001b[0m\n\u001b[1;32m   1767\u001b[0m             \u001b[0mmaybe_callable\u001b[0m \u001b[0;34m=\u001b[0m \u001b[0mcom\u001b[0m\u001b[0;34m.\u001b[0m\u001b[0mapply_if_callable\u001b[0m\u001b[0;34m(\u001b[0m\u001b[0mkey\u001b[0m\u001b[0;34m,\u001b[0m \u001b[0mself\u001b[0m\u001b[0;34m.\u001b[0m\u001b[0mobj\u001b[0m\u001b[0;34m)\u001b[0m\u001b[0;34m\u001b[0m\u001b[0;34m\u001b[0m\u001b[0m\n\u001b[0;32m-> 1768\u001b[0;31m             \u001b[0;32mreturn\u001b[0m \u001b[0mself\u001b[0m\u001b[0;34m.\u001b[0m\u001b[0m_getitem_axis\u001b[0m\u001b[0;34m(\u001b[0m\u001b[0mmaybe_callable\u001b[0m\u001b[0;34m,\u001b[0m \u001b[0maxis\u001b[0m\u001b[0;34m=\u001b[0m\u001b[0maxis\u001b[0m\u001b[0;34m)\u001b[0m\u001b[0;34m\u001b[0m\u001b[0;34m\u001b[0m\u001b[0m\n\u001b[0m\u001b[1;32m   1769\u001b[0m \u001b[0;34m\u001b[0m\u001b[0m\n\u001b[1;32m   1770\u001b[0m     \u001b[0;32mdef\u001b[0m \u001b[0m_is_scalar_access\u001b[0m\u001b[0;34m(\u001b[0m\u001b[0mself\u001b[0m\u001b[0;34m,\u001b[0m \u001b[0mkey\u001b[0m\u001b[0;34m:\u001b[0m \u001b[0mTuple\u001b[0m\u001b[0;34m)\u001b[0m\u001b[0;34m:\u001b[0m\u001b[0;34m\u001b[0m\u001b[0;34m\u001b[0m\u001b[0m\n",
      "\u001b[0;32m~/git/thesis/.thesis/lib/python3.7/site-packages/pandas/core/indexing.py\u001b[0m in \u001b[0;36m_getitem_axis\u001b[0;34m(self, key, axis)\u001b[0m\n\u001b[1;32m   2138\u001b[0m             \u001b[0mself\u001b[0m\u001b[0;34m.\u001b[0m\u001b[0m_validate_integer\u001b[0m\u001b[0;34m(\u001b[0m\u001b[0mkey\u001b[0m\u001b[0;34m,\u001b[0m \u001b[0maxis\u001b[0m\u001b[0;34m)\u001b[0m\u001b[0;34m\u001b[0m\u001b[0;34m\u001b[0m\u001b[0m\n\u001b[1;32m   2139\u001b[0m \u001b[0;34m\u001b[0m\u001b[0m\n\u001b[0;32m-> 2140\u001b[0;31m             \u001b[0;32mreturn\u001b[0m \u001b[0mself\u001b[0m\u001b[0;34m.\u001b[0m\u001b[0m_get_loc\u001b[0m\u001b[0;34m(\u001b[0m\u001b[0mkey\u001b[0m\u001b[0;34m,\u001b[0m \u001b[0maxis\u001b[0m\u001b[0;34m=\u001b[0m\u001b[0maxis\u001b[0m\u001b[0;34m)\u001b[0m\u001b[0;34m\u001b[0m\u001b[0;34m\u001b[0m\u001b[0m\n\u001b[0m\u001b[1;32m   2141\u001b[0m \u001b[0;34m\u001b[0m\u001b[0m\n\u001b[1;32m   2142\u001b[0m     \u001b[0;31m# raise_missing is included for compat with the parent class signature\u001b[0m\u001b[0;34m\u001b[0m\u001b[0;34m\u001b[0m\u001b[0;34m\u001b[0m\u001b[0m\n",
      "\u001b[0;32m~/git/thesis/.thesis/lib/python3.7/site-packages/pandas/core/indexing.py\u001b[0m in \u001b[0;36m_get_loc\u001b[0;34m(self, key, axis)\u001b[0m\n\u001b[1;32m    626\u001b[0m \u001b[0;34m\u001b[0m\u001b[0m\n\u001b[1;32m    627\u001b[0m     \u001b[0;32mdef\u001b[0m \u001b[0m_get_loc\u001b[0m\u001b[0;34m(\u001b[0m\u001b[0mself\u001b[0m\u001b[0;34m,\u001b[0m \u001b[0mkey\u001b[0m\u001b[0;34m:\u001b[0m \u001b[0mint\u001b[0m\u001b[0;34m,\u001b[0m \u001b[0maxis\u001b[0m\u001b[0;34m:\u001b[0m \u001b[0mint\u001b[0m\u001b[0;34m)\u001b[0m\u001b[0;34m:\u001b[0m\u001b[0;34m\u001b[0m\u001b[0;34m\u001b[0m\u001b[0m\n\u001b[0;32m--> 628\u001b[0;31m         \u001b[0;32mreturn\u001b[0m \u001b[0mself\u001b[0m\u001b[0;34m.\u001b[0m\u001b[0mobj\u001b[0m\u001b[0;34m.\u001b[0m\u001b[0m_ixs\u001b[0m\u001b[0;34m(\u001b[0m\u001b[0mkey\u001b[0m\u001b[0;34m,\u001b[0m \u001b[0maxis\u001b[0m\u001b[0;34m=\u001b[0m\u001b[0maxis\u001b[0m\u001b[0;34m)\u001b[0m\u001b[0;34m\u001b[0m\u001b[0;34m\u001b[0m\u001b[0m\n\u001b[0m\u001b[1;32m    629\u001b[0m \u001b[0;34m\u001b[0m\u001b[0m\n\u001b[1;32m    630\u001b[0m     \u001b[0;32mdef\u001b[0m \u001b[0m_slice\u001b[0m\u001b[0;34m(\u001b[0m\u001b[0mself\u001b[0m\u001b[0;34m,\u001b[0m \u001b[0mobj\u001b[0m\u001b[0;34m,\u001b[0m \u001b[0maxis\u001b[0m\u001b[0;34m:\u001b[0m \u001b[0mint\u001b[0m\u001b[0;34m,\u001b[0m \u001b[0mkind\u001b[0m\u001b[0;34m=\u001b[0m\u001b[0;32mNone\u001b[0m\u001b[0;34m)\u001b[0m\u001b[0;34m:\u001b[0m\u001b[0;34m\u001b[0m\u001b[0;34m\u001b[0m\u001b[0m\n",
      "\u001b[0;32m~/git/thesis/.thesis/lib/python3.7/site-packages/pandas/core/frame.py\u001b[0m in \u001b[0;36m_ixs\u001b[0;34m(self, i, axis)\u001b[0m\n\u001b[1;32m   2741\u001b[0m                 \u001b[0mindex\u001b[0m\u001b[0;34m=\u001b[0m\u001b[0mself\u001b[0m\u001b[0;34m.\u001b[0m\u001b[0mcolumns\u001b[0m\u001b[0;34m,\u001b[0m\u001b[0;34m\u001b[0m\u001b[0;34m\u001b[0m\u001b[0m\n\u001b[1;32m   2742\u001b[0m                 \u001b[0mname\u001b[0m\u001b[0;34m=\u001b[0m\u001b[0mself\u001b[0m\u001b[0;34m.\u001b[0m\u001b[0mindex\u001b[0m\u001b[0;34m[\u001b[0m\u001b[0mi\u001b[0m\u001b[0;34m]\u001b[0m\u001b[0;34m,\u001b[0m\u001b[0;34m\u001b[0m\u001b[0;34m\u001b[0m\u001b[0m\n\u001b[0;32m-> 2743\u001b[0;31m                 \u001b[0mdtype\u001b[0m\u001b[0;34m=\u001b[0m\u001b[0mnew_values\u001b[0m\u001b[0;34m.\u001b[0m\u001b[0mdtype\u001b[0m\u001b[0;34m,\u001b[0m\u001b[0;34m\u001b[0m\u001b[0;34m\u001b[0m\u001b[0m\n\u001b[0m\u001b[1;32m   2744\u001b[0m             )\n\u001b[1;32m   2745\u001b[0m             \u001b[0mresult\u001b[0m\u001b[0;34m.\u001b[0m\u001b[0m_set_is_copy\u001b[0m\u001b[0;34m(\u001b[0m\u001b[0mself\u001b[0m\u001b[0;34m,\u001b[0m \u001b[0mcopy\u001b[0m\u001b[0;34m=\u001b[0m\u001b[0mcopy\u001b[0m\u001b[0;34m)\u001b[0m\u001b[0;34m\u001b[0m\u001b[0;34m\u001b[0m\u001b[0m\n",
      "\u001b[0;32m~/git/thesis/.thesis/lib/python3.7/site-packages/pandas/core/series.py\u001b[0m in \u001b[0;36m__init__\u001b[0;34m(self, data, index, dtype, name, copy, fastpath)\u001b[0m\n\u001b[1;32m    307\u001b[0m                 \u001b[0mdata\u001b[0m \u001b[0;34m=\u001b[0m \u001b[0mSingleBlockManager\u001b[0m\u001b[0;34m(\u001b[0m\u001b[0mdata\u001b[0m\u001b[0;34m,\u001b[0m \u001b[0mindex\u001b[0m\u001b[0;34m,\u001b[0m \u001b[0mfastpath\u001b[0m\u001b[0;34m=\u001b[0m\u001b[0;32mTrue\u001b[0m\u001b[0;34m)\u001b[0m\u001b[0;34m\u001b[0m\u001b[0;34m\u001b[0m\u001b[0m\n\u001b[1;32m    308\u001b[0m \u001b[0;34m\u001b[0m\u001b[0m\n\u001b[0;32m--> 309\u001b[0;31m         \u001b[0mgeneric\u001b[0m\u001b[0;34m.\u001b[0m\u001b[0mNDFrame\u001b[0m\u001b[0;34m.\u001b[0m\u001b[0m__init__\u001b[0m\u001b[0;34m(\u001b[0m\u001b[0mself\u001b[0m\u001b[0;34m,\u001b[0m \u001b[0mdata\u001b[0m\u001b[0;34m,\u001b[0m \u001b[0mfastpath\u001b[0m\u001b[0;34m=\u001b[0m\u001b[0;32mTrue\u001b[0m\u001b[0;34m)\u001b[0m\u001b[0;34m\u001b[0m\u001b[0;34m\u001b[0m\u001b[0m\n\u001b[0m\u001b[1;32m    310\u001b[0m         \u001b[0mself\u001b[0m\u001b[0;34m.\u001b[0m\u001b[0mname\u001b[0m \u001b[0;34m=\u001b[0m \u001b[0mname\u001b[0m\u001b[0;34m\u001b[0m\u001b[0;34m\u001b[0m\u001b[0m\n\u001b[1;32m    311\u001b[0m         \u001b[0mself\u001b[0m\u001b[0;34m.\u001b[0m\u001b[0m_set_axis\u001b[0m\u001b[0;34m(\u001b[0m\u001b[0;36m0\u001b[0m\u001b[0;34m,\u001b[0m \u001b[0mindex\u001b[0m\u001b[0;34m,\u001b[0m \u001b[0mfastpath\u001b[0m\u001b[0;34m=\u001b[0m\u001b[0;32mTrue\u001b[0m\u001b[0;34m)\u001b[0m\u001b[0;34m\u001b[0m\u001b[0;34m\u001b[0m\u001b[0m\n",
      "\u001b[0;32m~/git/thesis/.thesis/lib/python3.7/site-packages/pandas/core/generic.py\u001b[0m in \u001b[0;36m__init__\u001b[0;34m(self, data, axes, copy, dtype, attrs, fastpath)\u001b[0m\n\u001b[1;32m    210\u001b[0m         \u001b[0mobject\u001b[0m\u001b[0;34m.\u001b[0m\u001b[0m__setattr__\u001b[0m\u001b[0;34m(\u001b[0m\u001b[0mself\u001b[0m\u001b[0;34m,\u001b[0m \u001b[0;34m\"_is_copy\"\u001b[0m\u001b[0;34m,\u001b[0m \u001b[0;32mNone\u001b[0m\u001b[0;34m)\u001b[0m\u001b[0;34m\u001b[0m\u001b[0;34m\u001b[0m\u001b[0m\n\u001b[1;32m    211\u001b[0m         \u001b[0mobject\u001b[0m\u001b[0;34m.\u001b[0m\u001b[0m__setattr__\u001b[0m\u001b[0;34m(\u001b[0m\u001b[0mself\u001b[0m\u001b[0;34m,\u001b[0m \u001b[0;34m\"_data\"\u001b[0m\u001b[0;34m,\u001b[0m \u001b[0mdata\u001b[0m\u001b[0;34m)\u001b[0m\u001b[0;34m\u001b[0m\u001b[0;34m\u001b[0m\u001b[0m\n\u001b[0;32m--> 212\u001b[0;31m         \u001b[0mobject\u001b[0m\u001b[0;34m.\u001b[0m\u001b[0m__setattr__\u001b[0m\u001b[0;34m(\u001b[0m\u001b[0mself\u001b[0m\u001b[0;34m,\u001b[0m \u001b[0;34m\"_item_cache\"\u001b[0m\u001b[0;34m,\u001b[0m \u001b[0;34m{\u001b[0m\u001b[0;34m}\u001b[0m\u001b[0;34m)\u001b[0m\u001b[0;34m\u001b[0m\u001b[0;34m\u001b[0m\u001b[0m\n\u001b[0m\u001b[1;32m    213\u001b[0m         \u001b[0;32mif\u001b[0m \u001b[0mattrs\u001b[0m \u001b[0;32mis\u001b[0m \u001b[0;32mNone\u001b[0m\u001b[0;34m:\u001b[0m\u001b[0;34m\u001b[0m\u001b[0;34m\u001b[0m\u001b[0m\n\u001b[1;32m    214\u001b[0m             \u001b[0mattrs\u001b[0m \u001b[0;34m=\u001b[0m \u001b[0;34m{\u001b[0m\u001b[0;34m}\u001b[0m\u001b[0;34m\u001b[0m\u001b[0;34m\u001b[0m\u001b[0m\n",
      "\u001b[0;31mKeyboardInterrupt\u001b[0m: "
     ]
    }
   ],
   "source": [
    "#We obtain one element for each sentence. This element is the word-piece sentence\n",
    "#And of course, a corresponding label\n",
    "# This takes a while\n",
    "wordpiece_sentences = []\n",
    "wordpiece_labels = []\n",
    "\n",
    "for sentence in sentence_groups:\n",
    "\n",
    "    tokenized_sentence = []\n",
    "    tokenized_labels = []\n",
    "    \n",
    "    #Add CLS token\n",
    "    tokenized_sentence.append('[CLS]')\n",
    "    tokenized_labels.append('[CLS]')\n",
    "\n",
    "    for word in range(sentence.shape[0]):\n",
    "        row = sentence.iloc[word]\n",
    "        tokenized_labels.extend(row.labelpiece)\n",
    "        tokenized_sentence.extend(row.wordpiece)\n",
    "    \n",
    "    #Add SEP token\n",
    "    tokenized_sentence.append('[SEP]')\n",
    "    tokenized_labels.append('[SEP]')\n",
    "    \n",
    "    wordpiece_sentences.append(tokenized_sentence)\n",
    "    wordpiece_labels.append(tokenized_labels)\n"
   ]
  },
  {
   "cell_type": "markdown",
   "metadata": {},
   "source": [
    "### check for errors"
   ]
  },
  {
   "cell_type": "code",
   "execution_count": null,
   "metadata": {},
   "outputs": [],
   "source": [
    "# Count the length of all sequences and corresponding labels, they should match\n",
    "error_sentences = []\n",
    "for i in range(len(wordpiece_labels)):\n",
    "    labelcount = len(wordpiece_labels[i])\n",
    "    sentencecount = len(wordpiece_sentences[i])\n",
    "    if labelcount != sentencecount:\n",
    "        error_sentences.append(i)\n",
    "        \n",
    "\n",
    "print(f\"There are length errors in {len(error_sentences)/len(wordpiece_labels)} percent of sentences\")"
   ]
  },
  {
   "cell_type": "code",
   "execution_count": null,
   "metadata": {},
   "outputs": [],
   "source": [
    "def look_at_error_index(index, error_sentences):\n",
    "    sentence_to_look_at = index\n",
    "    error_index = error_sentences[sentence_to_look_at]\n",
    "\n",
    "    print(wordpiece_sentences[error_index])\n",
    "    print(wordpiece_labels[error_index])\n",
    "    # What is actually wrong?\n",
    "    for i in range(len(wordpiece_sentences[error_index])):\n",
    "        print(wordpiece_sentences[error_index][i] + \" : \" + wordpiece_labels[error_index][i])\n",
    "\n",
    "    #Look at the original sentences\n",
    "    data[data['sentence_index'] == error_index +1]\n"
   ]
  },
  {
   "cell_type": "code",
   "execution_count": 20,
   "metadata": {},
   "outputs": [],
   "source": [
    "# Notes on observed errors\n",
    "# \\n has wordtype person (sentence 55). We go back to fix that"
   ]
  },
  {
   "cell_type": "markdown",
   "metadata": {},
   "source": [
    "## Convert to dataframes, store for later use"
   ]
  },
  {
   "cell_type": "code",
   "execution_count": null,
   "metadata": {},
   "outputs": [],
   "source": [
    "# Move to a dataframe, since those pleas me\n",
    "wordpiece_sentences_df = pd.DataFrame(wordpiece_sentences)\n",
    "wordpiece_labels_df = pd.DataFrame(wordpiece_labels)"
   ]
  },
  {
   "cell_type": "code",
   "execution_count": null,
   "metadata": {},
   "outputs": [],
   "source": [
    "# Store them for later use\n",
    "wordpiece_sentences_df.to_pickle('../data/wordpiece_sentences_df')\n",
    "wordpiece_labels_df.to_pickle('../data/wordpiece_labels_df')"
   ]
  },
  {
   "cell_type": "code",
   "execution_count": null,
   "metadata": {},
   "outputs": [],
   "source": [
    "import pandas as pd\n",
    "sentences = pd.read_pickle('../data/wordpiece_sentences_df')\n",
    "labels = pd.read_pickle('../data/wordpiece_labels_df')"
   ]
  },
  {
   "cell_type": "code",
   "execution_count": null,
   "metadata": {},
   "outputs": [],
   "source": [
    "display(sentences.head())\n",
    "display(labels.head())"
   ]
  },
  {
   "cell_type": "markdown",
   "metadata": {},
   "source": [
    "## Replace None with \\<pad\\>\n"
   ]
  },
  {
   "cell_type": "code",
   "execution_count": null,
   "metadata": {},
   "outputs": [],
   "source": [
    "# The tokenizer can't deal with None. We replace it with '<pad>', which the albert tokenizer encodes as padding by encoding it as 0\n",
    "# This will mean that the albert model will ignore these items, which is what we want\n",
    "print(tokenizer.encode('<pad>'))\n",
    "sentences.fillna('<pad>', inplace=True)\n",
    "labels.fillna('<pad>', inplace=True)"
   ]
  },
  {
   "cell_type": "code",
   "execution_count": null,
   "metadata": {},
   "outputs": [],
   "source": []
  },
  {
   "cell_type": "markdown",
   "metadata": {},
   "source": [
    "## Expand tokenizer vocabulary to be able to deal with our tags\n",
    "The tags aren't native to swedish ner - the model won't have a representation for B-PER for example.\n",
    "\n",
    "So we add those manually"
   ]
  },
  {
   "cell_type": "code",
   "execution_count": null,
   "metadata": {},
   "outputs": [],
   "source": [
    "# Grab all the tags we've created\n",
    "label_set = set()\n",
    "for column in labels.columns:\n",
    "    unique_labels = labels[column].unique()\n",
    "    for label in unique_labels:\n",
    "        label_set.add(label)\n",
    "label_list = list(label_set)\n",
    "\n",
    "print(f\"We're working with labels {label_list}\")"
   ]
  },
  {
   "cell_type": "code",
   "execution_count": null,
   "metadata": {},
   "outputs": [],
   "source": [
    "print(\"Testing how the tokenizer encodes our labels right now\")\n",
    "encoded = tokenizer.encode(label_list, add_special_tokens=False)\n",
    "print(f\"Encoded version of labels with current tokenizer {encoded}\")\n",
    "decoded = tokenizer.decode(encoded)\n",
    "print(f\"Decoded version of labels with current tokenizer {decoded}\")\n",
    "print(\"Yeah that's not gonna work\")"
   ]
  },
  {
   "cell_type": "code",
   "execution_count": null,
   "metadata": {},
   "outputs": [],
   "source": [
    "#Add them\n",
    "tokenizer.add_tokens(label_list)\n",
    "print(\"Testing how the tokenizer encodes our labels right now\")\n",
    "encoded = tokenizer.encode(label_list, add_special_tokens=False)\n",
    "print(f\"Encoded version of labels with current tokenizer {encoded}\")\n",
    "decoded = tokenizer.decode(encoded)\n",
    "print(f\"Decoded version of labels with current tokenizer {decoded}\")\n",
    "print(\"Yeah that's  gonna work\")\n"
   ]
  },
  {
   "cell_type": "code",
   "execution_count": null,
   "metadata": {},
   "outputs": [],
   "source": [
    "import numpy as np\n",
    "# Let's save the labels as well\n",
    "np.save('../data/label_list', label_list)"
   ]
  },
  {
   "cell_type": "markdown",
   "metadata": {},
   "source": [
    "# An important note\n",
    "Adjusting the vocabulary of the tokenizer does not translate to the albert model being able to deal with that, we need to tell the model that we've adjusted the amount of embeddings with\n",
    "\n",
    "model.resize_token_embeddings(len(tokenizer))\n",
    "\n",
    "After updating it"
   ]
  },
  {
   "cell_type": "markdown",
   "metadata": {},
   "source": [
    "## Check how the conversion to integers looks right now\n",
    "Integer conversion is needed because the model won't work with charcters - it works with numbers.\n",
    "\n",
    "So we want each token to be represented by an id"
   ]
  },
  {
   "cell_type": "code",
   "execution_count": null,
   "metadata": {},
   "outputs": [],
   "source": [
    "def encode_without_special_symbol(token):\n",
    "    \"\"\"\n",
    "    I'm not savy enough to know how to apply the function with only some arguments in the pandas mapping.\n",
    "    I\"m sure there is a way.\n",
    "    But this is fast\n",
    "    \n",
    "    Encodes a single token without special tokens added\n",
    "    \"\"\"\n",
    "    return tokenizer.encode(token, add_special_tokens=False)"
   ]
  },
  {
   "cell_type": "markdown",
   "metadata": {},
   "source": [
    "### It seems like some tokens are split into multiple tokens. Bother, let's have a look at why that is."
   ]
  },
  {
   "cell_type": "code",
   "execution_count": 31,
   "metadata": {},
   "outputs": [
    {
     "data": {
      "text/plain": [
       "[2, 783, 85, 625, 3]"
      ]
     },
     "execution_count": 31,
     "metadata": {},
     "output_type": "execute_result"
    }
   ],
   "source": [
    "tokenizer.encode('sakademin')"
   ]
  },
  {
   "cell_type": "code",
   "execution_count": 32,
   "metadata": {},
   "outputs": [
    {
     "data": {
      "text/plain": [
       "'sakademin'"
      ]
     },
     "execution_count": 32,
     "metadata": {},
     "output_type": "execute_result"
    }
   ],
   "source": [
    "tokenizer.decode([783, 85, 625])"
   ]
  },
  {
   "cell_type": "code",
   "execution_count": 33,
   "metadata": {},
   "outputs": [
    {
     "data": {
      "text/plain": [
       "'sakade'"
      ]
     },
     "execution_count": 33,
     "metadata": {},
     "output_type": "execute_result"
    }
   ],
   "source": [
    "tokenizer.decode([783, 85])"
   ]
  },
  {
   "cell_type": "code",
   "execution_count": 34,
   "metadata": {},
   "outputs": [
    {
     "data": {
      "text/plain": [
       "'min'"
      ]
     },
     "execution_count": 34,
     "metadata": {},
     "output_type": "execute_result"
    }
   ],
   "source": [
    "tokenizer.decode([625])"
   ]
  },
  {
   "cell_type": "markdown",
   "metadata": {},
   "source": [
    "Okay, so apparently the encode version isn't the best one, it actually performs tokenization by itself. Since I've already split into tokens - though apparently not the same way as this function would - I have another one to use\n"
   ]
  },
  {
   "cell_type": "code",
   "execution_count": 35,
   "metadata": {},
   "outputs": [
    {
     "data": {
      "text/plain": [
       "31365"
      ]
     },
     "execution_count": 35,
     "metadata": {},
     "output_type": "execute_result"
    }
   ],
   "source": [
    "tokenizer.convert_tokens_to_ids('sakademin')"
   ]
  },
  {
   "cell_type": "code",
   "execution_count": null,
   "metadata": {},
   "outputs": [],
   "source": [
    "# Yes, this looks better.\n",
    "# The conversion takes a while though\n",
    "sentences = sentences.applymap(tokenizer.convert_tokens_to_ids)\n",
    "labels = labels.applymap(tokenizer.convert_tokens_to_ids)\n"
   ]
  },
  {
   "cell_type": "markdown",
   "metadata": {},
   "source": [
    "### Create attention masks\n",
    "Attention is 0 if the token is entirely unimportant. This is useful for dealing with padding, and is part of the input to the albert model"
   ]
  },
  {
   "cell_type": "code",
   "execution_count": null,
   "metadata": {},
   "outputs": [],
   "source": [
    "def attentionmapping(x):\n",
    "    if x != 0:\n",
    "        return 1\n",
    "    else:\n",
    "        return 0"
   ]
  },
  {
   "cell_type": "code",
   "execution_count": null,
   "metadata": {},
   "outputs": [],
   "source": [
    "attention = sentences.applymap(attentionmapping)"
   ]
  },
  {
   "cell_type": "code",
   "execution_count": 39,
   "metadata": {},
   "outputs": [],
   "source": [
    "# Store them for later use\n",
    "#sentences.to_pickle('../data/sentence_ints')\n",
    "#labels.to_pickle('../data/label_ints')\n",
    "#attention.to_pickle('../data/attention_ints')"
   ]
  },
  {
   "cell_type": "code",
   "execution_count": 1,
   "metadata": {},
   "outputs": [
    {
     "data": {
      "text/plain": [
       "30"
      ]
     },
     "execution_count": 1,
     "metadata": {},
     "output_type": "execute_result"
    }
   ],
   "source": [
    "# Took a break, don't want to run through all the previous code\n",
    "import pandas as pd\n",
    "import numpy as np\n",
    "from transformers import AutoTokenizer\n",
    "import seaborn as sns\n",
    "import matplotlib.pyplot as plt\n",
    "def restart():\n",
    "    tokenizer = AutoTokenizer.from_pretrained(\"KB/albert-base-swedish-cased-alpha\")\n",
    "    sentences = np.load('../data/sentence_ints.npy')\n",
    "    labels = np.load('../data/label_ints.npy')\n",
    "    attentions = np.load('../data/attention_ints.npy')\n",
    "    label_list = np.load('../data/label_list.npy')\n",
    "    return tokenizer, sentences, labels, attentions, label_list\n",
    "tokenizer, sentences, labels, attentions, label_list = restart()\n",
    "\n",
    "tokenizer.add_tokens(label_list.tolist())"
   ]
  },
  {
   "cell_type": "code",
   "execution_count": 4,
   "metadata": {},
   "outputs": [
    {
     "data": {
      "text/plain": [
       "(74165, 100)"
      ]
     },
     "execution_count": 4,
     "metadata": {},
     "output_type": "execute_result"
    }
   ],
   "source": []
  },
  {
   "cell_type": "markdown",
   "metadata": {},
   "source": [
    "## Check sentence lengths\n",
    "Right now we're working with a sentence length such that each sentence fits. But having a 400+ dimensional vector will take some computing power, it might be worth reducing it\n"
   ]
  },
  {
   "cell_type": "code",
   "execution_count": 19,
   "metadata": {},
   "outputs": [],
   "source": [
    "s = pd.read_pickle('../data/wordpiece_sentences_df')\n",
    "lengthcount = s.count(axis = 1)"
   ]
  },
  {
   "cell_type": "code",
   "execution_count": 95,
   "metadata": {},
   "outputs": [
    {
     "data": {
      "text/html": [
       "<div>\n",
       "<style scoped>\n",
       "    .dataframe tbody tr th:only-of-type {\n",
       "        vertical-align: middle;\n",
       "    }\n",
       "\n",
       "    .dataframe tbody tr th {\n",
       "        vertical-align: top;\n",
       "    }\n",
       "\n",
       "    .dataframe thead th {\n",
       "        text-align: right;\n",
       "    }\n",
       "</style>\n",
       "<table border=\"1\" class=\"dataframe\">\n",
       "  <thead>\n",
       "    <tr style=\"text-align: right;\">\n",
       "      <th></th>\n",
       "      <th>0</th>\n",
       "    </tr>\n",
       "  </thead>\n",
       "  <tbody>\n",
       "    <tr>\n",
       "      <th>count</th>\n",
       "      <td>74165.000000</td>\n",
       "    </tr>\n",
       "    <tr>\n",
       "      <th>mean</th>\n",
       "      <td>21.725329</td>\n",
       "    </tr>\n",
       "    <tr>\n",
       "      <th>std</th>\n",
       "      <td>13.056655</td>\n",
       "    </tr>\n",
       "    <tr>\n",
       "      <th>min</th>\n",
       "      <td>3.000000</td>\n",
       "    </tr>\n",
       "    <tr>\n",
       "      <th>25%</th>\n",
       "      <td>13.000000</td>\n",
       "    </tr>\n",
       "    <tr>\n",
       "      <th>50%</th>\n",
       "      <td>19.000000</td>\n",
       "    </tr>\n",
       "    <tr>\n",
       "      <th>75%</th>\n",
       "      <td>28.000000</td>\n",
       "    </tr>\n",
       "    <tr>\n",
       "      <th>max</th>\n",
       "      <td>404.000000</td>\n",
       "    </tr>\n",
       "  </tbody>\n",
       "</table>\n",
       "</div>"
      ],
      "text/plain": [
       "                  0\n",
       "count  74165.000000\n",
       "mean      21.725329\n",
       "std       13.056655\n",
       "min        3.000000\n",
       "25%       13.000000\n",
       "50%       19.000000\n",
       "75%       28.000000\n",
       "max      404.000000"
      ]
     },
     "execution_count": 95,
     "metadata": {},
     "output_type": "execute_result"
    }
   ],
   "source": [
    "pd.DataFrame(lengthcount).describe()"
   ]
  },
  {
   "cell_type": "code",
   "execution_count": 114,
   "metadata": {},
   "outputs": [
    {
     "data": {
      "image/png": "[encoded data removed]",
      "text/plain": [
       "<Figure size 1080x360 with 1 Axes>"
      ]
     },
     "metadata": {},
     "output_type": "display_data"
    }
   ],
   "source": [
    "sns.set(font_scale=1.8)\n",
    "fig, ax = plt.subplots(figsize = (15,5))\n",
    "#divide by 100 to get percent instead of fixing the axis. cheatcode!\n",
    "sns.distplot(lengthcount, bins=100, ax = ax)\n",
    "ax.set_xlabel('Sentence length')\n",
    "ax.set_ylabel('Density')\n",
    "ax.set_title('Distribution of sentence length, 100 bins')\n",
    "fig.tight_layout(pad=0)\n",
    "plt.savefig(\"../data/assets/senLength.png\")\n",
    "\n",
    "plt.show()\n"
   ]
  },
  {
   "cell_type": "code",
   "execution_count": 106,
   "metadata": {},
   "outputs": [
    {
     "data": {
      "text/plain": [
       "[Text(0, 0.0, '0.00'),\n",
       " Text(0, 0.01, '0.01'),\n",
       " Text(0, 0.02, '0.02'),\n",
       " Text(0, 0.03, '0.03'),\n",
       " Text(0, 0.04, '0.04'),\n",
       " Text(0, 0.05, '0.05')]"
      ]
     },
     "execution_count": 106,
     "metadata": {},
     "output_type": "execute_result"
    }
   ],
   "source": [
    "ax.set_yticklabels(labels= ax.get_yticklabels())"
   ]
  },
  {
   "cell_type": "code",
   "execution_count": 98,
   "metadata": {},
   "outputs": [],
   "source": [
    "z = pd.DataFrame(lengthcount)\n",
    "more_than_100 = 100 * z[z[0] > 100].shape[0]/z.shape[0]"
   ]
  },
  {
   "cell_type": "code",
   "execution_count": 99,
   "metadata": {},
   "outputs": [
    {
     "name": "stdout",
     "output_type": "stream",
     "text": [
      "0.10382255781028787 percent of items are longer than 100 words\n"
     ]
    }
   ],
   "source": [
    "print(f\"{more_than_100} percent of items are longer than 100 words\")"
   ]
  },
  {
   "cell_type": "markdown",
   "metadata": {},
   "source": [
    "### Only 0.1% of the sentences are longer than 100 words, so we switch the cutoff-point for the matrices at 100 columns instead of 404. A huge dimensionality reduction\n",
    "I'll slice and save them as numpy arrays instead."
   ]
  },
  {
   "cell_type": "code",
   "execution_count": 45,
   "metadata": {},
   "outputs": [
    {
     "ename": "AttributeError",
     "evalue": "'numpy.ndarray' object has no attribute 'values'",
     "output_type": "error",
     "traceback": [
      "\u001b[0;31m---------------------------------------------------------------------------\u001b[0m",
      "\u001b[0;31mAttributeError\u001b[0m                            Traceback (most recent call last)",
      "\u001b[0;32m<ipython-input-45-6c516bf7eafe>\u001b[0m in \u001b[0;36m<module>\u001b[0;34m\u001b[0m\n\u001b[0;32m----> 1\u001b[0;31m \u001b[0msentences\u001b[0m \u001b[0;34m=\u001b[0m \u001b[0msentences\u001b[0m\u001b[0;34m.\u001b[0m\u001b[0mvalues\u001b[0m\u001b[0;34m[\u001b[0m\u001b[0;34m:\u001b[0m\u001b[0;34m,\u001b[0m\u001b[0;34m:\u001b[0m\u001b[0;36m100\u001b[0m\u001b[0;34m]\u001b[0m\u001b[0;34m\u001b[0m\u001b[0;34m\u001b[0m\u001b[0m\n\u001b[0m\u001b[1;32m      2\u001b[0m \u001b[0mlabels\u001b[0m \u001b[0;34m=\u001b[0m \u001b[0mlabels\u001b[0m\u001b[0;34m.\u001b[0m\u001b[0mvalues\u001b[0m\u001b[0;34m[\u001b[0m\u001b[0;34m:\u001b[0m\u001b[0;34m,\u001b[0m\u001b[0;34m:\u001b[0m\u001b[0;36m100\u001b[0m\u001b[0;34m]\u001b[0m\u001b[0;34m\u001b[0m\u001b[0;34m\u001b[0m\u001b[0m\n\u001b[1;32m      3\u001b[0m \u001b[0mattentions\u001b[0m \u001b[0;34m=\u001b[0m \u001b[0mattentions\u001b[0m\u001b[0;34m.\u001b[0m\u001b[0mvalues\u001b[0m\u001b[0;34m[\u001b[0m\u001b[0;34m:\u001b[0m\u001b[0;34m,\u001b[0m\u001b[0;34m:\u001b[0m\u001b[0;36m100\u001b[0m\u001b[0;34m]\u001b[0m\u001b[0;34m\u001b[0m\u001b[0;34m\u001b[0m\u001b[0m\n",
      "\u001b[0;31mAttributeError\u001b[0m: 'numpy.ndarray' object has no attribute 'values'"
     ]
    }
   ],
   "source": [
    "sentences = sentences.values[:,:100]\n",
    "labels = labels.values[:,:100]\n",
    "attentions = attentions.values[:,:100]"
   ]
  },
  {
   "cell_type": "code",
   "execution_count": null,
   "metadata": {},
   "outputs": [],
   "source": [
    "# Store them for later use\n",
    "#np.save('../data/sentence_ints', sentences)\n",
    "#np.save('../data/label_ints', labels)\n",
    "#np.save('../data/attention_ints', attentions)"
   ]
  },
  {
   "cell_type": "markdown",
   "metadata": {},
   "source": [
    "## Dataset Named Entity Breakdown"
   ]
  },
  {
   "cell_type": "code",
   "execution_count": null,
   "metadata": {},
   "outputs": [],
   "source": [
    "df = pd.read_pickle('../data/suc3_dataframe')"
   ]
  },
  {
   "cell_type": "code",
   "execution_count": null,
   "metadata": {},
   "outputs": [],
   "source": [
    "entities = df[df['word_tag'] == 'ne']\n",
    "entities"
   ]
  },
  {
   "cell_type": "markdown",
   "metadata": {},
   "source": [
    "## Unique labels in type and subtype"
   ]
  },
  {
   "cell_type": "code",
   "execution_count": null,
   "metadata": {},
   "outputs": [],
   "source": [
    "types = entities['word_type'].unique()\n",
    "print(types.shape[0])\n",
    "types"
   ]
  },
  {
   "cell_type": "code",
   "execution_count": null,
   "metadata": {},
   "outputs": [],
   "source": [
    "subtypes = entities['word_subtype'].unique()\n",
    "print(subtypes.shape[0])\n",
    "subtypes"
   ]
  },
  {
   "cell_type": "markdown",
   "metadata": {},
   "source": [
    "## Examples of subclass effect"
   ]
  },
  {
   "cell_type": "code",
   "execution_count": null,
   "metadata": {},
   "outputs": [],
   "source": [
    "ex = entities[entities['word_type'] =='PRS'][['word_name', 'word_type', 'word_subtype']]\n",
    "print(f\"Unique subtypes = {ex['word_subtype'].unique()}\")\n",
    "print()\n",
    "print(read[ex['word_subtype'] == 'HUM'].iloc[0])\n",
    "print()\n",
    "\n",
    "print(read[ex['word_subtype'] == 'MTH'].loc[191707])\n",
    "print()\n",
    "\n",
    "print(read[ex['word_subtype'] == 'ANM'].iloc[0])\n"
   ]
  },
  {
   "cell_type": "code",
   "execution_count": null,
   "metadata": {},
   "outputs": [],
   "source": []
  }
 ],
 "metadata": {
  "kernelspec": {
   "display_name": ".thesis",
   "language": "python",
   "name": ".thesis"
  },
  "language_info": {
   "codemirror_mode": {
    "name": "ipython",
    "version": 3
   },
   "file_extension": ".py",
   "mimetype": "text/x-python",
   "name": "python",
   "nbconvert_exporter": "python",
   "pygments_lexer": "ipython3",
   "version": "3.7.5"
  }
 },
 "nbformat": 4,
 "nbformat_minor": 4
}
