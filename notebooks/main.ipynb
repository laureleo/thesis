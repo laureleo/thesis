{
 "cells": [
  {
   "cell_type": "markdown",
   "metadata": {},
   "source": [
    "# SETUP"
   ]
  },
  {
   "cell_type": "code",
   "execution_count": 1,
   "metadata": {},
   "outputs": [
    {
     "name": "stderr",
     "output_type": "stream",
     "text": [
      "Using TensorFlow backend.\n"
     ]
    }
   ],
   "source": [
    "# Imports\n",
    "import pandas as pd\n",
    "import numpy as np\n",
    "import seaborn as sns\n",
    "import tensorflow as tf\n",
    "import torch\n",
    "from tqdm import tqdm, trange\n",
    "from transformers import AutoModel\n",
    "from keras.preprocessing.sequence import pad_sequences\n",
    "from transformers import AutoTokenizer\n",
    "import matplotlib.pyplot as plt\n",
    "import random\n"
   ]
  },
  {
   "cell_type": "code",
   "execution_count": 2,
   "metadata": {},
   "outputs": [
    {
     "name": "stdout",
     "output_type": "stream",
     "text": [
      "There are 1 GPU(s) available.\n",
      "We will use the GPU: GeForce GTX 1050 Ti\n"
     ]
    }
   ],
   "source": [
    "# GPU check\n",
    "if torch.cuda.is_available():    \n",
    "\n",
    "    # Tell PyTorch to use the GPU.    \n",
    "    device = torch.device(\"cuda\")\n",
    "\n",
    "    print('There are %d GPU(s) available.' % torch.cuda.device_count())\n",
    "\n",
    "    print('We will use the GPU:', torch.cuda.get_device_name(0))\n",
    "else:\n",
    "    print('No GPU available, using the CPU instead.')\n",
    "    device = torch.device(\"cpu\")"
   ]
  },
  {
   "cell_type": "markdown",
   "metadata": {},
   "source": [
    "# FUNCTIONS"
   ]
  },
  {
   "cell_type": "code",
   "execution_count": 3,
   "metadata": {},
   "outputs": [],
   "source": [
    "\"\"\"\n",
    "For dealing with large amounts of data, a GPU is much faster\n",
    "\n",
    "The resulting embedding matrix is a three-dimensional tensor corresponding to                 [Sentence][Words][Embeddings]\n",
    "embeddings[5][4][:] is thus the embedding of the fourth word in the fifth sentence\n",
    "\"\"\"\n",
    "\n",
    "def get_embeddings_with_gpu(data_matrix, mask_matrix):\n",
    "    # Load the device\n",
    "    device = torch.device(\"cuda\" if torch.cuda.is_available() else \"cpu\")\n",
    "    #print(f\"Using device: {torch.cuda.get_device_name(0)}\")\n",
    "\n",
    "    # Set the model to use the device\n",
    "    model.cuda()\n",
    "\n",
    "    # Move the data onto the GPU\n",
    "    data_matrix = data_matrix.to(device)\n",
    "    mask_matrix = mask_matrix.to(device)\n",
    "\n",
    "    # Generate embeddings\n",
    "    matrix_embedding = model.forward(input_ids=data_matrix,\n",
    "        attention_mask=mask_matrix,\n",
    "        head_mask=None)[0]\n",
    "    #print(f\"Embedding generated with shape {batch_embedding.shape}\")\n",
    "\n",
    "    # Make it an ordinary np array instead of a torch\n",
    "    matrix_embedding = np.array(matrix_embedding.tolist())\n",
    "\n",
    "    return matrix_embedding\n",
    "\n",
    "#Keep amount of samples low to not overwhelm the gpu\n",
    "#get_embeddings_with_gpu(data_tensor_matrix[:10], mask_tensor_matrix[:10])"
   ]
  },
  {
   "cell_type": "code",
   "execution_count": 4,
   "metadata": {},
   "outputs": [],
   "source": [
    "\"\"\"\n",
    "Most people won't be able to load all the data onto the GPU at once however, so it's better   to do it in batches.\n",
    "(50 input sentences take 2803MB on my computer, for example). Though this depends on the dimensionality/sentence_length you use, naturally\n",
    "\n",
    "This method batchifies and stitches together the batches\n",
    "\"\"\"\n",
    "def get_embeddings_with_gpu_batch(data_matrix, mask_matrix, batch_size):\n",
    "    num_items = data_matrix.shape[0]\n",
    "    num_loops = int(np.ceil(num_items/batch_size))\n",
    "\n",
    "    start = 0\n",
    "    end = batch_size\n",
    "    data_holder = []\n",
    "\n",
    "    for i in trange(num_loops):\n",
    "        # Split the data into batches\n",
    "        data_batch = data_matrix[start:end]\n",
    "        mask_batch = mask_matrix[start:end]\n",
    "\n",
    "        #Get the embedding for the batch\n",
    "        batch_embedding = get_embeddings_with_gpu(data_batch, mask_batch)\n",
    "\n",
    "        data_holder.append(batch_embedding)\n",
    "\n",
    "        #Move to next batch\n",
    "        start += batch_size\n",
    "        end += batch_size\n",
    "\n",
    "    # Merge the batches we've generated\n",
    "    embedding_matrix = np.vstack(data_holder)\n",
    "\n",
    "    print(f\"Final embedding generated with shape {embedding_matrix.shape}\")\n",
    "\n",
    "    return embedding_matrix\n",
    "\n",
    "#embedding_matrix = get_embeddings_with_gpu_batch(data_tensor_matrix[:200], mask_tensor_matrix[:200], 50)\n"
   ]
  },
  {
   "cell_type": "code",
   "execution_count": 5,
   "metadata": {},
   "outputs": [],
   "source": [
    "\"\"\"\n",
    "Split data into train and test sets by the given ratio.\n",
    "Validation sets are not needed, those we get for free with keras models\n",
    "\n",
    "\"\"\"\n",
    "def split_data(percentage_to_train_on, input_data, output_data):\n",
    "    ratio = percentage_to_train_on\n",
    "\n",
    "    split = int(np.ceil(ratio*input_data.shape[0]))\n",
    "\n",
    "    train_x = input_data[:split]\n",
    "    train_y = output_data[:split]\n",
    "\n",
    "    test_x = input_data[split:]\n",
    "    test_y = output_data[split:]\n",
    "\n",
    "    return train_x, train_y, test_x, test_y\n",
    "\n",
    "\n",
    "def shuffle_data(things_to_shuffle):\n",
    "    \"\"\"\n",
    "    Takes a list of lists and shuffles them all in the same way\n",
    "    \"\"\"\n",
    "    #Set seed for reproducibility\n",
    "    random.seed(2020)\n",
    "    \n",
    "    # Create a list of indices based on the input data\n",
    "    indices = [i for i in range(things_to_shuffle[0].shape[0])]\n",
    "\n",
    "    #Shuffle the indices\n",
    "    random.shuffle(indices)\n",
    "\n",
    "    shuffled_lists = []\n",
    "    #For each list,\n",
    "    for thing_to_shuffle in things_to_shuffle:\n",
    "        #Reorder the list according to the shuffled indices\n",
    "        shuffled = np.array([thing_to_shuffle[i] for i in indices])\n",
    "        shuffled_lists.append(shuffled)\n",
    "    return shuffled_lists"
   ]
  },
  {
   "cell_type": "markdown",
   "metadata": {},
   "source": [
    "# LOAD DATA"
   ]
  },
  {
   "cell_type": "code",
   "execution_count": 6,
   "metadata": {},
   "outputs": [],
   "source": [
    "#This is the latest!\n",
    "def load_data_from_start2():\n",
    "    #Load the data\n",
    "    sentences = np.load(\"../data/sentence_ints.npy\")\n",
    "    attentions = np.load(\"../data/attention_ints.npy\")\n",
    "    labels = np.load(\"../data/label_ints.npy\")\n",
    "    label_list = np.load(\"../data/label_list.npy\")\n",
    "    return sentences, attentions, labels, label_list\n",
    "\n",
    "sentences, attentions, labels, label_list = load_data_from_start2()\n"
   ]
  },
  {
   "cell_type": "code",
   "execution_count": 7,
   "metadata": {},
   "outputs": [],
   "source": [
    "#Shuffle the data\n",
    "shuffled = shuffle_data([sentences, attentions, labels])\n",
    "sentences, attentions, labels = shuffled[0], shuffled[1], shuffled[2]"
   ]
  },
  {
   "cell_type": "code",
   "execution_count": 8,
   "metadata": {},
   "outputs": [
    {
     "data": {
      "text/plain": [
       "Embedding(50030, 128)"
      ]
     },
     "execution_count": 8,
     "metadata": {},
     "output_type": "execute_result"
    }
   ],
   "source": [
    "# Load the model and tokenizer\n",
    "model = AutoModel.from_pretrained('KB/albert-base-swedish-cased-alpha')\n",
    "tokenizer = AutoTokenizer.from_pretrained(\"KB/albert-base-swedish-cased-alpha\")\n",
    "\n",
    "#Update the tokenizer with our labels (which do not exist in the normal vocabulary)\n",
    "tokenizer.add_tokens(label_list.tolist())\n",
    "\n",
    "#Inform the model that we've updated the vocab\n",
    "model.resize_token_embeddings(len(tokenizer))"
   ]
  },
  {
   "cell_type": "code",
   "execution_count": 9,
   "metadata": {},
   "outputs": [],
   "source": [
    "def work_with_subset(subsetsize):\n",
    "    # Let's test stuff with just a subset of the data\n",
    "    s, a, l = sentences[:subsetsize], attentions[:subsetsize], labels[:subsetsize]\n",
    "\n",
    "    #Convert to tensors\n",
    "    s, a = torch.tensor(s), torch.tensor(a)\n",
    "    \n",
    "    # Generate embeddings\n",
    "    #embedding_matrix = get_embeddings_with_gpu_batch(s, a, 25)\n",
    "    \n",
    "    return s, a, l, 1\n",
    "    \n",
    "sentences, attentions, labels, _ = work_with_subset(10000)"
   ]
  },
  {
   "cell_type": "code",
   "execution_count": 10,
   "metadata": {},
   "outputs": [
    {
     "name": "stderr",
     "output_type": "stream",
     "text": [
      "/home/vic/git/thesis/.thesis/lib/python3.7/site-packages/ipykernel_launcher.py:23: UserWarning: To copy construct from a tensor, it is recommended to use sourceTensor.clone().detach() or sourceTensor.clone().detach().requires_grad_(True), rather than torch.tensor(sourceTensor).\n",
      "100%|██████████| 37/37 [00:25<00:00,  1.47it/s]\n"
     ]
    },
    {
     "name": "stdout",
     "output_type": "stream",
     "text": [
      "Final embedding generated with shape (910, 100, 768)\n"
     ]
    },
    {
     "name": "stderr",
     "output_type": "stream",
     "text": [
      "  0%|          | 0/37 [00:00<?, ?it/s]"
     ]
    },
    {
     "name": "stdout",
     "output_type": "stream",
     "text": [
      "Stored sentence embedding 0 to 910\n"
     ]
    },
    {
     "name": "stderr",
     "output_type": "stream",
     "text": [
      "100%|██████████| 37/37 [00:24<00:00,  1.50it/s]\n"
     ]
    },
    {
     "name": "stdout",
     "output_type": "stream",
     "text": [
      "Final embedding generated with shape (910, 100, 768)\n"
     ]
    },
    {
     "name": "stderr",
     "output_type": "stream",
     "text": [
      "  0%|          | 0/37 [00:00<?, ?it/s]"
     ]
    },
    {
     "name": "stdout",
     "output_type": "stream",
     "text": [
      "Stored sentence embedding 910 to 1820\n"
     ]
    },
    {
     "name": "stderr",
     "output_type": "stream",
     "text": [
      "100%|██████████| 37/37 [00:20<00:00,  1.81it/s]\n"
     ]
    },
    {
     "name": "stdout",
     "output_type": "stream",
     "text": [
      "Final embedding generated with shape (910, 100, 768)\n"
     ]
    },
    {
     "name": "stderr",
     "output_type": "stream",
     "text": [
      "  0%|          | 0/37 [00:00<?, ?it/s]"
     ]
    },
    {
     "name": "stdout",
     "output_type": "stream",
     "text": [
      "Stored sentence embedding 1820 to 2730\n"
     ]
    },
    {
     "name": "stderr",
     "output_type": "stream",
     "text": [
      "100%|██████████| 37/37 [00:15<00:00,  2.31it/s]\n"
     ]
    },
    {
     "name": "stdout",
     "output_type": "stream",
     "text": [
      "Final embedding generated with shape (910, 100, 768)\n"
     ]
    },
    {
     "name": "stderr",
     "output_type": "stream",
     "text": [
      "  0%|          | 0/37 [00:00<?, ?it/s]"
     ]
    },
    {
     "name": "stdout",
     "output_type": "stream",
     "text": [
      "Stored sentence embedding 2730 to 3640\n"
     ]
    },
    {
     "name": "stderr",
     "output_type": "stream",
     "text": [
      "100%|██████████| 37/37 [00:15<00:00,  2.40it/s]\n"
     ]
    },
    {
     "name": "stdout",
     "output_type": "stream",
     "text": [
      "Final embedding generated with shape (910, 100, 768)\n"
     ]
    },
    {
     "name": "stderr",
     "output_type": "stream",
     "text": [
      "  0%|          | 0/37 [00:00<?, ?it/s]"
     ]
    },
    {
     "name": "stdout",
     "output_type": "stream",
     "text": [
      "Stored sentence embedding 3640 to 4550\n"
     ]
    },
    {
     "name": "stderr",
     "output_type": "stream",
     "text": [
      "100%|██████████| 37/37 [00:15<00:00,  2.36it/s]\n"
     ]
    },
    {
     "name": "stdout",
     "output_type": "stream",
     "text": [
      "Final embedding generated with shape (910, 100, 768)\n"
     ]
    },
    {
     "name": "stderr",
     "output_type": "stream",
     "text": [
      "  0%|          | 0/37 [00:00<?, ?it/s]"
     ]
    },
    {
     "name": "stdout",
     "output_type": "stream",
     "text": [
      "Stored sentence embedding 4550 to 5460\n"
     ]
    },
    {
     "name": "stderr",
     "output_type": "stream",
     "text": [
      "100%|██████████| 37/37 [00:15<00:00,  2.36it/s]\n"
     ]
    },
    {
     "name": "stdout",
     "output_type": "stream",
     "text": [
      "Final embedding generated with shape (910, 100, 768)\n"
     ]
    },
    {
     "name": "stderr",
     "output_type": "stream",
     "text": [
      "  0%|          | 0/37 [00:00<?, ?it/s]"
     ]
    },
    {
     "name": "stdout",
     "output_type": "stream",
     "text": [
      "Stored sentence embedding 5460 to 6370\n"
     ]
    },
    {
     "name": "stderr",
     "output_type": "stream",
     "text": [
      "100%|██████████| 37/37 [00:15<00:00,  2.39it/s]\n"
     ]
    },
    {
     "name": "stdout",
     "output_type": "stream",
     "text": [
      "Final embedding generated with shape (910, 100, 768)\n"
     ]
    },
    {
     "name": "stderr",
     "output_type": "stream",
     "text": [
      "  0%|          | 0/37 [00:00<?, ?it/s]"
     ]
    },
    {
     "name": "stdout",
     "output_type": "stream",
     "text": [
      "Stored sentence embedding 6370 to 7280\n"
     ]
    },
    {
     "name": "stderr",
     "output_type": "stream",
     "text": [
      "100%|██████████| 37/37 [00:15<00:00,  2.32it/s]\n"
     ]
    },
    {
     "name": "stdout",
     "output_type": "stream",
     "text": [
      "Final embedding generated with shape (910, 100, 768)\n"
     ]
    },
    {
     "name": "stderr",
     "output_type": "stream",
     "text": [
      "  0%|          | 0/37 [00:00<?, ?it/s]"
     ]
    },
    {
     "name": "stdout",
     "output_type": "stream",
     "text": [
      "Stored sentence embedding 7280 to 8190\n"
     ]
    },
    {
     "name": "stderr",
     "output_type": "stream",
     "text": [
      "100%|██████████| 37/37 [00:16<00:00,  2.29it/s]\n"
     ]
    },
    {
     "name": "stdout",
     "output_type": "stream",
     "text": [
      "Final embedding generated with shape (910, 100, 768)\n"
     ]
    },
    {
     "name": "stderr",
     "output_type": "stream",
     "text": [
      "  0%|          | 0/36 [00:00<?, ?it/s]"
     ]
    },
    {
     "name": "stdout",
     "output_type": "stream",
     "text": [
      "Stored sentence embedding 8190 to 9100\n"
     ]
    },
    {
     "name": "stderr",
     "output_type": "stream",
     "text": [
      "100%|██████████| 36/36 [00:15<00:00,  2.29it/s]\n"
     ]
    },
    {
     "name": "stdout",
     "output_type": "stream",
     "text": [
      "Final embedding generated with shape (900, 100, 768)\n",
      "Stored sentence embedding 9100 to 10010\n"
     ]
    }
   ],
   "source": [
    "def generate_embedding_file(sentences, attentions):\n",
    "    \"\"\"\n",
    "    I can't keep the full embedding matrix in RAM, so I'll store it on disk instead using memap\n",
    "    \"\"\"\n",
    "    #CREATE MEMORY-MAPPED-OBJECT\n",
    "    \n",
    "    #This is given by the model we are using\n",
    "    token_embedding_dim = 768\n",
    "\n",
    "    #Define the shape of the matrix that will hold the full embedding matrix\n",
    "    embeddiding_matrix_shape= (sentences.shape[0], sentences.shape[1], token_embedding_dim)\n",
    "\n",
    "    #Select the type of the data we will store.\n",
    "    data_type = np.float64\n",
    "\n",
    "    #Make space for it on disk\n",
    "    f = np.memmap('../data/MMAP_MATRIX.dat', dtype=data_type,\n",
    "                  mode='w+', shape=embeddiding_matrix_shape)\n",
    "\n",
    "\n",
    "    #GENERATE EMBEDDINGS AND STORE IN OBJECT\n",
    "    #Convert to tensors\n",
    "    sentences, attentions = torch.tensor(sentences), torch.tensor(attentions)\n",
    "    \n",
    "    num_batches = 11\n",
    "    batch_size = int(np.ceil(sentences.shape[0]/num_batches))\n",
    "    for i in range(0, num_batches):\n",
    "        #Define slice to generate embedding for\n",
    "        start = batch_size * i\n",
    "        end = batch_size * (i+1)\n",
    "        \n",
    "        #Generate the batch\n",
    "        sentence_batch = sentences[batch_size * i : batch_size * (i + 1)]\n",
    "        attention_batch = attentions[batch_size * i : batch_size * (i + 1)]\n",
    "                \n",
    "        # store it in the memmap object\n",
    "        #Do it directly, if you save it as a reference the memory will still run out during the for loop\n",
    "        f[start:end, :, :] = get_embeddings_with_gpu_batch(sentence_batch, attention_batch, 25)\n",
    "        print(f\"Stored sentence embedding {start} to {end}\")\n",
    "\n",
    "        \n",
    "\n",
    "generate_embedding_file(sentences, attentions)\n"
   ]
  },
  {
   "cell_type": "code",
   "execution_count": 33,
   "metadata": {},
   "outputs": [],
   "source": [
    "token_embedding_dim = 768\n",
    "\n",
    "#Define the shape of the matrix that will hold the full embedding matrix\n",
    "embeddiding_matrix_shape= (sentences.shape[0], sentences.shape[1], token_embedding_dim)\n",
    "\n",
    "#Select the type of the data we will store.\n",
    "data_type = np.float64\n",
    "f = np.memmap('../data/MMAP_MATRIX.dat', dtype=data_type, shape=embeddiding_matrix_shape)"
   ]
  },
  {
   "cell_type": "code",
   "execution_count": 11,
   "metadata": {},
   "outputs": [],
   "source": [
    "#We need to one-hot encode the output labels for use with the classifier\n",
    "\n",
    "#Flatten the label matrix\n",
    "long_single_token_label_list = labels.reshape(-1,)\n",
    "\n",
    "#one-hot encode all labels\n",
    "dummy_variable_representation = pd.get_dummies(long_single_token_label_list)\n",
    "\n",
    "#Make a dummy-variable-index => token dict for later use\n",
    "dummyIndex_label_dict = {}\n",
    "for i, column in enumerate(dummy_variable_representation):\n",
    "    dummyIndex_label_dict[i] = tokenizer.decode(column)\n",
    "    \n",
    "\n",
    "#Reshape the one-hot encoding so we get it in the correct shape, that is, grouped on a sentence level\n",
    "label_matrix = dummy_variable_representation.values.reshape(labels.shape[0], labels.shape[1], -1)"
   ]
  },
  {
   "cell_type": "code",
   "execution_count": 12,
   "metadata": {},
   "outputs": [
    {
     "name": "stdout",
     "output_type": "stream",
     "text": [
      "(4000, 100, 28) (1000, 100, 28)\n",
      "(4000, 100, 768) (1000, 100, 768)\n"
     ]
    }
   ],
   "source": [
    "#Train/test split it\n",
    "ratio = 0.8\n",
    "train_x,train_y,test_x,test_y = split_data(ratio, embedding_matrix, label_matrix)\n",
    "\n",
    "print(train_y.shape, test_y.shape)\n",
    "print(train_x.shape, test_x.shape)"
   ]
  },
  {
   "cell_type": "markdown",
   "metadata": {},
   "source": [
    "# TRAIN ALBERT"
   ]
  },
  {
   "cell_type": "markdown",
   "metadata": {},
   "source": [
    "### Create classification layer\n",
    "\n",
    "To ablate the fine-tuning approach, we apply the\n",
    "feature-based approach by extracting the activations from one or more layers without fine-tuning\n",
    "any parameters of BERT. These contextual embeddings are used as input to a randomly initialized two-layer 768-dimensional BiLSTM before\n",
    "the classification layer.\n",
    "\n"
   ]
  },
  {
   "cell_type": "code",
   "execution_count": 13,
   "metadata": {},
   "outputs": [],
   "source": [
    "from keras.layers import LSTM, Bidirectional, TimeDistributed, Dropout, Dense\n",
    "from keras.models import Model, Input\n",
    "def naive_bilstm_model():   \n",
    "    #Define the input shape. Each datapoint is a sentence consisting of seqlength words, each word 784dims\n",
    "    input = Input(shape=(train_x.shape[1], train_x.shape[2]))\n",
    "    # Pass it through a bidirectional lstm\n",
    "    model = Bidirectional(LSTM(units=100, return_sequences=True, recurrent_dropout=0.1))(input)\n",
    "            \n",
    "    # add a timedistributed layer\n",
    "    out = TimeDistributed(Dense(train_y.shape[2], activation=\"softmax\"))(model)  # softmax output layer\n",
    "    \n",
    "    model = Model(input, out)\n",
    "    \n",
    "    # Compile it\n",
    "    model.compile(optimizer=\"adam\", loss=\"categorical_crossentropy\", metrics=[\"accuracy\"])\n",
    "    print(model.summary())\n",
    "    return model\n"
   ]
  },
  {
   "cell_type": "code",
   "execution_count": 14,
   "metadata": {},
   "outputs": [
    {
     "name": "stdout",
     "output_type": "stream",
     "text": [
      "Model: \"model_1\"\n",
      "_________________________________________________________________\n",
      "Layer (type)                 Output Shape              Param #   \n",
      "=================================================================\n",
      "input_1 (InputLayer)         (None, 100, 768)          0         \n",
      "_________________________________________________________________\n",
      "bidirectional_1 (Bidirection (None, 100, 200)          695200    \n",
      "_________________________________________________________________\n",
      "time_distributed_1 (TimeDist (None, 100, 28)           5628      \n",
      "=================================================================\n",
      "Total params: 700,828\n",
      "Trainable params: 700,828\n",
      "Non-trainable params: 0\n",
      "_________________________________________________________________\n",
      "None\n",
      "Train on 3600 samples, validate on 400 samples\n",
      "Epoch 1/5\n",
      "3600/3600 [==============================] - 19s 5ms/step - loss: 0.4044 - accuracy: 0.9058 - val_loss: 0.1405 - val_accuracy: 0.9678\n",
      "Epoch 2/5\n",
      "3600/3600 [==============================] - 15s 4ms/step - loss: 0.1060 - accuracy: 0.9762 - val_loss: 0.0875 - val_accuracy: 0.9801\n",
      "Epoch 3/5\n",
      "3600/3600 [==============================] - 16s 4ms/step - loss: 0.0709 - accuracy: 0.9829 - val_loss: 0.0643 - val_accuracy: 0.9843\n",
      "Epoch 4/5\n",
      "3600/3600 [==============================] - 17s 5ms/step - loss: 0.0554 - accuracy: 0.9860 - val_loss: 0.0532 - val_accuracy: 0.9867\n",
      "Epoch 5/5\n",
      "3600/3600 [==============================] - 18s 5ms/step - loss: 0.0458 - accuracy: 0.9883 - val_loss: 0.0467 - val_accuracy: 0.9881\n",
      "\n",
      "history dict: dict_keys(['val_loss', 'val_accuracy', 'loss', 'accuracy'])\n"
     ]
    }
   ],
   "source": [
    "# Train the model, setting aside 10% data for validation\n",
    "classifier = naive_bilstm_model()\n",
    "def train_model():\n",
    "    history = classifier.fit(\n",
    "        train_x,\n",
    "        train_y,\n",
    "        epochs=5,\n",
    "        batch_size=50,\n",
    "        validation_split=0.1)\n",
    "    return history\n",
    "\n",
    "history = train_model()\n",
    "print('\\nhistory dict:', history.history.keys())"
   ]
  },
  {
   "cell_type": "markdown",
   "metadata": {},
   "source": [
    "## Training history"
   ]
  },
  {
   "cell_type": "code",
   "execution_count": 15,
   "metadata": {},
   "outputs": [],
   "source": [
    "def create_history_df(history):\n",
    "    training_df = pd.DataFrame()\n",
    "    for metric in history.history.keys():\n",
    "        training_df[metric] = history.history[metric]\n",
    "    return training_df\n",
    "\n",
    "history_df = create_history_df(history)"
   ]
  },
  {
   "cell_type": "code",
   "execution_count": 16,
   "metadata": {},
   "outputs": [
    {
     "data": {
      "image/png": "[encoded data removed]",
      "text/plain": [
       "<Figure size 1080x360 with 1 Axes>"
      ]
     },
     "metadata": {},
     "output_type": "display_data"
    }
   ],
   "source": [
    "sns.set()\n",
    "fig, ax = plt.subplots(figsize=(15,5))\n",
    "history_df.plot(ax=ax)\n",
    "plt.ylabel('Metric')\n",
    "plt.xlabel('Epoch')\n",
    "plt.show()"
   ]
  },
  {
   "cell_type": "markdown",
   "metadata": {},
   "source": [
    "# Evaluate"
   ]
  },
  {
   "cell_type": "code",
   "execution_count": 17,
   "metadata": {},
   "outputs": [
    {
     "name": "stdout",
     "output_type": "stream",
     "text": [
      "\n",
      "# Evaluate on test data\n",
      "4000/4000 [==============================] - 9s 2ms/step\n",
      "loss: 0.04187693138420582\n",
      "accuracy: 0.9892399907112122\n"
     ]
    }
   ],
   "source": [
    "print('\\n# Evaluate on test data')\n",
    "results = classifier.evaluate(train_x, train_y)\n",
    "for i, metric in enumerate(classifier.metrics_names):\n",
    "    print(f\"{metric}: {results[i]}\")"
   ]
  },
  {
   "cell_type": "markdown",
   "metadata": {},
   "source": [
    "## Confusion Matrix"
   ]
  },
  {
   "cell_type": "code",
   "execution_count": 18,
   "metadata": {},
   "outputs": [],
   "source": [
    "def remap(matrix):\n",
    "    \"\"\"\n",
    "    Utility function to take one-hot encoded labels and return the label with the higest probability\n",
    "    \"\"\"\n",
    "    \n",
    "    #Switch index to label\n",
    "    def switcher(x):\n",
    "        return dummyIndex_label_dict[x]\n",
    "    \n",
    "    #Get the index along the second axis (the one-hot encoding) with the highest value\n",
    "    predicted_index = pd.DataFrame(np.argmax(matrix, axis=2))\n",
    "    \n",
    "    #Use our dictionary to map this index to the class\n",
    "    label_representation = predicted_index.applymap(switcher)\n",
    "\n",
    "    return label_representation"
   ]
  },
  {
   "cell_type": "code",
   "execution_count": 19,
   "metadata": {},
   "outputs": [],
   "source": [
    "from keras.wrappers.scikit_learn import KerasClassifier\n",
    "from sklearn.metrics import confusion_matrix"
   ]
  },
  {
   "cell_type": "code",
   "execution_count": 20,
   "metadata": {},
   "outputs": [],
   "source": [
    "#Get the predicted classes for the test set\n",
    "prediction_probabilities = classifier.predict(test_x)\n",
    "\n",
    "predicted_classes = remap(prediction_probabilities)\n",
    "true_classes = remap(test_y)"
   ]
  },
  {
   "cell_type": "code",
   "execution_count": 21,
   "metadata": {},
   "outputs": [],
   "source": [
    "# Unravel it\n",
    "predicted_classes = predicted_classes.values.reshape(-1,1)\n",
    "true_classes = true_classes.values.reshape(-1,1)"
   ]
  },
  {
   "cell_type": "code",
   "execution_count": 27,
   "metadata": {},
   "outputs": [
    {
     "data": {
      "image/png": "[encoded data removed]",
      "text/plain": [
       "<Figure size 1440x1440 with 1 Axes>"
      ]
     },
     "metadata": {},
     "output_type": "display_data"
    }
   ],
   "source": [
    "# The scikit confusion function also takes a list of labels. The generated confusion matrix will consist of the elements of this list, in the order they appear\n",
    "cf_labels = list(dummyIndex_label_dict.values())\n",
    "\n",
    "# We are great at padding, but that isn't super-interesting\n",
    "#labels.remove('<pad>')\n",
    "\n",
    "#Generate a confusion matrix\n",
    "cmatrix = confusion_matrix(y_true=true_classes, y_pred=predicted_classes, labels = cf_labels)\n",
    "\n",
    "#Use pandas for plotting purposes\n",
    "cmatrix = pd.DataFrame(cmatrix, columns=cf_labels, index=cf_labels)\n",
    "\n",
    "# The absolute number of things retrieved isn't as interesting as the relative retrival, so we normalize along the x-axis\n",
    "cmatrix = cmatrix.apply(lambda x: x/x.sum(), axis = 0)\n",
    "\n",
    "#Remove Nans\n",
    "cmatrix = cmatrix.fillna(0)\n",
    "\n",
    "#The confusion matrix is defined such that each row corresponds to a true label, each column is predicted label\n",
    "fig, ax = plt.subplots(figsize = (20,20))\n",
    "sns.heatmap(cmatrix, ax = ax, annot=True, fmt=\".1%\", cbar=False)\n",
    "ax.set_xlabel(\"Predicted class\")\n",
    "ax.set_ylabel(\"True class\")\n",
    "plt.title(\"Percent of words classified according to label\")\n",
    "plt.show()"
   ]
  },
  {
   "cell_type": "markdown",
   "metadata": {},
   "source": [
    "## Generate Recall, Precision, F1-score for each label"
   ]
  },
  {
   "cell_type": "code",
   "execution_count": 28,
   "metadata": {},
   "outputs": [
    {
     "data": {
      "text/html": [
       "<div>\n",
       "<style scoped>\n",
       "    .dataframe tbody tr th:only-of-type {\n",
       "        vertical-align: middle;\n",
       "    }\n",
       "\n",
       "    .dataframe tbody tr th {\n",
       "        vertical-align: top;\n",
       "    }\n",
       "\n",
       "    .dataframe thead th {\n",
       "        text-align: right;\n",
       "    }\n",
       "</style>\n",
       "<table border=\"1\" class=\"dataframe\">\n",
       "  <thead>\n",
       "    <tr style=\"text-align: right;\">\n",
       "      <th></th>\n",
       "      <th>precision</th>\n",
       "      <th>recall</th>\n",
       "      <th>f1-score</th>\n",
       "      <th>support</th>\n",
       "    </tr>\n",
       "  </thead>\n",
       "  <tbody>\n",
       "    <tr>\n",
       "      <th>&lt;pad&gt;</th>\n",
       "      <td>0.999617</td>\n",
       "      <td>0.999974</td>\n",
       "      <td>0.999796</td>\n",
       "      <td>78383.0</td>\n",
       "    </tr>\n",
       "    <tr>\n",
       "      <th>[CLS]</th>\n",
       "      <td>0.998989</td>\n",
       "      <td>0.988000</td>\n",
       "      <td>0.993464</td>\n",
       "      <td>1000.0</td>\n",
       "    </tr>\n",
       "    <tr>\n",
       "      <th>[SEP]</th>\n",
       "      <td>0.998973</td>\n",
       "      <td>0.973974</td>\n",
       "      <td>0.986315</td>\n",
       "      <td>999.0</td>\n",
       "    </tr>\n",
       "    <tr>\n",
       "      <th>B-LOC/ORG</th>\n",
       "      <td>0.000000</td>\n",
       "      <td>0.000000</td>\n",
       "      <td>0.000000</td>\n",
       "      <td>0.0</td>\n",
       "    </tr>\n",
       "    <tr>\n",
       "      <th>B-EVN</th>\n",
       "      <td>0.000000</td>\n",
       "      <td>0.000000</td>\n",
       "      <td>0.000000</td>\n",
       "      <td>9.0</td>\n",
       "    </tr>\n",
       "    <tr>\n",
       "      <th>B-LOC/PRS</th>\n",
       "      <td>0.000000</td>\n",
       "      <td>0.000000</td>\n",
       "      <td>0.000000</td>\n",
       "      <td>2.0</td>\n",
       "    </tr>\n",
       "    <tr>\n",
       "      <th>I-TME</th>\n",
       "      <td>0.578431</td>\n",
       "      <td>0.590000</td>\n",
       "      <td>0.584158</td>\n",
       "      <td>200.0</td>\n",
       "    </tr>\n",
       "    <tr>\n",
       "      <th>I-ORG</th>\n",
       "      <td>1.000000</td>\n",
       "      <td>0.077778</td>\n",
       "      <td>0.144330</td>\n",
       "      <td>90.0</td>\n",
       "    </tr>\n",
       "    <tr>\n",
       "      <th>I-PRS</th>\n",
       "      <td>0.808511</td>\n",
       "      <td>0.785124</td>\n",
       "      <td>0.796646</td>\n",
       "      <td>242.0</td>\n",
       "    </tr>\n",
       "    <tr>\n",
       "      <th>B-ORG/PRS</th>\n",
       "      <td>0.000000</td>\n",
       "      <td>0.000000</td>\n",
       "      <td>0.000000</td>\n",
       "      <td>0.0</td>\n",
       "    </tr>\n",
       "    <tr>\n",
       "      <th>I-PRS/WRK</th>\n",
       "      <td>0.000000</td>\n",
       "      <td>0.000000</td>\n",
       "      <td>0.000000</td>\n",
       "      <td>0.0</td>\n",
       "    </tr>\n",
       "    <tr>\n",
       "      <th>B-O</th>\n",
       "      <td>0.958962</td>\n",
       "      <td>0.988579</td>\n",
       "      <td>0.973545</td>\n",
       "      <td>14797.0</td>\n",
       "    </tr>\n",
       "    <tr>\n",
       "      <th>B-LOC</th>\n",
       "      <td>0.756098</td>\n",
       "      <td>0.548673</td>\n",
       "      <td>0.635897</td>\n",
       "      <td>113.0</td>\n",
       "    </tr>\n",
       "    <tr>\n",
       "      <th>B-ORG</th>\n",
       "      <td>1.000000</td>\n",
       "      <td>0.021739</td>\n",
       "      <td>0.042553</td>\n",
       "      <td>46.0</td>\n",
       "    </tr>\n",
       "    <tr>\n",
       "      <th>I-OBJ</th>\n",
       "      <td>0.000000</td>\n",
       "      <td>0.000000</td>\n",
       "      <td>0.000000</td>\n",
       "      <td>3.0</td>\n",
       "    </tr>\n",
       "    <tr>\n",
       "      <th>B-MSR</th>\n",
       "      <td>0.000000</td>\n",
       "      <td>0.000000</td>\n",
       "      <td>0.000000</td>\n",
       "      <td>24.0</td>\n",
       "    </tr>\n",
       "    <tr>\n",
       "      <th>I-LOC</th>\n",
       "      <td>0.714286</td>\n",
       "      <td>0.234375</td>\n",
       "      <td>0.352941</td>\n",
       "      <td>64.0</td>\n",
       "    </tr>\n",
       "    <tr>\n",
       "      <th>B-PRS/WRK</th>\n",
       "      <td>0.000000</td>\n",
       "      <td>0.000000</td>\n",
       "      <td>0.000000</td>\n",
       "      <td>0.0</td>\n",
       "    </tr>\n",
       "    <tr>\n",
       "      <th>I-EVN</th>\n",
       "      <td>0.000000</td>\n",
       "      <td>0.000000</td>\n",
       "      <td>0.000000</td>\n",
       "      <td>7.0</td>\n",
       "    </tr>\n",
       "    <tr>\n",
       "      <th>B-PRS</th>\n",
       "      <td>0.859551</td>\n",
       "      <td>0.750000</td>\n",
       "      <td>0.801047</td>\n",
       "      <td>204.0</td>\n",
       "    </tr>\n",
       "    <tr>\n",
       "      <th>I-ORG/PRS</th>\n",
       "      <td>0.000000</td>\n",
       "      <td>0.000000</td>\n",
       "      <td>0.000000</td>\n",
       "      <td>0.0</td>\n",
       "    </tr>\n",
       "    <tr>\n",
       "      <th>I-O</th>\n",
       "      <td>0.940323</td>\n",
       "      <td>0.944009</td>\n",
       "      <td>0.942163</td>\n",
       "      <td>3572.0</td>\n",
       "    </tr>\n",
       "    <tr>\n",
       "      <th>I-MSR</th>\n",
       "      <td>0.750000</td>\n",
       "      <td>0.060000</td>\n",
       "      <td>0.111111</td>\n",
       "      <td>50.0</td>\n",
       "    </tr>\n",
       "    <tr>\n",
       "      <th>B-OBJ</th>\n",
       "      <td>0.000000</td>\n",
       "      <td>0.000000</td>\n",
       "      <td>0.000000</td>\n",
       "      <td>2.0</td>\n",
       "    </tr>\n",
       "    <tr>\n",
       "      <th>B-WRK</th>\n",
       "      <td>0.000000</td>\n",
       "      <td>0.000000</td>\n",
       "      <td>0.000000</td>\n",
       "      <td>7.0</td>\n",
       "    </tr>\n",
       "    <tr>\n",
       "      <th>I-WRK</th>\n",
       "      <td>0.000000</td>\n",
       "      <td>0.000000</td>\n",
       "      <td>0.000000</td>\n",
       "      <td>35.0</td>\n",
       "    </tr>\n",
       "    <tr>\n",
       "      <th>B-TME</th>\n",
       "      <td>0.703704</td>\n",
       "      <td>0.255034</td>\n",
       "      <td>0.374384</td>\n",
       "      <td>149.0</td>\n",
       "    </tr>\n",
       "    <tr>\n",
       "      <th>I-LOC/PRS</th>\n",
       "      <td>0.000000</td>\n",
       "      <td>0.000000</td>\n",
       "      <td>0.000000</td>\n",
       "      <td>2.0</td>\n",
       "    </tr>\n",
       "    <tr>\n",
       "      <th>micro avg</th>\n",
       "      <td>0.989290</td>\n",
       "      <td>0.989290</td>\n",
       "      <td>0.989290</td>\n",
       "      <td>100000.0</td>\n",
       "    </tr>\n",
       "    <tr>\n",
       "      <th>macro avg</th>\n",
       "      <td>0.430980</td>\n",
       "      <td>0.293474</td>\n",
       "      <td>0.312084</td>\n",
       "      <td>100000.0</td>\n",
       "    </tr>\n",
       "    <tr>\n",
       "      <th>weighted avg</th>\n",
       "      <td>0.987948</td>\n",
       "      <td>0.989290</td>\n",
       "      <td>0.987605</td>\n",
       "      <td>100000.0</td>\n",
       "    </tr>\n",
       "  </tbody>\n",
       "</table>\n",
       "</div>"
      ],
      "text/plain": [
       "              precision    recall  f1-score   support\n",
       "<pad>          0.999617  0.999974  0.999796   78383.0\n",
       "[CLS]          0.998989  0.988000  0.993464    1000.0\n",
       "[SEP]          0.998973  0.973974  0.986315     999.0\n",
       "B-LOC/ORG      0.000000  0.000000  0.000000       0.0\n",
       "B-EVN          0.000000  0.000000  0.000000       9.0\n",
       "B-LOC/PRS      0.000000  0.000000  0.000000       2.0\n",
       "I-TME          0.578431  0.590000  0.584158     200.0\n",
       "I-ORG          1.000000  0.077778  0.144330      90.0\n",
       "I-PRS          0.808511  0.785124  0.796646     242.0\n",
       "B-ORG/PRS      0.000000  0.000000  0.000000       0.0\n",
       "I-PRS/WRK      0.000000  0.000000  0.000000       0.0\n",
       "B-O            0.958962  0.988579  0.973545   14797.0\n",
       "B-LOC          0.756098  0.548673  0.635897     113.0\n",
       "B-ORG          1.000000  0.021739  0.042553      46.0\n",
       "I-OBJ          0.000000  0.000000  0.000000       3.0\n",
       "B-MSR          0.000000  0.000000  0.000000      24.0\n",
       "I-LOC          0.714286  0.234375  0.352941      64.0\n",
       "B-PRS/WRK      0.000000  0.000000  0.000000       0.0\n",
       "I-EVN          0.000000  0.000000  0.000000       7.0\n",
       "B-PRS          0.859551  0.750000  0.801047     204.0\n",
       "I-ORG/PRS      0.000000  0.000000  0.000000       0.0\n",
       "I-O            0.940323  0.944009  0.942163    3572.0\n",
       "I-MSR          0.750000  0.060000  0.111111      50.0\n",
       "B-OBJ          0.000000  0.000000  0.000000       2.0\n",
       "B-WRK          0.000000  0.000000  0.000000       7.0\n",
       "I-WRK          0.000000  0.000000  0.000000      35.0\n",
       "B-TME          0.703704  0.255034  0.374384     149.0\n",
       "I-LOC/PRS      0.000000  0.000000  0.000000       2.0\n",
       "micro avg      0.989290  0.989290  0.989290  100000.0\n",
       "macro avg      0.430980  0.293474  0.312084  100000.0\n",
       "weighted avg   0.987948  0.989290  0.987605  100000.0"
      ]
     },
     "execution_count": 28,
     "metadata": {},
     "output_type": "execute_result"
    }
   ],
   "source": [
    "from sklearn.metrics import classification_report\n",
    "\n",
    "report = classification_report(y_true=true_classes, y_pred=predicted_classes, labels = cf_labels, output_dict=True, zero_division=0)\n",
    "report = pd.DataFrame(report).transpose()\n",
    "report"
   ]
  },
  {
   "cell_type": "markdown",
   "metadata": {},
   "source": [
    "## Test albert and classifier on single sentences"
   ]
  },
  {
   "cell_type": "code",
   "execution_count": 29,
   "metadata": {},
   "outputs": [],
   "source": [
    "def format_single_sentence(s):\n",
    "    \"\"\"\n",
    "    Takes a string and formats it for use with the ALBERT model used in this project\n",
    "    Also returns the attention mask\n",
    "    \"\"\"\n",
    "    pad_symbol = tokenizer.encode('<pad>', add_special_tokens=False)\n",
    "    input_array = pad_symbol*100\n",
    "\n",
    "    # Encode our sentence\n",
    "    encoding = tokenizer.encode(s)\n",
    "\n",
    "    #Overwrite our dummy array\n",
    "    input_array[:len(encoding)] = encoding\n",
    "\n",
    "    #Adjust dimensionality, make it a tensor\n",
    "    input_tensor = torch.tensor(np.array(input_array).reshape(1,-1))\n",
    "    \n",
    "    attention = np.array(input_array) != 0\n",
    "    attention_tensor = torch.tensor(attention.reshape(1,-1))\n",
    "    return input_tensor, attention_tensor\n",
    "    \n",
    "#inp, att = format_single_sentence('hi')"
   ]
  },
  {
   "cell_type": "code",
   "execution_count": 30,
   "metadata": {},
   "outputs": [],
   "source": [
    "def classify_single_sentence(sentence_tensor, attention_tensor):\n",
    "    \"\"\"\n",
    "    Given input formatted for use with the ALBERT model, generates embeddings and uses them with a classifier to generate prediction for each original word\n",
    "    Returns a dataframe containing token, predicted token, and certainity/probability\n",
    "    \"\"\"\n",
    "    embedding = get_embeddings_with_gpu_batch(sentence_tensor, attention_tensor, 1)\n",
    "    \n",
    "    #Predict using the embeddings\n",
    "    prediction_probabilities = classifier.predict(embedding)\n",
    "\n",
    "    #Given these probabilities, get the predicted class for each word\n",
    "    predicted_labels = remap(prediction_probabilities)\n",
    "\n",
    "    #Get the confidence for our predictions as well\n",
    "    certainity = prediction_probabilities.max(axis=2)\n",
    "\n",
    "    #Get the input token array we used\n",
    "    sentence_tokens = tokenizer.convert_ids_to_tokens(np.array(sentence_tensor).reshape(-1,))\n",
    "\n",
    "    #Put it all into a dataframe for an easy-to-read output\n",
    "    pretty_df = pd.DataFrame(columns = ['Word', 'Predicted_Label', 'Certainity'])\n",
    "\n",
    "    pretty_df['Word'] = sentence_tokens\n",
    "    pretty_df['Predicted_Label'] = predicted_labels.T\n",
    "    pretty_df['Certainity'] = certainity.T\n",
    "    \n",
    "    return pretty_df"
   ]
  },
  {
   "cell_type": "code",
   "execution_count": 31,
   "metadata": {},
   "outputs": [],
   "source": [
    "def NER(sentence):\n",
    "    \"\"\"\n",
    "    Shorthand function for taken any sentence and tesing the model/classifier on it\n",
    "    \"\"\"\n",
    "    sentence_tensor, attention_tensor = format_single_sentence(sentence)\n",
    "    results = classify_single_sentence(sentence_tensor, attention_tensor)\n",
    "    return results"
   ]
  },
  {
   "cell_type": "code",
   "execution_count": 33,
   "metadata": {},
   "outputs": [
    {
     "name": "stderr",
     "output_type": "stream",
     "text": [
      "100%|██████████| 1/1 [00:00<00:00, 27.17it/s]"
     ]
    },
    {
     "name": "stdout",
     "output_type": "stream",
     "text": [
      "Final embedding generated with shape (1, 100, 768)\n"
     ]
    },
    {
     "name": "stderr",
     "output_type": "stream",
     "text": [
      "\n"
     ]
    },
    {
     "data": {
      "text/html": [
       "<div>\n",
       "<style scoped>\n",
       "    .dataframe tbody tr th:only-of-type {\n",
       "        vertical-align: middle;\n",
       "    }\n",
       "\n",
       "    .dataframe tbody tr th {\n",
       "        vertical-align: top;\n",
       "    }\n",
       "\n",
       "    .dataframe thead th {\n",
       "        text-align: right;\n",
       "    }\n",
       "</style>\n",
       "<table border=\"1\" class=\"dataframe\">\n",
       "  <thead>\n",
       "    <tr style=\"text-align: right;\">\n",
       "      <th></th>\n",
       "      <th>Word</th>\n",
       "      <th>Predicted_Label</th>\n",
       "      <th>Certainity</th>\n",
       "    </tr>\n",
       "  </thead>\n",
       "  <tbody>\n",
       "    <tr>\n",
       "      <th>0</th>\n",
       "      <td>[CLS]</td>\n",
       "      <td>[CLS]</td>\n",
       "      <td>0.988186</td>\n",
       "    </tr>\n",
       "    <tr>\n",
       "      <th>1</th>\n",
       "      <td>▁Jim</td>\n",
       "      <td>B-PRS</td>\n",
       "      <td>0.774892</td>\n",
       "    </tr>\n",
       "    <tr>\n",
       "      <th>2</th>\n",
       "      <td>▁är</td>\n",
       "      <td>B-O</td>\n",
       "      <td>0.935705</td>\n",
       "    </tr>\n",
       "    <tr>\n",
       "      <th>3</th>\n",
       "      <td>▁en</td>\n",
       "      <td>B-O</td>\n",
       "      <td>0.968585</td>\n",
       "    </tr>\n",
       "    <tr>\n",
       "      <th>4</th>\n",
       "      <td>▁student</td>\n",
       "      <td>B-O</td>\n",
       "      <td>0.958491</td>\n",
       "    </tr>\n",
       "    <tr>\n",
       "      <th>5</th>\n",
       "      <td>▁på</td>\n",
       "      <td>B-O</td>\n",
       "      <td>0.824784</td>\n",
       "    </tr>\n",
       "    <tr>\n",
       "      <th>6</th>\n",
       "      <td>▁KTH</td>\n",
       "      <td>B-LOC</td>\n",
       "      <td>0.381393</td>\n",
       "    </tr>\n",
       "    <tr>\n",
       "      <th>7</th>\n",
       "      <td>▁sedan</td>\n",
       "      <td>B-TME</td>\n",
       "      <td>0.668536</td>\n",
       "    </tr>\n",
       "    <tr>\n",
       "      <th>8</th>\n",
       "      <td>▁2020</td>\n",
       "      <td>I-TME</td>\n",
       "      <td>0.707608</td>\n",
       "    </tr>\n",
       "    <tr>\n",
       "      <th>9</th>\n",
       "      <td>,</td>\n",
       "      <td>B-O</td>\n",
       "      <td>0.811044</td>\n",
       "    </tr>\n",
       "    <tr>\n",
       "      <th>10</th>\n",
       "      <td>▁han</td>\n",
       "      <td>B-O</td>\n",
       "      <td>0.990344</td>\n",
       "    </tr>\n",
       "    <tr>\n",
       "      <th>11</th>\n",
       "      <td>▁studerar</td>\n",
       "      <td>B-O</td>\n",
       "      <td>0.984144</td>\n",
       "    </tr>\n",
       "    <tr>\n",
       "      <th>12</th>\n",
       "      <td>▁i</td>\n",
       "      <td>B-O</td>\n",
       "      <td>0.967263</td>\n",
       "    </tr>\n",
       "    <tr>\n",
       "      <th>13</th>\n",
       "      <td>▁Stockholm</td>\n",
       "      <td>B-LOC</td>\n",
       "      <td>0.527002</td>\n",
       "    </tr>\n",
       "    <tr>\n",
       "      <th>14</th>\n",
       "      <td>▁och</td>\n",
       "      <td>B-O</td>\n",
       "      <td>0.998193</td>\n",
       "    </tr>\n",
       "    <tr>\n",
       "      <th>15</th>\n",
       "      <td>▁arbetar</td>\n",
       "      <td>B-O</td>\n",
       "      <td>0.995565</td>\n",
       "    </tr>\n",
       "    <tr>\n",
       "      <th>16</th>\n",
       "      <td>▁med</td>\n",
       "      <td>B-O</td>\n",
       "      <td>0.998205</td>\n",
       "    </tr>\n",
       "    <tr>\n",
       "      <th>17</th>\n",
       "      <td>▁bio</td>\n",
       "      <td>B-O</td>\n",
       "      <td>0.983275</td>\n",
       "    </tr>\n",
       "    <tr>\n",
       "      <th>18</th>\n",
       "      <td>teknik</td>\n",
       "      <td>B-O</td>\n",
       "      <td>0.980847</td>\n",
       "    </tr>\n",
       "    <tr>\n",
       "      <th>19</th>\n",
       "      <td>.</td>\n",
       "      <td>I-O</td>\n",
       "      <td>0.988037</td>\n",
       "    </tr>\n",
       "  </tbody>\n",
       "</table>\n",
       "</div>"
      ],
      "text/plain": [
       "          Word Predicted_Label  Certainity\n",
       "0        [CLS]           [CLS]    0.988186\n",
       "1         ▁Jim           B-PRS    0.774892\n",
       "2          ▁är             B-O    0.935705\n",
       "3          ▁en             B-O    0.968585\n",
       "4     ▁student             B-O    0.958491\n",
       "5          ▁på             B-O    0.824784\n",
       "6         ▁KTH           B-LOC    0.381393\n",
       "7       ▁sedan           B-TME    0.668536\n",
       "8        ▁2020           I-TME    0.707608\n",
       "9            ,             B-O    0.811044\n",
       "10        ▁han             B-O    0.990344\n",
       "11   ▁studerar             B-O    0.984144\n",
       "12          ▁i             B-O    0.967263\n",
       "13  ▁Stockholm           B-LOC    0.527002\n",
       "14        ▁och             B-O    0.998193\n",
       "15    ▁arbetar             B-O    0.995565\n",
       "16        ▁med             B-O    0.998205\n",
       "17        ▁bio             B-O    0.983275\n",
       "18      teknik             B-O    0.980847\n",
       "19           .             I-O    0.988037"
      ]
     },
     "execution_count": 33,
     "metadata": {},
     "output_type": "execute_result"
    }
   ],
   "source": [
    "s = \"Jim är en student på KTH sedan 2020, han studerar i Stockholm och arbetar med bioteknik.\"\n",
    "s = \"\"\n",
    "\n",
    "NER(s).head(20)"
   ]
  },
  {
   "cell_type": "markdown",
   "metadata": {},
   "source": [
    "## Test on sentence from SUC"
   ]
  },
  {
   "cell_type": "code",
   "execution_count": 39,
   "metadata": {},
   "outputs": [
    {
     "data": {
      "text/html": [
       "<div>\n",
       "<style scoped>\n",
       "    .dataframe tbody tr th:only-of-type {\n",
       "        vertical-align: middle;\n",
       "    }\n",
       "\n",
       "    .dataframe tbody tr th {\n",
       "        vertical-align: top;\n",
       "    }\n",
       "\n",
       "    .dataframe thead th {\n",
       "        text-align: right;\n",
       "    }\n",
       "</style>\n",
       "<table border=\"1\" class=\"dataframe\">\n",
       "  <thead>\n",
       "    <tr style=\"text-align: right;\">\n",
       "      <th></th>\n",
       "      <th>Word</th>\n",
       "      <th>Predicted_Label</th>\n",
       "      <th>True_Label</th>\n",
       "      <th>Certainity</th>\n",
       "    </tr>\n",
       "  </thead>\n",
       "  <tbody>\n",
       "    <tr>\n",
       "      <th>0</th>\n",
       "      <td>[CLS]</td>\n",
       "      <td>[CLS]</td>\n",
       "      <td>[CLS]</td>\n",
       "      <td>0.993821</td>\n",
       "    </tr>\n",
       "    <tr>\n",
       "      <th>1</th>\n",
       "      <td>▁</td>\n",
       "      <td>B-O</td>\n",
       "      <td>B-O</td>\n",
       "      <td>0.876204</td>\n",
       "    </tr>\n",
       "    <tr>\n",
       "      <th>2</th>\n",
       "      <td>-</td>\n",
       "      <td>I-O</td>\n",
       "      <td>I-O</td>\n",
       "      <td>0.928279</td>\n",
       "    </tr>\n",
       "    <tr>\n",
       "      <th>3</th>\n",
       "      <td>▁Under</td>\n",
       "      <td>B-TME</td>\n",
       "      <td>B-O</td>\n",
       "      <td>0.477191</td>\n",
       "    </tr>\n",
       "    <tr>\n",
       "      <th>4</th>\n",
       "      <td>▁denna</td>\n",
       "      <td>B-O</td>\n",
       "      <td>B-O</td>\n",
       "      <td>0.655890</td>\n",
       "    </tr>\n",
       "    <tr>\n",
       "      <th>5</th>\n",
       "      <td>▁mässa</td>\n",
       "      <td>B-O</td>\n",
       "      <td>B-O</td>\n",
       "      <td>0.632979</td>\n",
       "    </tr>\n",
       "    <tr>\n",
       "      <th>6</th>\n",
       "      <td>▁tog</td>\n",
       "      <td>B-O</td>\n",
       "      <td>B-O</td>\n",
       "      <td>0.972610</td>\n",
       "    </tr>\n",
       "    <tr>\n",
       "      <th>7</th>\n",
       "      <td>▁vi</td>\n",
       "      <td>B-O</td>\n",
       "      <td>B-O</td>\n",
       "      <td>0.995264</td>\n",
       "    </tr>\n",
       "    <tr>\n",
       "      <th>8</th>\n",
       "      <td>▁på</td>\n",
       "      <td>B-O</td>\n",
       "      <td>B-O</td>\n",
       "      <td>0.973143</td>\n",
       "    </tr>\n",
       "    <tr>\n",
       "      <th>9</th>\n",
       "      <td>▁oss</td>\n",
       "      <td>B-O</td>\n",
       "      <td>B-O</td>\n",
       "      <td>0.995951</td>\n",
       "    </tr>\n",
       "    <tr>\n",
       "      <th>10</th>\n",
       "      <td>▁att</td>\n",
       "      <td>B-O</td>\n",
       "      <td>B-O</td>\n",
       "      <td>0.996978</td>\n",
       "    </tr>\n",
       "    <tr>\n",
       "      <th>11</th>\n",
       "      <td>▁boka</td>\n",
       "      <td>B-O</td>\n",
       "      <td>B-O</td>\n",
       "      <td>0.985940</td>\n",
       "    </tr>\n",
       "    <tr>\n",
       "      <th>12</th>\n",
       "      <td>▁sammanträff</td>\n",
       "      <td>B-O</td>\n",
       "      <td>B-O</td>\n",
       "      <td>0.965183</td>\n",
       "    </tr>\n",
       "    <tr>\n",
       "      <th>13</th>\n",
       "      <td>anden</td>\n",
       "      <td>I-O</td>\n",
       "      <td>I-O</td>\n",
       "      <td>0.983813</td>\n",
       "    </tr>\n",
       "    <tr>\n",
       "      <th>14</th>\n",
       "      <td>▁mellan</td>\n",
       "      <td>B-O</td>\n",
       "      <td>B-O</td>\n",
       "      <td>0.983854</td>\n",
       "    </tr>\n",
       "    <tr>\n",
       "      <th>15</th>\n",
       "      <td>▁leverantörer</td>\n",
       "      <td>B-O</td>\n",
       "      <td>B-O</td>\n",
       "      <td>0.988336</td>\n",
       "    </tr>\n",
       "    <tr>\n",
       "      <th>16</th>\n",
       "      <td>▁och</td>\n",
       "      <td>B-O</td>\n",
       "      <td>B-O</td>\n",
       "      <td>0.998416</td>\n",
       "    </tr>\n",
       "    <tr>\n",
       "      <th>17</th>\n",
       "      <td>▁kunder</td>\n",
       "      <td>B-O</td>\n",
       "      <td>B-O</td>\n",
       "      <td>0.960343</td>\n",
       "    </tr>\n",
       "    <tr>\n",
       "      <th>18</th>\n",
       "      <td>▁</td>\n",
       "      <td>B-O</td>\n",
       "      <td>B-O</td>\n",
       "      <td>0.987914</td>\n",
       "    </tr>\n",
       "    <tr>\n",
       "      <th>19</th>\n",
       "      <td>.</td>\n",
       "      <td>I-O</td>\n",
       "      <td>I-O</td>\n",
       "      <td>0.993192</td>\n",
       "    </tr>\n",
       "  </tbody>\n",
       "</table>\n",
       "</div>"
      ],
      "text/plain": [
       "             Word Predicted_Label True_Label  Certainity\n",
       "0           [CLS]           [CLS]      [CLS]    0.993821\n",
       "1               ▁             B-O        B-O    0.876204\n",
       "2               -             I-O        I-O    0.928279\n",
       "3          ▁Under           B-TME        B-O    0.477191\n",
       "4          ▁denna             B-O        B-O    0.655890\n",
       "5          ▁mässa             B-O        B-O    0.632979\n",
       "6            ▁tog             B-O        B-O    0.972610\n",
       "7             ▁vi             B-O        B-O    0.995264\n",
       "8             ▁på             B-O        B-O    0.973143\n",
       "9            ▁oss             B-O        B-O    0.995951\n",
       "10           ▁att             B-O        B-O    0.996978\n",
       "11          ▁boka             B-O        B-O    0.985940\n",
       "12   ▁sammanträff             B-O        B-O    0.965183\n",
       "13          anden             I-O        I-O    0.983813\n",
       "14        ▁mellan             B-O        B-O    0.983854\n",
       "15  ▁leverantörer             B-O        B-O    0.988336\n",
       "16           ▁och             B-O        B-O    0.998416\n",
       "17        ▁kunder             B-O        B-O    0.960343\n",
       "18              ▁             B-O        B-O    0.987914\n",
       "19              .             I-O        I-O    0.993192"
      ]
     },
     "execution_count": 39,
     "metadata": {},
     "output_type": "execute_result"
    }
   ],
   "source": [
    "#Select a sentence\n",
    "select = 4999\n",
    "\n",
    "# Get the original sentence\n",
    "sentence = np.array(sentences[select])\n",
    "sentence_tokens = np.array(tokenizer.convert_ids_to_tokens(sentence))\n",
    "\n",
    "# Get the ground truth labels\n",
    "one_hot_truth = label_matrix[select].reshape(1,100,-1)\n",
    "gt_labels = remap(one_hot_truth)\n",
    "\n",
    "#Get the embedding matrix we generated for the sentence\n",
    "sentence_embedding = embedding_matrix[select].reshape(1,100,-1)\n",
    "\n",
    "#For each word, obtain the probabilities for each class\n",
    "prediction_probabilities = classifier.predict(sentence_embedding)\n",
    "\n",
    "#Given these probabilities, get the predicted class for each word\n",
    "predicted_labels = remap(prediction_probabilities)\n",
    "\n",
    "#Get the confidence for our predictions as well\n",
    "certainity = prediction_probabilities.max(axis=2)\n",
    "\n",
    "\n",
    "#Put it all into a dataframe for an easy-to-read output\n",
    "pretty_df = pd.DataFrame(columns = ['Word', 'Predicted_Label', 'True_Label', 'Certainity'])\n",
    "\n",
    "pretty_df['Word'] = sentence_tokens\n",
    "pretty_df['Predicted_Label'] = predicted_labels.T\n",
    "pretty_df['True_Label'] = gt_labels.T\n",
    "pretty_df['Certainity'] = certainity.T\n",
    "\n",
    "\n",
    "pretty_df.head(20)"
   ]
  },
  {
   "cell_type": "code",
   "execution_count": null,
   "metadata": {},
   "outputs": [],
   "source": [
    "# Randomize train test split?\n",
    "\n",
    "# A good read on using the fine-tuning approach\n",
    "# https://medium.com/swlh/named-entity-recognition-using-bert-2fb924864d47"
   ]
  }
 ],
 "metadata": {
  "kernelspec": {
   "display_name": ".thesis",
   "language": "python",
   "name": ".thesis"
  },
  "language_info": {
   "codemirror_mode": {
    "name": "ipython",
    "version": 3
   },
   "file_extension": ".py",
   "mimetype": "text/x-python",
   "name": "python",
   "nbconvert_exporter": "python",
   "pygments_lexer": "ipython3",
   "version": "3.7.5"
  }
 },
 "nbformat": 4,
 "nbformat_minor": 4
}
