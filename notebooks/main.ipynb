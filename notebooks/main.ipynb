{
 "cells": [
  {
   "cell_type": "markdown",
   "metadata": {},
   "source": [
    "# SETUP"
   ]
  },
  {
   "cell_type": "code",
   "execution_count": 1,
   "metadata": {},
   "outputs": [
    {
     "name": "stderr",
     "output_type": "stream",
     "text": [
      "Using TensorFlow backend.\n"
     ]
    }
   ],
   "source": [
    "# Imports\n",
    "import pandas as pd\n",
    "import numpy as np\n",
    "import seaborn as sns\n",
    "import tensorflow as tf\n",
    "import torch\n",
    "from tqdm import tqdm, trange\n",
    "from transformers import AutoModel\n",
    "from keras.preprocessing.sequence import pad_sequences\n",
    "from transformers import AutoTokenizer\n",
    "import matplotlib.pyplot as plt\n",
    "import random\n"
   ]
  },
  {
   "cell_type": "code",
   "execution_count": 2,
   "metadata": {},
   "outputs": [
    {
     "name": "stdout",
     "output_type": "stream",
     "text": [
      "There are 1 GPU(s) available.\n",
      "We will use the GPU: GeForce GTX 1050 Ti\n"
     ]
    }
   ],
   "source": [
    "# GPU check\n",
    "if torch.cuda.is_available():    \n",
    "\n",
    "    # Tell PyTorch to use the GPU.    \n",
    "    device = torch.device(\"cuda\")\n",
    "\n",
    "    print('There are %d GPU(s) available.' % torch.cuda.device_count())\n",
    "\n",
    "    print('We will use the GPU:', torch.cuda.get_device_name(0))\n",
    "else:\n",
    "    print('No GPU available, using the CPU instead.')\n",
    "    device = torch.device(\"cpu\")"
   ]
  },
  {
   "cell_type": "markdown",
   "metadata": {},
   "source": [
    "# FUNCTIONS"
   ]
  },
  {
   "cell_type": "code",
   "execution_count": 3,
   "metadata": {},
   "outputs": [],
   "source": [
    "#This is the latest!\n",
    "def load_data_from_start(subsetsize = 0):\n",
    "    #Load the data\n",
    "    if subsetsize == 0:\n",
    "        print(\"Returning all data\")\n",
    "        sentences = np.load(\"../data/sentence_ints.npy\")\n",
    "        attentions = np.load(\"../data/attention_ints.npy\")\n",
    "        labels = np.load(\"../data/label_ints.npy\")\n",
    "        label_list = np.load(\"../data/label_list.npy\")\n",
    "        return sentences, attentions, labels, label_list\n",
    "    else:\n",
    "        print(f\"Returning subset of size {subsetsize}\")\n",
    "        sentences = np.load(\"../data/sentence_ints.npy\")[:subsetsize]\n",
    "        attentions = np.load(\"../data/attention_ints.npy\")[:subsetsize]\n",
    "        labels = np.load(\"../data/label_ints.npy\")[:subsetsize]\n",
    "        label_list = np.load(\"../data/label_list.npy\")\n",
    "        return sentences, attentions, labels, label_list\n"
   ]
  },
  {
   "cell_type": "code",
   "execution_count": 4,
   "metadata": {},
   "outputs": [],
   "source": [
    "\"\"\"\n",
    "For dealing with large amounts of data, a GPU is much faster\n",
    "\n",
    "The resulting embedding matrix is a three-dimensional tensor corresponding to                 [Sentence][Words][Embeddings]\n",
    "embeddings[5][4][:] is thus the embedding of the fourth word in the fifth sentence\n",
    "\"\"\"\n",
    "\n",
    "def get_embeddings_with_gpu(data_matrix, mask_matrix):\n",
    "    # Load the device\n",
    "    device = torch.device(\"cuda\" if torch.cuda.is_available() else \"cpu\")\n",
    "    #print(f\"Using device: {torch.cuda.get_device_name(0)}\")\n",
    "\n",
    "    # Set the model to use the device\n",
    "    model.cuda()\n",
    "\n",
    "    # Move the data onto the GPU\n",
    "    data_matrix = data_matrix.to(device)\n",
    "    mask_matrix = mask_matrix.to(device)\n",
    "\n",
    "    # Generate embeddings\n",
    "    matrix_embedding = model.forward(input_ids=data_matrix,\n",
    "        attention_mask=mask_matrix,\n",
    "        head_mask=None)[0]\n",
    "    #print(f\"Embedding generated with shape {batch_embedding.shape}\")\n",
    "\n",
    "    # Make it an ordinary np array instead of a torch\n",
    "    matrix_embedding = np.array(matrix_embedding.tolist())\n",
    "\n",
    "    return matrix_embedding\n",
    "\n",
    "#Keep amount of samples low to not overwhelm the gpu\n",
    "#get_embeddings_with_gpu(data_tensor_matrix[:10], mask_tensor_matrix[:10])"
   ]
  },
  {
   "cell_type": "code",
   "execution_count": 5,
   "metadata": {},
   "outputs": [],
   "source": [
    "\"\"\"\n",
    "Most people won't be able to load all the data onto the GPU at once however, so it's better   to do it in batches.\n",
    "(50 input sentences take 2803MB on my computer, for example). Though this depends on the dimensionality/sentence_length you use, naturally\n",
    "\n",
    "This method batchifies and stitches together the batches\n",
    "\"\"\"\n",
    "def get_embeddings_with_gpu_batch(data_matrix, mask_matrix, batch_size):\n",
    "    num_items = data_matrix.shape[0]\n",
    "    num_loops = int(np.ceil(num_items/batch_size))\n",
    "\n",
    "    start = 0\n",
    "    end = batch_size\n",
    "    data_holder = []\n",
    "\n",
    "    for i in trange(num_loops):\n",
    "        # Split the data into batches\n",
    "        data_batch = data_matrix[start:end]\n",
    "        mask_batch = mask_matrix[start:end]\n",
    "\n",
    "        #Get the embedding for the batch\n",
    "        batch_embedding = get_embeddings_with_gpu(data_batch, mask_batch)\n",
    "\n",
    "        data_holder.append(batch_embedding)\n",
    "\n",
    "        #Move to next batch\n",
    "        start += batch_size\n",
    "        end += batch_size\n",
    "\n",
    "    # Merge the batches we've generated\n",
    "    embedding_matrix = np.vstack(data_holder)\n",
    "\n",
    "    print(f\"Final embedding generated with shape {embedding_matrix.shape}\")\n",
    "\n",
    "    return embedding_matrix\n",
    "\n",
    "#embedding_matrix = get_embeddings_with_gpu_batch(data_tensor_matrix[:200], mask_tensor_matrix[:200], 50)\n"
   ]
  },
  {
   "cell_type": "code",
   "execution_count": 6,
   "metadata": {},
   "outputs": [],
   "source": [
    "\"\"\"\n",
    "Split data into train and test sets by the given ratio.\n",
    "Validation sets are not needed, those we get for free with keras models\n",
    "\n",
    "\"\"\"\n",
    "def split_data(percentage_to_train_on, input_data, output_data):\n",
    "    ratio = percentage_to_train_on\n",
    "\n",
    "    split = int(np.ceil(ratio*input_data.shape[0]))\n",
    "\n",
    "    train_x = input_data[:split]\n",
    "    train_y = output_data[:split]\n",
    "\n",
    "    test_x = input_data[split:]\n",
    "    test_y = output_data[split:]\n",
    "\n",
    "    return train_x, train_y, test_x, test_y\n",
    "\n",
    "\n",
    "def shuffle_data(things_to_shuffle):\n",
    "    \"\"\"\n",
    "    Takes a list of lists and shuffles them all in the same way\n",
    "    \"\"\"\n",
    "    #Set seed for reproducibility\n",
    "    random.seed(2020)\n",
    "    \n",
    "    # Create a list of indices based on the input data\n",
    "    indices = [i for i in range(things_to_shuffle[0].shape[0])]\n",
    "    \n",
    "    #Shuffle the indices\n",
    "    random.shuffle(indices)\n",
    "\n",
    "    shuffled_lists = []\n",
    "    #For each list,\n",
    "    for thing_to_shuffle in things_to_shuffle:\n",
    "        #Reorder the list according to the shuffled indices\n",
    "        shuffled = np.array([thing_to_shuffle[i] for i in indices])\n",
    "        shuffled_lists.append(shuffled)\n",
    "    return shuffled_lists"
   ]
  },
  {
   "cell_type": "code",
   "execution_count": 7,
   "metadata": {},
   "outputs": [],
   "source": [
    "def generate_embedding_file(sentences, attentions):\n",
    "    \"\"\"\n",
    "    A method needed when we can't keep the entire embedding matrix in ram, such as when generating the embeddings for the whole suc3 dataset.\n",
    "    \n",
    "    A 70000 * 100 * 768 matrix of float 64s take like, 50GB.\n",
    "    \n",
    "    So instead of trying to keep all that in RAM, this function creates an array on disk to store the embedding in.\n",
    "    \n",
    "    On my laptop, this took half an hour and 50 gb of memory\n",
    "    \n",
    "    \"\"\"\n",
    "    #CREATE MEMORY-MAPPED-OBJECT\n",
    "    \n",
    "    #Define the shape of the array\n",
    "    embedding_matrix_shape = (np.load(\"../data/sentence_ints.npy\").shape[0], np.load(\"../data/sentence_ints.npy\").shape[1], 768)\n",
    "\n",
    "    #Select the type of the data we will store.\n",
    "    data_type = np.float64\n",
    "\n",
    "    #Make space for it on disk\n",
    "    f = np.memmap('../data/MMAP_MATRIX.dat', dtype=data_type,\n",
    "                  mode='w+', shape=embedding_matrix_shape)\n",
    "\n",
    "\n",
    "    #GENERATE EMBEDDINGS AND STORE IN OBJECT\n",
    "    #Convert to tensors\n",
    "    sentences, attentions = torch.tensor(sentences), torch.tensor(attentions)\n",
    "    \n",
    "    num_batches = 10\n",
    "    batch_size = int(np.ceil(sentences.shape[0]/num_batches))\n",
    "    for i in range(0, num_batches):\n",
    "        #Define slice to generate embedding for\n",
    "        start = batch_size * i\n",
    "        end = batch_size * (i+1)\n",
    "        \n",
    "        #Generate the batch\n",
    "        sentence_batch = sentences[batch_size * i : batch_size * (i + 1)]\n",
    "        attention_batch = attentions[batch_size * i : batch_size * (i + 1)]\n",
    "                \n",
    "        # store it in the memmap object\n",
    "        #Do it directly, if you save it as a reference the memory will still run out during the for loop\n",
    "        f[start:end, :, :] = get_embeddings_with_gpu_batch(sentence_batch, attention_batch, 25)\n",
    "        print(f\"Stored sentence embedding {start} to {end}\")\n",
    "\n",
    "\n",
    "#generate_embedding_file(sentences, attentions)"
   ]
  },
  {
   "cell_type": "code",
   "execution_count": 8,
   "metadata": {},
   "outputs": [],
   "source": [
    "def generate_label_file(one_hot_labels):\n",
    "    \"\"\"\n",
    "    For convenience, store the labels on disk as well. \n",
    "    No need to burn ram unneccessarily\n",
    "    \"\"\"\n",
    "    #CREATE MEMORY-MAPPED-OBJECT\n",
    "    \n",
    "    #Select the type of the data we will store.\n",
    "    data_type = np.uint8\n",
    "\n",
    "    #Make space for it on disk\n",
    "    g = np.memmap('../data/ONE_HOT_LABELS.dat', dtype=data_type,\n",
    "                  mode='w+', shape=one_hot_labels.shape)\n",
    "    \n",
    "    g[:,:,:] = one_hot_labels\n",
    "    \n",
    "    print(f\"Stored labels with shape {g.shape}\")\n",
    "    \n",
    "\n",
    "#store_one_hot_encoded_labels_file(label_matrix)"
   ]
  },
  {
   "cell_type": "code",
   "execution_count": 9,
   "metadata": {},
   "outputs": [],
   "source": [
    "def get_label_file():\n",
    "    #Select the type of the data we will store.\n",
    "    data_type = np.uint8\n",
    "\n",
    "    g = np.memmap('../data/ONE_HOT_LABELS.dat', dtype=data_type, shape=(74165, 100, 33))\n",
    "    \n",
    "    return g\n",
    "    "
   ]
  },
  {
   "cell_type": "code",
   "execution_count": 10,
   "metadata": {},
   "outputs": [],
   "source": [
    "def get_embed_file():\n",
    "    #CREATE MEMORY-MAPPED-OBJECT\n",
    "    \n",
    "    #Define the shape of the array\n",
    "    embedding_matrix_shape = (np.load(\"../data/sentence_ints.npy\").shape[0], np.load(\"../data/sentence_ints.npy\").shape[1], 768)\n",
    "#   embeddiding_matrix_shape= (sentences.shape[0], sentences.shape[1], 768)\n",
    "\n",
    "    #Select the type of the data we will store.\n",
    "    data_type = np.float64\n",
    "\n",
    "    #Make space for it on disk\n",
    "    f = np.memmap('../data/MMAP_MATRIX.dat', dtype=data_type, shape=embedding_matrix_shape)\n",
    "    return f"
   ]
  },
  {
   "cell_type": "code",
   "execution_count": 11,
   "metadata": {},
   "outputs": [],
   "source": [
    "def test_mmap_integrity(embedding_matrix, label_matrix, tests):\n",
    "    print(f\"Received a manually generated embedding with shape {embedding_matrix.shape} and labels with shape {label_matrix.shape}\")\n",
    "    print(\"Picking 100 randomly selected values\")\n",
    "    #random.seed(2020)\n",
    "    sentence_idx = [i for i in range(embedding_matrix.shape[0])]\n",
    "    random.shuffle(sentence_idx)\n",
    "\n",
    "    #word_idx = [i for i in range(ordinary_embedding.shape[1])]\n",
    "    #embedding_idx = [i for i in range(ordinary_embedding.shape[2])]\n",
    "    \n",
    "    to_test = sentence_idx[:tests]\n",
    "\n",
    "    \n",
    "    correctness_e = 0\n",
    "    correctness_l = 0\n",
    "\n",
    "    for test in to_test:\n",
    "        sample1 = random.randint(1,embedding_matrix.shape[1]-1)\n",
    "        sample2 = random.randint(1,embedding_matrix.shape[2]-1)\n",
    "        #print(f\"Sentence {test} Word {sample1} Dimension {sample2}\")\n",
    "        \n",
    "        disk_emb= get_embed_file()[test][sample1][sample2]\n",
    "        ordi_emb = embedding_matrix[test][sample1][sample2]\n",
    "        \n",
    "        disk_lab= get_label_file()[test][sample1]\n",
    "        ordi_lab = label_matrix[test][sample1]\n",
    "        correctness_e += disk_emb == ordi_emb\n",
    "        correctness_l += disk_lab == ordi_lab\n",
    "\n",
    "    print(f\"Percent correct embeddings = {correctness_e* 100/tests}\")\n",
    "    print(f\"Percent correct labels = {correctness_l* 100/tests}\")\n",
    "\n",
    "\n",
    "\n",
    "#test_mmap_integrity(embedding_matrix_old, label_matrix, 100)"
   ]
  },
  {
   "cell_type": "markdown",
   "metadata": {},
   "source": [
    "# Store data on disk\n",
    "This section is concerned with generating peristent storage for the embeddings and one-hot encoded label matrices.\n",
    "This is needed to save time and to be able to train on data larger than RAM"
   ]
  },
  {
   "cell_type": "code",
   "execution_count": 12,
   "metadata": {},
   "outputs": [
    {
     "name": "stdout",
     "output_type": "stream",
     "text": [
      "Returning all data\n"
     ]
    }
   ],
   "source": [
    "#Get all the data\n",
    "sentences, attentions, labels, label_list = load_data_from_start()\n",
    "\n",
    "# Load the model and tokenizer\n",
    "model = AutoModel.from_pretrained('KB/albert-base-swedish-cased-alpha')\n",
    "tokenizer = AutoTokenizer.from_pretrained(\"KB/albert-base-swedish-cased-alpha\")\n",
    "\n",
    "#Update the tokenizer with our labels (which do not exist in the normal vocabulary)\n",
    "tokenizer.add_tokens(label_list.tolist())\n",
    "\n",
    "#Inform the model that we've updated the vocab\n",
    "model.resize_token_embeddings(len(tokenizer))\n",
    "\n",
    "#Shuffle the data\n",
    "shuffled = shuffle_data([sentences, attentions, labels])\n",
    "sentences, attentions, labels = shuffled[0], shuffled[1], shuffled[2]"
   ]
  },
  {
   "cell_type": "code",
   "execution_count": 15,
   "metadata": {},
   "outputs": [],
   "source": [
    "np.save('../data/sentence_tokens', sentences)"
   ]
  },
  {
   "cell_type": "code",
   "execution_count": 13,
   "metadata": {},
   "outputs": [],
   "source": [
    "#We need to one-hot encode the output labels for use with the classifier\n",
    "\n",
    "#Flatten the label matrix\n",
    "long_single_token_label_list = labels.reshape(-1,)\n",
    "\n",
    "#one-hot encode all labels\n",
    "dummy_variable_representation = pd.get_dummies(long_single_token_label_list)\n",
    "\n",
    "#Make a dummy-variable-index => token dict for later use\n",
    "dummyIndex_label_dict = {}\n",
    "for i, column in enumerate(dummy_variable_representation):\n",
    "    dummyIndex_label_dict[i] = tokenizer.decode(column)\n",
    "    \n",
    "\n",
    "#Reshape the one-hot encoding so we get it in the correct shape, that is, grouped on a sentence level\n",
    "label_matrix = dummy_variable_representation.values.reshape(labels.shape[0], labels.shape[1], -1)"
   ]
  },
  {
   "cell_type": "code",
   "execution_count": 15,
   "metadata": {},
   "outputs": [],
   "source": [
    "#np.save(\"../data/dummy_index_label_dict\", dummyIndex_label_dict)"
   ]
  },
  {
   "cell_type": "code",
   "execution_count": 14,
   "metadata": {},
   "outputs": [
    {
     "name": "stderr",
     "output_type": "stream",
     "text": [
      "  0%|          | 0/297 [00:00<?, ?it/s]"
     ]
    },
    {
     "name": "stdout",
     "output_type": "stream",
     "text": [
      "Stored embeddings with shape (74165, 100, 33)\n"
     ]
    },
    {
     "name": "stderr",
     "output_type": "stream",
     "text": [
      "100%|██████████| 297/297 [03:09<00:00,  1.57it/s]\n"
     ]
    },
    {
     "name": "stdout",
     "output_type": "stream",
     "text": [
      "Final embedding generated with shape (7417, 100, 768)\n"
     ]
    },
    {
     "name": "stderr",
     "output_type": "stream",
     "text": [
      "  0%|          | 0/297 [00:00<?, ?it/s]"
     ]
    },
    {
     "name": "stdout",
     "output_type": "stream",
     "text": [
      "Stored sentence embedding 0 to 7417\n"
     ]
    },
    {
     "name": "stderr",
     "output_type": "stream",
     "text": [
      "100%|██████████| 297/297 [03:58<00:00,  1.25it/s]\n"
     ]
    },
    {
     "name": "stdout",
     "output_type": "stream",
     "text": [
      "Final embedding generated with shape (7417, 100, 768)\n"
     ]
    },
    {
     "name": "stderr",
     "output_type": "stream",
     "text": [
      "  0%|          | 0/297 [00:00<?, ?it/s]"
     ]
    },
    {
     "name": "stdout",
     "output_type": "stream",
     "text": [
      "Stored sentence embedding 7417 to 14834\n"
     ]
    },
    {
     "name": "stderr",
     "output_type": "stream",
     "text": [
      "100%|██████████| 297/297 [03:57<00:00,  1.25it/s]\n"
     ]
    },
    {
     "name": "stdout",
     "output_type": "stream",
     "text": [
      "Final embedding generated with shape (7417, 100, 768)\n"
     ]
    },
    {
     "name": "stderr",
     "output_type": "stream",
     "text": [
      "  0%|          | 0/297 [00:00<?, ?it/s]"
     ]
    },
    {
     "name": "stdout",
     "output_type": "stream",
     "text": [
      "Stored sentence embedding 14834 to 22251\n"
     ]
    },
    {
     "name": "stderr",
     "output_type": "stream",
     "text": [
      "100%|██████████| 297/297 [03:58<00:00,  1.24it/s]\n"
     ]
    },
    {
     "name": "stdout",
     "output_type": "stream",
     "text": [
      "Final embedding generated with shape (7417, 100, 768)\n"
     ]
    },
    {
     "name": "stderr",
     "output_type": "stream",
     "text": [
      "  0%|          | 0/297 [00:00<?, ?it/s]"
     ]
    },
    {
     "name": "stdout",
     "output_type": "stream",
     "text": [
      "Stored sentence embedding 22251 to 29668\n"
     ]
    },
    {
     "name": "stderr",
     "output_type": "stream",
     "text": [
      "100%|██████████| 297/297 [03:57<00:00,  1.25it/s]\n"
     ]
    },
    {
     "name": "stdout",
     "output_type": "stream",
     "text": [
      "Final embedding generated with shape (7417, 100, 768)\n"
     ]
    },
    {
     "name": "stderr",
     "output_type": "stream",
     "text": [
      "  0%|          | 0/297 [00:00<?, ?it/s]"
     ]
    },
    {
     "name": "stdout",
     "output_type": "stream",
     "text": [
      "Stored sentence embedding 29668 to 37085\n"
     ]
    },
    {
     "name": "stderr",
     "output_type": "stream",
     "text": [
      "100%|██████████| 297/297 [03:58<00:00,  1.25it/s]\n"
     ]
    },
    {
     "name": "stdout",
     "output_type": "stream",
     "text": [
      "Final embedding generated with shape (7417, 100, 768)\n"
     ]
    },
    {
     "name": "stderr",
     "output_type": "stream",
     "text": [
      "  0%|          | 0/297 [00:00<?, ?it/s]"
     ]
    },
    {
     "name": "stdout",
     "output_type": "stream",
     "text": [
      "Stored sentence embedding 37085 to 44502\n"
     ]
    },
    {
     "name": "stderr",
     "output_type": "stream",
     "text": [
      "100%|██████████| 297/297 [03:56<00:00,  1.25it/s]\n"
     ]
    },
    {
     "name": "stdout",
     "output_type": "stream",
     "text": [
      "Final embedding generated with shape (7417, 100, 768)\n"
     ]
    },
    {
     "name": "stderr",
     "output_type": "stream",
     "text": [
      "  0%|          | 0/297 [00:00<?, ?it/s]"
     ]
    },
    {
     "name": "stdout",
     "output_type": "stream",
     "text": [
      "Stored sentence embedding 44502 to 51919\n"
     ]
    },
    {
     "name": "stderr",
     "output_type": "stream",
     "text": [
      "100%|██████████| 297/297 [03:56<00:00,  1.25it/s]\n"
     ]
    },
    {
     "name": "stdout",
     "output_type": "stream",
     "text": [
      "Final embedding generated with shape (7417, 100, 768)\n"
     ]
    },
    {
     "name": "stderr",
     "output_type": "stream",
     "text": [
      "  0%|          | 0/297 [00:00<?, ?it/s]"
     ]
    },
    {
     "name": "stdout",
     "output_type": "stream",
     "text": [
      "Stored sentence embedding 51919 to 59336\n"
     ]
    },
    {
     "name": "stderr",
     "output_type": "stream",
     "text": [
      "100%|██████████| 297/297 [03:56<00:00,  1.25it/s]\n"
     ]
    },
    {
     "name": "stdout",
     "output_type": "stream",
     "text": [
      "Final embedding generated with shape (7417, 100, 768)\n"
     ]
    },
    {
     "name": "stderr",
     "output_type": "stream",
     "text": [
      "  0%|          | 0/297 [00:00<?, ?it/s]"
     ]
    },
    {
     "name": "stdout",
     "output_type": "stream",
     "text": [
      "Stored sentence embedding 59336 to 66753\n"
     ]
    },
    {
     "name": "stderr",
     "output_type": "stream",
     "text": [
      "100%|██████████| 297/297 [03:56<00:00,  1.26it/s]\n"
     ]
    },
    {
     "name": "stdout",
     "output_type": "stream",
     "text": [
      "Final embedding generated with shape (7412, 100, 768)\n",
      "Stored sentence embedding 66753 to 74170\n"
     ]
    }
   ],
   "source": [
    "# Put it in persistent storage\n",
    "#generate_label_file(label_matrix)\n",
    "#generate_embedding_file(sentences, attentions)"
   ]
  },
  {
   "cell_type": "code",
   "execution_count": null,
   "metadata": {},
   "outputs": [],
   "source": [
    "# Double check that things are correct by comparing with some embeddings generated in RAM\n",
    "\n",
    "sentences, attentions, labels, label_list = load_data_from_start(subsetsize=5000)\n",
    "\n"
   ]
  },
  {
   "cell_type": "markdown",
   "metadata": {},
   "source": [
    "# LOAD DATA"
   ]
  },
  {
   "cell_type": "code",
   "execution_count": 117,
   "metadata": {},
   "outputs": [
    {
     "name": "stdout",
     "output_type": "stream",
     "text": [
      "Returning subset of size 1000\n"
     ]
    }
   ],
   "source": [
    "\n",
    "sentences, attentions, labels, label_list = load_data_from_start(subsetsize=5000)"
   ]
  },
  {
   "cell_type": "code",
   "execution_count": 11,
   "metadata": {},
   "outputs": [
    {
     "data": {
      "application/vnd.jupyter.widget-view+json": {
       "model_id": "1a928a6149de48f8ae6b17d9a66f9c5f",
       "version_major": 2,
       "version_minor": 0
      },
      "text/plain": [
       "HBox(children=(FloatProgress(value=0.0, description='Downloading', max=657.0, style=ProgressStyle(description_…"
      ]
     },
     "metadata": {},
     "output_type": "display_data"
    },
    {
     "name": "stdout",
     "output_type": "stream",
     "text": [
      "\n"
     ]
    },
    {
     "data": {
      "text/plain": [
       "Embedding(50030, 128)"
      ]
     },
     "execution_count": 11,
     "metadata": {},
     "output_type": "execute_result"
    }
   ],
   "source": [
    "# Load the model and tokenizer\n",
    "model = AutoModel.from_pretrained('KB/albert-base-swedish-cased-alpha')\n",
    "tokenizer = AutoTokenizer.from_pretrained(\"KB/albert-base-swedish-cased-alpha\")\n",
    "\n",
    "#Update the tokenizer with our labels (which do not exist in the normal vocabulary)\n",
    "tokenizer.add_tokens(label_list.tolist())\n",
    "\n",
    "#Inform the model that we've updated the vocab\n",
    "model.resize_token_embeddings(len(tokenizer))"
   ]
  },
  {
   "cell_type": "code",
   "execution_count": 98,
   "metadata": {},
   "outputs": [],
   "source": [
    "#Shuffle the data\n",
    "shuffled = shuffle_data([sentences, attentions, labels])\n",
    "sentences, attentions, labels = shuffled[0], shuffled[1], shuffled[2]"
   ]
  },
  {
   "cell_type": "code",
   "execution_count": 99,
   "metadata": {},
   "outputs": [],
   "source": [
    "#We need to one-hot encode the output labels for use with the classifier\n",
    "\n",
    "#Flatten the label matrix\n",
    "long_single_token_label_list = labels.reshape(-1,)\n",
    "\n",
    "#one-hot encode all labels\n",
    "dummy_variable_representation = pd.get_dummies(long_single_token_label_list)\n",
    "\n",
    "#Make a dummy-variable-index => token dict for later use\n",
    "dummyIndex_label_dict = {}\n",
    "for i, column in enumerate(dummy_variable_representation):\n",
    "    dummyIndex_label_dict[i] = tokenizer.decode(column)\n",
    "    \n",
    "\n",
    "#Reshape the one-hot encoding so we get it in the correct shape, that is, grouped on a sentence level\n",
    "label_matrix = dummy_variable_representation.values.reshape(labels.shape[0], labels.shape[1], -1)"
   ]
  },
  {
   "cell_type": "code",
   "execution_count": 73,
   "metadata": {},
   "outputs": [
    {
     "name": "stderr",
     "output_type": "stream",
     "text": [
      "100%|██████████| 40/40 [00:25<00:00,  1.60it/s]\n"
     ]
    },
    {
     "name": "stdout",
     "output_type": "stream",
     "text": [
      "Final embedding generated with shape (1000, 100, 768)\n"
     ]
    }
   ],
   "source": [
    "#sentences, attentions = torch.tensor(sentences), torch.tensor(attentions)\n",
    "embedding_matrix = get_embeddings_with_gpu_batch(sentences, attentions, 25)"
   ]
  },
  {
   "cell_type": "code",
   "execution_count": 71,
   "metadata": {},
   "outputs": [],
   "source": [
    "#generate_embedding_file(sentences, attentions)"
   ]
  },
  {
   "cell_type": "code",
   "execution_count": 132,
   "metadata": {},
   "outputs": [
    {
     "name": "stdout",
     "output_type": "stream",
     "text": [
      "(4000, 100, 33) (1000, 100, 33)\n",
      "(4000, 100, 768) (1000, 100, 768)\n"
     ]
    }
   ],
   "source": [
    "#Train/test split it\n",
    "ratio = 0.8\n",
    "\n",
    "train_x,train_y,test_x,test_y = split_data(ratio, get_embed_file()[:5000], get_label_file()[:5000])\n",
    "\n",
    "\n",
    "print(train_y.shape, test_y.shape)\n",
    "print(train_x.shape, test_x.shape)"
   ]
  },
  {
   "cell_type": "markdown",
   "metadata": {},
   "source": [
    "# TRAIN ALBERT"
   ]
  },
  {
   "cell_type": "markdown",
   "metadata": {},
   "source": [
    "### Create classification layer\n",
    "\n",
    "To ablate the fine-tuning approach, we apply the\n",
    "feature-based approach by extracting the activations from one or more layers without fine-tuning\n",
    "any parameters of BERT. These contextual embeddings are used as input to a randomly initialized two-layer 768-dimensional BiLSTM before\n",
    "the classification layer.\n",
    "\n"
   ]
  },
  {
   "cell_type": "code",
   "execution_count": 135,
   "metadata": {},
   "outputs": [],
   "source": [
    "from keras.layers import LSTM, Bidirectional, TimeDistributed, Dropout, Dense\n",
    "from keras.models import Model, Input\n",
    "def naive_bilstm_model():   \n",
    "    #Define the input shape. Each datapoint is a sentence consisting of seqlength words, each word 784dims\n",
    "    input = Input(shape=(train_x.shape[1], train_x.shape[2]))\n",
    "    # Pass it through a bidirectional lstm\n",
    "    model = Bidirectional(LSTM(units=100, return_sequences=True, recurrent_dropout=0.1))(input)\n",
    "            \n",
    "    # add a timedistributed layer\n",
    "    out = TimeDistributed(Dense(train_y.shape[2], activation=\"softmax\"))(model)  # softmax output layer\n",
    "    \n",
    "    model = Model(input, out)\n",
    "    \n",
    "    # Compile it\n",
    "    model.compile(optimizer=\"adam\", loss=\"categorical_crossentropy\", metrics=[\"accuracy\"])\n",
    "    print(model.summary())\n",
    "    return model\n"
   ]
  },
  {
   "cell_type": "code",
   "execution_count": 136,
   "metadata": {},
   "outputs": [
    {
     "name": "stdout",
     "output_type": "stream",
     "text": [
      "Model: \"model_10\"\n",
      "_________________________________________________________________\n",
      "Layer (type)                 Output Shape              Param #   \n",
      "=================================================================\n",
      "input_10 (InputLayer)        (None, 100, 768)          0         \n",
      "_________________________________________________________________\n",
      "bidirectional_10 (Bidirectio (None, 100, 200)          695200    \n",
      "_________________________________________________________________\n",
      "time_distributed_10 (TimeDis (None, 100, 33)           6633      \n",
      "=================================================================\n",
      "Total params: 701,833\n",
      "Trainable params: 701,833\n",
      "Non-trainable params: 0\n",
      "_________________________________________________________________\n",
      "None\n",
      "Train on 3600 samples, validate on 400 samples\n",
      "Epoch 1/5\n",
      "3600/3600 [==============================] - 15s 4ms/step - loss: 0.3844 - accuracy: 0.9119 - val_loss: 0.1362 - val_accuracy: 0.9696\n",
      "Epoch 2/5\n",
      "3600/3600 [==============================] - 18s 5ms/step - loss: 0.1037 - accuracy: 0.9769 - val_loss: 0.0860 - val_accuracy: 0.9797\n",
      "Epoch 3/5\n",
      "3600/3600 [==============================] - 18s 5ms/step - loss: 0.0700 - accuracy: 0.9830 - val_loss: 0.0641 - val_accuracy: 0.9840\n",
      "Epoch 4/5\n",
      "3600/3600 [==============================] - 18s 5ms/step - loss: 0.0541 - accuracy: 0.9868 - val_loss: 0.0529 - val_accuracy: 0.9868\n",
      "Epoch 5/5\n",
      "3600/3600 [==============================] - 17s 5ms/step - loss: 0.0454 - accuracy: 0.9886 - val_loss: 0.0467 - val_accuracy: 0.9884\n",
      "\n",
      "history dict: dict_keys(['val_loss', 'val_accuracy', 'loss', 'accuracy'])\n"
     ]
    }
   ],
   "source": [
    "# Train the model, setting aside 10% data for validation\n",
    "classifier = naive_bilstm_model()\n",
    "\n",
    "\n",
    "def train_model():\n",
    "    history = classifier.fit(\n",
    "        train_x,\n",
    "        train_y,\n",
    "        epochs=5,\n",
    "        batch_size=50,\n",
    "        validation_split=0.1)\n",
    "    return history\n",
    "\n",
    "history = train_model()\n",
    "print('\\nhistory dict:', history.history.keys())"
   ]
  },
  {
   "cell_type": "markdown",
   "metadata": {},
   "source": [
    "## Training history"
   ]
  },
  {
   "cell_type": "code",
   "execution_count": 137,
   "metadata": {},
   "outputs": [],
   "source": [
    "def create_history_df(history):\n",
    "    training_df = pd.DataFrame()\n",
    "    for metric in history.history.keys():\n",
    "        training_df[metric] = history.history[metric]\n",
    "    return training_df\n",
    "\n",
    "history_df = create_history_df(history)"
   ]
  },
  {
   "cell_type": "code",
   "execution_count": 138,
   "metadata": {},
   "outputs": [
    {
     "data": {
      "image/png": "[encoded data removed]",
      "text/plain": [
       "<Figure size 1080x360 with 1 Axes>"
      ]
     },
     "metadata": {},
     "output_type": "display_data"
    }
   ],
   "source": [
    "sns.set()\n",
    "fig, ax = plt.subplots(figsize=(15,5))\n",
    "history_df.plot(ax=ax)\n",
    "plt.ylabel('Metric')\n",
    "plt.xlabel('Epoch')\n",
    "plt.show()"
   ]
  },
  {
   "cell_type": "markdown",
   "metadata": {},
   "source": [
    "# Evaluate"
   ]
  },
  {
   "cell_type": "code",
   "execution_count": 139,
   "metadata": {},
   "outputs": [
    {
     "name": "stdout",
     "output_type": "stream",
     "text": [
      "\n",
      "# Evaluate on test data\n",
      "1000/1000 [==============================] - 2s 2ms/step\n",
      "loss: 0.04175126233696937\n",
      "accuracy: 0.9896199703216553\n"
     ]
    }
   ],
   "source": [
    "print('\\n# Evaluate on test data')\n",
    "results = classifier.evaluate(test_x, test_y)\n",
    "for i, metric in enumerate(classifier.metrics_names):\n",
    "    print(f\"{metric}: {results[i]}\")"
   ]
  },
  {
   "cell_type": "markdown",
   "metadata": {},
   "source": [
    "## Confusion Matrix"
   ]
  },
  {
   "cell_type": "code",
   "execution_count": 140,
   "metadata": {},
   "outputs": [],
   "source": [
    "def remap(matrix):\n",
    "    \"\"\"\n",
    "    Utility function to take one-hot encoded labels and return the label with the higest probability\n",
    "    \"\"\"\n",
    "    \n",
    "    #Switch index to label\n",
    "    def switcher(x):\n",
    "        return dummyIndex_label_dict[x]\n",
    "    \n",
    "    #Get the index along the second axis (the one-hot encoding) with the highest value\n",
    "    predicted_index = pd.DataFrame(np.argmax(matrix, axis=2))\n",
    "    \n",
    "    #Use our dictionary to map this index to the class\n",
    "    label_representation = predicted_index.applymap(switcher)\n",
    "\n",
    "    return label_representation"
   ]
  },
  {
   "cell_type": "code",
   "execution_count": 141,
   "metadata": {},
   "outputs": [],
   "source": [
    "from keras.wrappers.scikit_learn import KerasClassifier\n",
    "from sklearn.metrics import confusion_matrix"
   ]
  },
  {
   "cell_type": "code",
   "execution_count": 142,
   "metadata": {},
   "outputs": [],
   "source": [
    "#Get the predicted classes for the test set\n",
    "prediction_probabilities = classifier.predict(test_x)\n",
    "\n",
    "predicted_classes = remap(prediction_probabilities)\n",
    "true_classes = remap(test_y)"
   ]
  },
  {
   "cell_type": "code",
   "execution_count": 143,
   "metadata": {},
   "outputs": [],
   "source": [
    "# Unravel it\n",
    "predicted_classes = predicted_classes.values.reshape(-1,1)\n",
    "true_classes = true_classes.values.reshape(-1,1)"
   ]
  },
  {
   "cell_type": "code",
   "execution_count": 148,
   "metadata": {},
   "outputs": [
    {
     "data": {
      "image/png": "[encoded data removed]",
      "text/plain": [
       "<Figure size 1440x1440 with 1 Axes>"
      ]
     },
     "metadata": {},
     "output_type": "display_data"
    }
   ],
   "source": [
    "# The scikit confusion function also takes a list of labels. The generated confusion matrix will consist of the elements of this list, in the order they appear\n",
    "cf_labels = list(dummyIndex_label_dict.values())\n",
    "\n",
    "# We are great at padding, but that isn't super-interesting\n",
    "cf_labels.remove('<pad>')\n",
    "cf_labels.remove('[CLS]')\n",
    "cf_labels.remove('[SEP]')\n",
    "cf_labels.remove('B-LOC/ORG')\n",
    "cf_labels.remove('B-LOC/PRS')\n",
    "cf_labels.remove('I-LOC/PRS')\n",
    "cf_labels.remove('B-ORG/PRS')\n",
    "cf_labels.remove('I-OBJ')\n",
    "cf_labels.remove('B-OBJ')\n",
    "cf_labels.remove('B-O')\n",
    "cf_labels.remove('I-O')\n",
    "cf_labels.remove('I-ORG/PRS')\n",
    "\n",
    "#Generate a confusion matrix\n",
    "cmatrix = confusion_matrix(y_true=true_classes, y_pred=predicted_classes, labels = cf_labels)\n",
    "\n",
    "#Use pandas for plotting purposes\n",
    "cmatrix = pd.DataFrame(cmatrix, columns=cf_labels, index=cf_labels)\n",
    "\n",
    "# The absolute number of things retrieved isn't as interesting as the relative retrival, so we normalize along the x-axis\n",
    "cmatrix = cmatrix.apply(lambda x: x/x.sum(), axis = 0)\n",
    "\n",
    "#Remove Nans\n",
    "cmatrix = cmatrix.fillna(0)\n",
    "\n",
    "#The confusion matrix is defined such that each row corresponds to a true label, each column is predicted label\n",
    "fig, ax = plt.subplots(figsize = (20,20))\n",
    "sns.heatmap(cmatrix, ax = ax, annot=True, fmt=\".1%\", cbar=False)\n",
    "ax.set_xlabel(\"Predicted class\")\n",
    "ax.set_ylabel(\"True class\")\n",
    "plt.title(\"Percent of words classified according to label\")\n",
    "plt.show()"
   ]
  },
  {
   "cell_type": "markdown",
   "metadata": {},
   "source": [
    "## Generate Recall, Precision, F1-score for each label"
   ]
  },
  {
   "cell_type": "code",
   "execution_count": 149,
   "metadata": {},
   "outputs": [
    {
     "data": {
      "text/html": [
       "<div>\n",
       "<style scoped>\n",
       "    .dataframe tbody tr th:only-of-type {\n",
       "        vertical-align: middle;\n",
       "    }\n",
       "\n",
       "    .dataframe tbody tr th {\n",
       "        vertical-align: top;\n",
       "    }\n",
       "\n",
       "    .dataframe thead th {\n",
       "        text-align: right;\n",
       "    }\n",
       "</style>\n",
       "<table border=\"1\" class=\"dataframe\">\n",
       "  <thead>\n",
       "    <tr style=\"text-align: right;\">\n",
       "      <th></th>\n",
       "      <th>precision</th>\n",
       "      <th>recall</th>\n",
       "      <th>f1-score</th>\n",
       "      <th>support</th>\n",
       "    </tr>\n",
       "  </thead>\n",
       "  <tbody>\n",
       "    <tr>\n",
       "      <th>B-EVN</th>\n",
       "      <td>0.000000</td>\n",
       "      <td>0.000000</td>\n",
       "      <td>0.000000</td>\n",
       "      <td>9.0</td>\n",
       "    </tr>\n",
       "    <tr>\n",
       "      <th>I-LOC/ORG</th>\n",
       "      <td>0.000000</td>\n",
       "      <td>0.000000</td>\n",
       "      <td>0.000000</td>\n",
       "      <td>0.0</td>\n",
       "    </tr>\n",
       "    <tr>\n",
       "      <th>I-TME</th>\n",
       "      <td>0.656805</td>\n",
       "      <td>0.555000</td>\n",
       "      <td>0.601626</td>\n",
       "      <td>200.0</td>\n",
       "    </tr>\n",
       "    <tr>\n",
       "      <th>I-ORG</th>\n",
       "      <td>0.722222</td>\n",
       "      <td>0.144444</td>\n",
       "      <td>0.240741</td>\n",
       "      <td>90.0</td>\n",
       "    </tr>\n",
       "    <tr>\n",
       "      <th>I-PRS</th>\n",
       "      <td>0.807692</td>\n",
       "      <td>0.780992</td>\n",
       "      <td>0.794118</td>\n",
       "      <td>242.0</td>\n",
       "    </tr>\n",
       "    <tr>\n",
       "      <th>I-PRS/WRK</th>\n",
       "      <td>0.000000</td>\n",
       "      <td>0.000000</td>\n",
       "      <td>0.000000</td>\n",
       "      <td>0.0</td>\n",
       "    </tr>\n",
       "    <tr>\n",
       "      <th>B-LOC</th>\n",
       "      <td>0.788235</td>\n",
       "      <td>0.592920</td>\n",
       "      <td>0.676768</td>\n",
       "      <td>113.0</td>\n",
       "    </tr>\n",
       "    <tr>\n",
       "      <th>B-ORG</th>\n",
       "      <td>0.000000</td>\n",
       "      <td>0.000000</td>\n",
       "      <td>0.000000</td>\n",
       "      <td>46.0</td>\n",
       "    </tr>\n",
       "    <tr>\n",
       "      <th>B-LOC/LOC</th>\n",
       "      <td>0.000000</td>\n",
       "      <td>0.000000</td>\n",
       "      <td>0.000000</td>\n",
       "      <td>0.0</td>\n",
       "    </tr>\n",
       "    <tr>\n",
       "      <th>B-MSR</th>\n",
       "      <td>0.000000</td>\n",
       "      <td>0.000000</td>\n",
       "      <td>0.000000</td>\n",
       "      <td>24.0</td>\n",
       "    </tr>\n",
       "    <tr>\n",
       "      <th>I-LOC</th>\n",
       "      <td>0.772727</td>\n",
       "      <td>0.265625</td>\n",
       "      <td>0.395349</td>\n",
       "      <td>64.0</td>\n",
       "    </tr>\n",
       "    <tr>\n",
       "      <th>B-PRS/WRK</th>\n",
       "      <td>0.000000</td>\n",
       "      <td>0.000000</td>\n",
       "      <td>0.000000</td>\n",
       "      <td>0.0</td>\n",
       "    </tr>\n",
       "    <tr>\n",
       "      <th>I-EVN</th>\n",
       "      <td>0.000000</td>\n",
       "      <td>0.000000</td>\n",
       "      <td>0.000000</td>\n",
       "      <td>7.0</td>\n",
       "    </tr>\n",
       "    <tr>\n",
       "      <th>B-PRS</th>\n",
       "      <td>0.900000</td>\n",
       "      <td>0.750000</td>\n",
       "      <td>0.818182</td>\n",
       "      <td>204.0</td>\n",
       "    </tr>\n",
       "    <tr>\n",
       "      <th>B-OBJ/ORG</th>\n",
       "      <td>0.000000</td>\n",
       "      <td>0.000000</td>\n",
       "      <td>0.000000</td>\n",
       "      <td>0.0</td>\n",
       "    </tr>\n",
       "    <tr>\n",
       "      <th>I-OBJ/ORG</th>\n",
       "      <td>0.000000</td>\n",
       "      <td>0.000000</td>\n",
       "      <td>0.000000</td>\n",
       "      <td>0.0</td>\n",
       "    </tr>\n",
       "    <tr>\n",
       "      <th>I-MSR</th>\n",
       "      <td>0.576923</td>\n",
       "      <td>0.300000</td>\n",
       "      <td>0.394737</td>\n",
       "      <td>50.0</td>\n",
       "    </tr>\n",
       "    <tr>\n",
       "      <th>B-WRK</th>\n",
       "      <td>0.000000</td>\n",
       "      <td>0.000000</td>\n",
       "      <td>0.000000</td>\n",
       "      <td>7.0</td>\n",
       "    </tr>\n",
       "    <tr>\n",
       "      <th>I-WRK</th>\n",
       "      <td>0.000000</td>\n",
       "      <td>0.000000</td>\n",
       "      <td>0.000000</td>\n",
       "      <td>35.0</td>\n",
       "    </tr>\n",
       "    <tr>\n",
       "      <th>B-TME</th>\n",
       "      <td>0.627451</td>\n",
       "      <td>0.214765</td>\n",
       "      <td>0.320000</td>\n",
       "      <td>149.0</td>\n",
       "    </tr>\n",
       "    <tr>\n",
       "      <th>I-LOC/LOC</th>\n",
       "      <td>0.000000</td>\n",
       "      <td>0.000000</td>\n",
       "      <td>0.000000</td>\n",
       "      <td>0.0</td>\n",
       "    </tr>\n",
       "    <tr>\n",
       "      <th>micro avg</th>\n",
       "      <td>0.770323</td>\n",
       "      <td>0.481452</td>\n",
       "      <td>0.592556</td>\n",
       "      <td>1240.0</td>\n",
       "    </tr>\n",
       "    <tr>\n",
       "      <th>macro avg</th>\n",
       "      <td>0.278669</td>\n",
       "      <td>0.171607</td>\n",
       "      <td>0.201977</td>\n",
       "      <td>1240.0</td>\n",
       "    </tr>\n",
       "    <tr>\n",
       "      <th>weighted avg</th>\n",
       "      <td>0.674423</td>\n",
       "      <td>0.481452</td>\n",
       "      <td>0.540541</td>\n",
       "      <td>1240.0</td>\n",
       "    </tr>\n",
       "  </tbody>\n",
       "</table>\n",
       "</div>"
      ],
      "text/plain": [
       "              precision    recall  f1-score  support\n",
       "B-EVN          0.000000  0.000000  0.000000      9.0\n",
       "I-LOC/ORG      0.000000  0.000000  0.000000      0.0\n",
       "I-TME          0.656805  0.555000  0.601626    200.0\n",
       "I-ORG          0.722222  0.144444  0.240741     90.0\n",
       "I-PRS          0.807692  0.780992  0.794118    242.0\n",
       "I-PRS/WRK      0.000000  0.000000  0.000000      0.0\n",
       "B-LOC          0.788235  0.592920  0.676768    113.0\n",
       "B-ORG          0.000000  0.000000  0.000000     46.0\n",
       "B-LOC/LOC      0.000000  0.000000  0.000000      0.0\n",
       "B-MSR          0.000000  0.000000  0.000000     24.0\n",
       "I-LOC          0.772727  0.265625  0.395349     64.0\n",
       "B-PRS/WRK      0.000000  0.000000  0.000000      0.0\n",
       "I-EVN          0.000000  0.000000  0.000000      7.0\n",
       "B-PRS          0.900000  0.750000  0.818182    204.0\n",
       "B-OBJ/ORG      0.000000  0.000000  0.000000      0.0\n",
       "I-OBJ/ORG      0.000000  0.000000  0.000000      0.0\n",
       "I-MSR          0.576923  0.300000  0.394737     50.0\n",
       "B-WRK          0.000000  0.000000  0.000000      7.0\n",
       "I-WRK          0.000000  0.000000  0.000000     35.0\n",
       "B-TME          0.627451  0.214765  0.320000    149.0\n",
       "I-LOC/LOC      0.000000  0.000000  0.000000      0.0\n",
       "micro avg      0.770323  0.481452  0.592556   1240.0\n",
       "macro avg      0.278669  0.171607  0.201977   1240.0\n",
       "weighted avg   0.674423  0.481452  0.540541   1240.0"
      ]
     },
     "execution_count": 149,
     "metadata": {},
     "output_type": "execute_result"
    }
   ],
   "source": [
    "from sklearn.metrics import classification_report\n",
    "\n",
    "report = classification_report(y_true=true_classes, y_pred=predicted_classes, labels = cf_labels, output_dict=True, zero_division=0)\n",
    "report = pd.DataFrame(report).transpose()\n",
    "report"
   ]
  }
 ],
 "metadata": {
  "kernelspec": {
   "display_name": ".thesis",
   "language": "python",
   "name": ".thesis"
  },
  "language_info": {
   "codemirror_mode": {
    "name": "ipython",
    "version": 3
   },
   "file_extension": ".py",
   "mimetype": "text/x-python",
   "name": "python",
   "nbconvert_exporter": "python",
   "pygments_lexer": "ipython3",
   "version": "3.7.5"
  }
 },
 "nbformat": 4,
 "nbformat_minor": 4
}
