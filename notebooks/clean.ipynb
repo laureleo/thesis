{
 "cells": [
  {
   "cell_type": "code",
   "execution_count": 2,
   "metadata": {},
   "outputs": [
    {
     "name": "stderr",
     "output_type": "stream",
     "text": [
      "Using TensorFlow backend.\n"
     ]
    }
   ],
   "source": [
    "import pandas as pd\n",
    "from transformers import *\n",
    "from keras import *\n",
    "from keras.preprocessing.sequence import pad_sequences"
   ]
  },
  {
   "cell_type": "code",
   "execution_count": 3,
   "metadata": {},
   "outputs": [],
   "source": [
    "df = pd.read_pickle(\"../data/sentence_labels\")\n",
    "subset = df.head(1000)"
   ]
  },
  {
   "cell_type": "code",
   "execution_count": 4,
   "metadata": {},
   "outputs": [],
   "source": [
    "tokenizer = AutoTokenizer.from_pretrained(\"KB/albert-base-swedish-cased-alpha\")\n",
    "model = AutoModel.from_pretrained(\"KB/albert-base-swedish-cased-alpha\")"
   ]
  },
  {
   "cell_type": "code",
   "execution_count": 5,
   "metadata": {},
   "outputs": [
    {
     "name": "stdout",
     "output_type": "stream",
     "text": [
      "Adding special tokens, switching to integer representation of words\n",
      "Padding and truncating each sentence to 50 tokens\n",
      "Creating attention masks\n"
     ]
    },
    {
     "name": "stderr",
     "output_type": "stream",
     "text": [
      "/home/vic/git/thesis/.thesis/lib/python3.7/site-packages/ipykernel_launcher.py:2: SettingWithCopyWarning: \n",
      "A value is trying to be set on a copy of a slice from a DataFrame.\n",
      "Try using .loc[row_indexer,col_indexer] = value instead\n",
      "\n",
      "See the caveats in the documentation: https://pandas.pydata.org/pandas-docs/stable/user_guide/indexing.html#returning-a-view-versus-a-copy\n",
      "  \n",
      "/home/vic/git/thesis/.thesis/lib/python3.7/site-packages/ipykernel_launcher.py:4: SettingWithCopyWarning: \n",
      "A value is trying to be set on a copy of a slice from a DataFrame.\n",
      "Try using .loc[row_indexer,col_indexer] = value instead\n",
      "\n",
      "See the caveats in the documentation: https://pandas.pydata.org/pandas-docs/stable/user_guide/indexing.html#returning-a-view-versus-a-copy\n",
      "  after removing the cwd from sys.path.\n",
      "/home/vic/git/thesis/.thesis/lib/python3.7/site-packages/ipykernel_launcher.py:6: SettingWithCopyWarning: \n",
      "A value is trying to be set on a copy of a slice from a DataFrame.\n",
      "Try using .loc[row_indexer,col_indexer] = value instead\n",
      "\n",
      "See the caveats in the documentation: https://pandas.pydata.org/pandas-docs/stable/user_guide/indexing.html#returning-a-view-versus-a-copy\n",
      "  \n"
     ]
    }
   ],
   "source": [
    "max_words_per_sentence = 50\n",
    "subset['Sentence_For_Albert'] = subset[['Sentence']].apply(lambda x: tokenizer.encode(x[0], add_special_tokens=True), axis=1)\n",
    "print(\"Adding special tokens, switching to integer representation of words\")\n",
    "subset['Sentence_For_Albert'] = subset[['Sentence_For_Albert']].apply(lambda x: pad_sequences(x, maxlen=max_words_per_sentence, dtype=\"long\", truncating=\"post\", padding=\"post\")[0],axis=1)\n",
    "print(f\"Padding and truncating each sentence to {max_words_per_sentence} tokens\")\n",
    "subset['Attention_Mask'] = subset[['Sentence_For_Albert']].apply(lambda x: (x[0] != 0).astype(int), axis=1)\n",
    "print(\"Creating attention masks\")\n"
   ]
  },
  {
   "cell_type": "code",
   "execution_count": 18,
   "metadata": {},
   "outputs": [
    {
     "name": "stdout",
     "output_type": "stream",
     "text": [
      "Encoding labels as integers, adding special tokens\n"
     ]
    },
    {
     "name": "stderr",
     "output_type": "stream",
     "text": [
      "/home/vic/git/thesis/.thesis/lib/python3.7/site-packages/ipykernel_launcher.py:1: SettingWithCopyWarning: \n",
      "A value is trying to be set on a copy of a slice from a DataFrame.\n",
      "Try using .loc[row_indexer,col_indexer] = value instead\n",
      "\n",
      "See the caveats in the documentation: https://pandas.pydata.org/pandas-docs/stable/user_guide/indexing.html#returning-a-view-versus-a-copy\n",
      "  \"\"\"Entry point for launching an IPython kernel.\n",
      "/home/vic/git/thesis/.thesis/lib/python3.7/site-packages/ipykernel_launcher.py:3: SettingWithCopyWarning: \n",
      "A value is trying to be set on a copy of a slice from a DataFrame.\n",
      "Try using .loc[row_indexer,col_indexer] = value instead\n",
      "\n",
      "See the caveats in the documentation: https://pandas.pydata.org/pandas-docs/stable/user_guide/indexing.html#returning-a-view-versus-a-copy\n",
      "  This is separate from the ipykernel package so we can avoid doing imports until\n"
     ]
    },
    {
     "data": {
      "text/html": [
       "<div>\n",
       "<style scoped>\n",
       "    .dataframe tbody tr th:only-of-type {\n",
       "        vertical-align: middle;\n",
       "    }\n",
       "\n",
       "    .dataframe tbody tr th {\n",
       "        vertical-align: top;\n",
       "    }\n",
       "\n",
       "    .dataframe thead th {\n",
       "        text-align: right;\n",
       "    }\n",
       "</style>\n",
       "<table border=\"1\" class=\"dataframe\">\n",
       "  <thead>\n",
       "    <tr style=\"text-align: right;\">\n",
       "      <th></th>\n",
       "      <th>Sentence</th>\n",
       "      <th>Labels</th>\n",
       "      <th>Sentence_For_Albert</th>\n",
       "      <th>Attention_Mask</th>\n",
       "      <th>Label_int</th>\n",
       "    </tr>\n",
       "  </thead>\n",
       "  <tbody>\n",
       "    <tr>\n",
       "      <th>0</th>\n",
       "      <td>I sin första reaktion på Sovjetledarens varnin...</td>\n",
       "      <td>[O, O, O, O, O, O, O, O, LOC, O, PRS, O, O, O,...</td>\n",
       "      <td>[2, 136, 216, 544, 9085, 72, 2955, 771, 3711, ...</td>\n",
       "      <td>[1, 1, 1, 1, 1, 1, 1, 1, 1, 1, 1, 1, 1, 1, 1, ...</td>\n",
       "      <td>[2, 49984, 49984, 49984, 49984, 49984, 49984, ...</td>\n",
       "    </tr>\n",
       "    <tr>\n",
       "      <th>1</th>\n",
       "      <td>I en ruta talar en kort rad på ryska om att de...</td>\n",
       "      <td>[O, O, O, O, O, O, O, O, O, O, O, O, O, O, O, ...</td>\n",
       "      <td>[2, 136, 56, 26997, 2398, 56, 1282, 1142, 72, ...</td>\n",
       "      <td>[1, 1, 1, 1, 1, 1, 1, 1, 1, 1, 1, 1, 1, 1, 1, ...</td>\n",
       "      <td>[2, 49984, 49984, 49984, 49984, 49984, 49984, ...</td>\n",
       "    </tr>\n",
       "    <tr>\n",
       "      <th>2</th>\n",
       "      <td>- Dels har vi inget index att gå efter , vi kr...</td>\n",
       "      <td>[O, O, O, O, O, O, O, O, O, O, O, O, O, O, TME...</td>\n",
       "      <td>[2, 49933, 8, 8231, 104, 187, 1586, 11425, 54,...</td>\n",
       "      <td>[1, 1, 1, 1, 1, 1, 1, 1, 1, 1, 1, 1, 1, 1, 1, ...</td>\n",
       "      <td>[2, 49984, 49984, 49984, 49984, 49984, 49984, ...</td>\n",
       "    </tr>\n",
       "    <tr>\n",
       "      <th>3</th>\n",
       "      <td>- Men en deporterad blir aldrig fri , säger Ri...</td>\n",
       "      <td>[O, O, O, O, O, O, O, O, O, PRS, O, O, O, O, O...</td>\n",
       "      <td>[2, 49933, 8, 276, 56, 34405, 107, 419, 920, 7...</td>\n",
       "      <td>[1, 1, 1, 1, 1, 1, 1, 1, 1, 1, 1, 1, 1, 1, 1, ...</td>\n",
       "      <td>[2, 49984, 49984, 49984, 49984, 49984, 49984, ...</td>\n",
       "    </tr>\n",
       "    <tr>\n",
       "      <th>4</th>\n",
       "      <td>Hur är det då i Mellanöstern ?</td>\n",
       "      <td>[O, O, O, O, O, LOC, O]</td>\n",
       "      <td>[2, 3377, 53, 79, 298, 33, 12716, 49933, 1, 3,...</td>\n",
       "      <td>[1, 1, 1, 1, 1, 1, 1, 1, 1, 1, 0, 0, 0, 0, 0, ...</td>\n",
       "      <td>[2, 49984, 49984, 49984, 49984, 49984, 1, 4998...</td>\n",
       "    </tr>\n",
       "    <tr>\n",
       "      <th>...</th>\n",
       "      <td>...</td>\n",
       "      <td>...</td>\n",
       "      <td>...</td>\n",
       "      <td>...</td>\n",
       "      <td>...</td>\n",
       "    </tr>\n",
       "    <tr>\n",
       "      <th>995</th>\n",
       "      <td>Ambulans hade redan hämtat den knivstuckne .</td>\n",
       "      <td>[O, O, O, O, O, O, O]</td>\n",
       "      <td>[2, 11274, 37893, 305, 854, 15813, 93, 6883, 2...</td>\n",
       "      <td>[1, 1, 1, 1, 1, 1, 1, 1, 1, 1, 1, 1, 1, 1, 0, ...</td>\n",
       "      <td>[2, 49984, 49984, 49984, 49984, 49984, 49984, ...</td>\n",
       "    </tr>\n",
       "    <tr>\n",
       "      <th>996</th>\n",
       "      <td>Han är anställd på heltid av \\n för att specia...</td>\n",
       "      <td>[O, O, O, O, O, O, inst, O, O, O, O, O, O, O, ...</td>\n",
       "      <td>[2, 320, 53, 6733, 72, 9387, 70, 49, 54, 3070,...</td>\n",
       "      <td>[1, 1, 1, 1, 1, 1, 1, 1, 1, 1, 1, 1, 1, 1, 1, ...</td>\n",
       "      <td>[2, 49984, 49984, 49984, 49984, 49984, 49984, ...</td>\n",
       "    </tr>\n",
       "    <tr>\n",
       "      <th>997</th>\n",
       "      <td>- Av allt att döma handlade han i ren affekt .</td>\n",
       "      <td>[O, O, O, O, O, O, O, O, O, O, O]</td>\n",
       "      <td>[2, 49933, 8, 1253, 338, 54, 6754, 6644, 138, ...</td>\n",
       "      <td>[1, 1, 1, 1, 1, 1, 1, 1, 1, 1, 1, 1, 1, 1, 1, ...</td>\n",
       "      <td>[2, 49984, 49984, 49984, 49984, 49984, 49984, ...</td>\n",
       "    </tr>\n",
       "    <tr>\n",
       "      <th>998</th>\n",
       "      <td>I vår nästa show kommer vi att koncentrera oss...</td>\n",
       "      <td>[O, O, O, O, O, O, O, O, O, O, O, O, O, O, O, ...</td>\n",
       "      <td>[2, 136, 615, 1627, 7509, 374, 187, 54, 16349,...</td>\n",
       "      <td>[1, 1, 1, 1, 1, 1, 1, 1, 1, 1, 1, 1, 1, 1, 1, ...</td>\n",
       "      <td>[2, 49984, 49984, 49984, 49984, 49984, 49984, ...</td>\n",
       "    </tr>\n",
       "    <tr>\n",
       "      <th>999</th>\n",
       "      <td>Det var han som hade föreslagit vattenpåfyllni...</td>\n",
       "      <td>[O, O, O, O, O, O, O, O, O, O, O, O, O, O]</td>\n",
       "      <td>[2, 150, 94, 138, 67, 305, 13568, 1208, 2707, ...</td>\n",
       "      <td>[1, 1, 1, 1, 1, 1, 1, 1, 1, 1, 1, 1, 1, 1, 1, ...</td>\n",
       "      <td>[2, 49984, 49984, 49984, 49984, 49984, 49984, ...</td>\n",
       "    </tr>\n",
       "  </tbody>\n",
       "</table>\n",
       "<p>1000 rows × 5 columns</p>\n",
       "</div>"
      ],
      "text/plain": [
       "                                              Sentence  \\\n",
       "0    I sin första reaktion på Sovjetledarens varnin...   \n",
       "1    I en ruta talar en kort rad på ryska om att de...   \n",
       "2    - Dels har vi inget index att gå efter , vi kr...   \n",
       "3    - Men en deporterad blir aldrig fri , säger Ri...   \n",
       "4                       Hur är det då i Mellanöstern ?   \n",
       "..                                                 ...   \n",
       "995       Ambulans hade redan hämtat den knivstuckne .   \n",
       "996  Han är anställd på heltid av \\n för att specia...   \n",
       "997     - Av allt att döma handlade han i ren affekt .   \n",
       "998  I vår nästa show kommer vi att koncentrera oss...   \n",
       "999  Det var han som hade föreslagit vattenpåfyllni...   \n",
       "\n",
       "                                                Labels  \\\n",
       "0    [O, O, O, O, O, O, O, O, LOC, O, PRS, O, O, O,...   \n",
       "1    [O, O, O, O, O, O, O, O, O, O, O, O, O, O, O, ...   \n",
       "2    [O, O, O, O, O, O, O, O, O, O, O, O, O, O, TME...   \n",
       "3    [O, O, O, O, O, O, O, O, O, PRS, O, O, O, O, O...   \n",
       "4                              [O, O, O, O, O, LOC, O]   \n",
       "..                                                 ...   \n",
       "995                              [O, O, O, O, O, O, O]   \n",
       "996  [O, O, O, O, O, O, inst, O, O, O, O, O, O, O, ...   \n",
       "997                  [O, O, O, O, O, O, O, O, O, O, O]   \n",
       "998  [O, O, O, O, O, O, O, O, O, O, O, O, O, O, O, ...   \n",
       "999         [O, O, O, O, O, O, O, O, O, O, O, O, O, O]   \n",
       "\n",
       "                                   Sentence_For_Albert  \\\n",
       "0    [2, 136, 216, 544, 9085, 72, 2955, 771, 3711, ...   \n",
       "1    [2, 136, 56, 26997, 2398, 56, 1282, 1142, 72, ...   \n",
       "2    [2, 49933, 8, 8231, 104, 187, 1586, 11425, 54,...   \n",
       "3    [2, 49933, 8, 276, 56, 34405, 107, 419, 920, 7...   \n",
       "4    [2, 3377, 53, 79, 298, 33, 12716, 49933, 1, 3,...   \n",
       "..                                                 ...   \n",
       "995  [2, 11274, 37893, 305, 854, 15813, 93, 6883, 2...   \n",
       "996  [2, 320, 53, 6733, 72, 9387, 70, 49, 54, 3070,...   \n",
       "997  [2, 49933, 8, 1253, 338, 54, 6754, 6644, 138, ...   \n",
       "998  [2, 136, 615, 1627, 7509, 374, 187, 54, 16349,...   \n",
       "999  [2, 150, 94, 138, 67, 305, 13568, 1208, 2707, ...   \n",
       "\n",
       "                                        Attention_Mask  \\\n",
       "0    [1, 1, 1, 1, 1, 1, 1, 1, 1, 1, 1, 1, 1, 1, 1, ...   \n",
       "1    [1, 1, 1, 1, 1, 1, 1, 1, 1, 1, 1, 1, 1, 1, 1, ...   \n",
       "2    [1, 1, 1, 1, 1, 1, 1, 1, 1, 1, 1, 1, 1, 1, 1, ...   \n",
       "3    [1, 1, 1, 1, 1, 1, 1, 1, 1, 1, 1, 1, 1, 1, 1, ...   \n",
       "4    [1, 1, 1, 1, 1, 1, 1, 1, 1, 1, 0, 0, 0, 0, 0, ...   \n",
       "..                                                 ...   \n",
       "995  [1, 1, 1, 1, 1, 1, 1, 1, 1, 1, 1, 1, 1, 1, 0, ...   \n",
       "996  [1, 1, 1, 1, 1, 1, 1, 1, 1, 1, 1, 1, 1, 1, 1, ...   \n",
       "997  [1, 1, 1, 1, 1, 1, 1, 1, 1, 1, 1, 1, 1, 1, 1, ...   \n",
       "998  [1, 1, 1, 1, 1, 1, 1, 1, 1, 1, 1, 1, 1, 1, 1, ...   \n",
       "999  [1, 1, 1, 1, 1, 1, 1, 1, 1, 1, 1, 1, 1, 1, 1, ...   \n",
       "\n",
       "                                             Label_int  \n",
       "0    [2, 49984, 49984, 49984, 49984, 49984, 49984, ...  \n",
       "1    [2, 49984, 49984, 49984, 49984, 49984, 49984, ...  \n",
       "2    [2, 49984, 49984, 49984, 49984, 49984, 49984, ...  \n",
       "3    [2, 49984, 49984, 49984, 49984, 49984, 49984, ...  \n",
       "4    [2, 49984, 49984, 49984, 49984, 49984, 1, 4998...  \n",
       "..                                                 ...  \n",
       "995  [2, 49984, 49984, 49984, 49984, 49984, 49984, ...  \n",
       "996  [2, 49984, 49984, 49984, 49984, 49984, 49984, ...  \n",
       "997  [2, 49984, 49984, 49984, 49984, 49984, 49984, ...  \n",
       "998  [2, 49984, 49984, 49984, 49984, 49984, 49984, ...  \n",
       "999  [2, 49984, 49984, 49984, 49984, 49984, 49984, ...  \n",
       "\n",
       "[1000 rows x 5 columns]"
      ]
     },
     "execution_count": 18,
     "metadata": {},
     "output_type": "execute_result"
    }
   ],
   "source": [
    "subset['Label_int'] = subset[['Labels']].apply(lambda x: tokenizer.encode(x[0], add_special_tokens=True), axis=1)\n",
    "print(\"Encoding labels as integers, adding special tokens\")\n",
    "subset['Label_int'] = subset[['Label_int']].apply(lambda x: pad_sequences(x, maxlen=max_words_per_sentence, dtype=\"long\", truncating=\"post\", padding=\"post\")[0], axis=1)\n",
    "\n",
    "subset\n",
    "#Create the output_class matrix. Doesn't need to be a tensor, since it won't go into BERT\n",
    "#label_matrix = np.array([x[0] for x in label_df[['Output_Class']].values])\n"
   ]
  },
  {
   "cell_type": "code",
   "execution_count": 62,
   "metadata": {},
   "outputs": [
    {
     "name": "stdout",
     "output_type": "stream",
     "text": [
      "O LOC PRS inst, TME\n",
      "[2, 188, 4541, 49976, 11158, 49960, 1742, 49957, 43092, 49967, 3]\n",
      "[CLS] O LOC PRS inst, TME[SEP]\n",
      "\n",
      "['O', 'LOC', 'PRS', 'inst', 'TME']\n",
      "[2, 49984, 1, 1, 3352, 1, 3]\n",
      "[CLS]O<unk><unk>inst<unk>[SEP]\n"
     ]
    },
    {
     "name": "stderr",
     "output_type": "stream",
     "text": [
      "UsageError: Line magic function `%` not found.\n"
     ]
    }
   ],
   "source": [
    "subset[['Labels']].iloc[0][0]\n",
    "y = 'O LOC PRS inst, TME'\n",
    "encode_y = tokenizer.encode(y)\n",
    "decode_y = tokenizer.decode(encode_y)\n",
    "print(y)\n",
    "print(encode_y)\n",
    "print(decode_y)\n",
    "\n",
    "print()\n",
    "x = ['O','LOC','PRS', 'inst', 'TME']\n",
    "encode_x = tokenizer.encode(x)\n",
    "decode_x = tokenizer.decode(encode_x)\n",
    "print(x)\n",
    "print(encode_x)\n",
    "print(decode_x)\n",
    "%\n",
    "# There is something strange going on when applying the automatic tranformation function to a list of labels, as opposed to a string of labels.\n",
    "# Named entities get grouped under tag '1', 'unkown'"
   ]
  },
  {
   "cell_type": "code",
   "execution_count": 34,
   "metadata": {},
   "outputs": [
    {
     "data": {
      "text/plain": [
       "[2,\n",
       " 49984,\n",
       " 49984,\n",
       " 49984,\n",
       " 49984,\n",
       " 49984,\n",
       " 49984,\n",
       " 49984,\n",
       " 49984,\n",
       " 1,\n",
       " 49984,\n",
       " 1,\n",
       " 49984,\n",
       " 49984,\n",
       " 49984,\n",
       " 49984,\n",
       " 1,\n",
       " 49984,\n",
       " 49984,\n",
       " 49984,\n",
       " 49984,\n",
       " 49984,\n",
       " 49984,\n",
       " 49984,\n",
       " 49984,\n",
       " 49984,\n",
       " 49984,\n",
       " 49984,\n",
       " 3]"
      ]
     },
     "execution_count": 34,
     "metadata": {},
     "output_type": "execute_result"
    }
   ],
   "source": [
    "tokenizer.encode(subset[['Labels']].iloc[0][0])"
   ]
  }
 ],
 "metadata": {
  "kernelspec": {
   "display_name": ".thesis",
   "language": "python",
   "name": ".thesis"
  },
  "language_info": {
   "codemirror_mode": {
    "name": "ipython",
    "version": 3
   },
   "file_extension": ".py",
   "mimetype": "text/x-python",
   "name": "python",
   "nbconvert_exporter": "python",
   "pygments_lexer": "ipython3",
   "version": "3.7.5"
  }
 },
 "nbformat": 4,
 "nbformat_minor": 4
}
