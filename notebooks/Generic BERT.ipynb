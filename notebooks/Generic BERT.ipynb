{
 "cells": [
  {
   "cell_type": "code",
   "execution_count": 1,
   "metadata": {},
   "outputs": [
    {
     "name": "stdout",
     "output_type": "stream",
     "text": [
      "Found GPU at: /device:GPU:0\n"
     ]
    }
   ],
   "source": [
    "# verify GPU availability\n",
    "import tensorflow as tf\n",
    "\n",
    "device_name = tf.test.gpu_device_name()\n",
    "if device_name != '/device:GPU:0':\n",
    "  raise SystemError('GPU device not found')\n",
    "print('Found GPU at: {}'.format(device_name))"
   ]
  },
  {
   "cell_type": "markdown",
   "metadata": {},
   "source": [
    "https://towardsdatascience.com/bert-for-dummies-step-by-step-tutorial-fb90890ffe03"
   ]
  },
  {
   "cell_type": "code",
   "execution_count": 2,
   "metadata": {},
   "outputs": [
    {
     "name": "stdout",
     "output_type": "stream",
     "text": [
      "Collecting pytorch-pretrained-bert\n",
      "  Downloading pytorch_pretrained_bert-0.6.2-py3-none-any.whl (123 kB)\n",
      "\u001b[K     |████████████████████████████████| 123 kB 1.2 MB/s eta 0:00:01\n",
      "\u001b[?25hCollecting pytorch-nlp\n",
      "  Downloading pytorch_nlp-0.5.0-py3-none-any.whl (90 kB)\n",
      "\u001b[K     |████████████████████████████████| 90 kB 1.1 MB/s eta 0:00:01\n",
      "\u001b[?25hRequirement already satisfied: boto3 in /home/vic/git/thesis/.thesis/lib/python3.7/site-packages (from pytorch-pretrained-bert) (1.12.23)\n",
      "Requirement already satisfied: requests in /home/vic/git/thesis/.thesis/lib/python3.7/site-packages (from pytorch-pretrained-bert) (2.23.0)\n",
      "Requirement already satisfied: regex in /home/vic/git/thesis/.thesis/lib/python3.7/site-packages (from pytorch-pretrained-bert) (2020.2.20)\n",
      "Requirement already satisfied: torch>=0.4.1 in /home/vic/git/thesis/.thesis/lib/python3.7/site-packages (from pytorch-pretrained-bert) (1.4.0)\n",
      "Requirement already satisfied: numpy in /home/vic/git/thesis/.thesis/lib/python3.7/site-packages (from pytorch-pretrained-bert) (1.18.2)\n",
      "Requirement already satisfied: tqdm in /home/vic/git/thesis/.thesis/lib/python3.7/site-packages (from pytorch-pretrained-bert) (4.43.0)\n",
      "Requirement already satisfied: jmespath<1.0.0,>=0.7.1 in /home/vic/git/thesis/.thesis/lib/python3.7/site-packages (from boto3->pytorch-pretrained-bert) (0.9.5)\n",
      "Requirement already satisfied: botocore<1.16.0,>=1.15.23 in /home/vic/git/thesis/.thesis/lib/python3.7/site-packages (from boto3->pytorch-pretrained-bert) (1.15.23)\n",
      "Requirement already satisfied: s3transfer<0.4.0,>=0.3.0 in /home/vic/git/thesis/.thesis/lib/python3.7/site-packages (from boto3->pytorch-pretrained-bert) (0.3.3)\n",
      "Requirement already satisfied: certifi>=2017.4.17 in /home/vic/git/thesis/.thesis/lib/python3.7/site-packages (from requests->pytorch-pretrained-bert) (2019.11.28)\n",
      "Requirement already satisfied: chardet<4,>=3.0.2 in /home/vic/git/thesis/.thesis/lib/python3.7/site-packages (from requests->pytorch-pretrained-bert) (3.0.4)\n",
      "Requirement already satisfied: idna<3,>=2.5 in /home/vic/git/thesis/.thesis/lib/python3.7/site-packages (from requests->pytorch-pretrained-bert) (2.9)\n",
      "Requirement already satisfied: urllib3!=1.25.0,!=1.25.1,<1.26,>=1.21.1 in /home/vic/git/thesis/.thesis/lib/python3.7/site-packages (from requests->pytorch-pretrained-bert) (1.25.8)\n",
      "Requirement already satisfied: docutils<0.16,>=0.10 in /home/vic/git/thesis/.thesis/lib/python3.7/site-packages (from botocore<1.16.0,>=1.15.23->boto3->pytorch-pretrained-bert) (0.15.2)\n",
      "Requirement already satisfied: python-dateutil<3.0.0,>=2.1 in /home/vic/git/thesis/.thesis/lib/python3.7/site-packages (from botocore<1.16.0,>=1.15.23->boto3->pytorch-pretrained-bert) (2.8.1)\n",
      "Requirement already satisfied: six>=1.5 in /home/vic/git/thesis/.thesis/lib/python3.7/site-packages (from python-dateutil<3.0.0,>=2.1->botocore<1.16.0,>=1.15.23->boto3->pytorch-pretrained-bert) (1.14.0)\n",
      "Installing collected packages: pytorch-pretrained-bert, pytorch-nlp\n",
      "Successfully installed pytorch-nlp-0.5.0 pytorch-pretrained-bert-0.6.2\n"
     ]
    },
    {
     "name": "stderr",
     "output_type": "stream",
     "text": [
      "Using TensorFlow backend.\n",
      "UsageError: Line magic function `%` not found.\n"
     ]
    }
   ],
   "source": [
    "# install\n",
    "!pip install pytorch-pretrained-bert pytorch-nlp\n",
    "\n",
    "# BERT imports\n",
    "import torch\n",
    "from torch.utils.data import TensorDataset, DataLoader, RandomSampler, SequentialSampler\n",
    "from keras.preprocessing.sequence import pad_sequences\n",
    "from sklearn.model_selection import train_test_split\n",
    "from pytorch_pretrained_bert import BertTokenizer, BertConfig\n",
    "from pytorch_pretrained_bert import BertAdam, BertForSequenceClassification\n",
    "from tqdm import tqdm, trange\n",
    "import pandas as pd\n",
    "import io\n",
    "import numpy as np\n",
    "import matplotlib.pyplot as plt\n",
    "% matplotlib inline\n",
    "\n",
    "# specify GPU device This is needed to make sure sure that torch actually uses the gpu\n",
    "device = torch.device(\"cuda\" if torch.cuda.is_available() else \"cpu\")\n",
    "n_gpu = torch.cuda.device_count()\n",
    "torch.cuda.get_device_name(0)"
   ]
  },
  {
   "cell_type": "code",
   "execution_count": 3,
   "metadata": {},
   "outputs": [
    {
     "data": {
      "text/plain": [
       "'GeForce GTX 1050 Ti'"
      ]
     },
     "execution_count": 3,
     "metadata": {},
     "output_type": "execute_result"
    }
   ],
   "source": [
    "torch.cuda.get_device_name(0)"
   ]
  }
 ],
 "metadata": {
  "kernelspec": {
   "display_name": ".thesis",
   "language": "python",
   "name": ".thesis"
  },
  "language_info": {
   "codemirror_mode": {
    "name": "ipython",
    "version": 3
   },
   "file_extension": ".py",
   "mimetype": "text/x-python",
   "name": "python",
   "nbconvert_exporter": "python",
   "pygments_lexer": "ipython3",
   "version": "3.7.5"
  }
 },
 "nbformat": 4,
 "nbformat_minor": 4
}
