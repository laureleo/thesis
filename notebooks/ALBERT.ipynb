{
 "cells": [
  {
   "cell_type": "code",
   "execution_count": 1,
   "metadata": {},
   "outputs": [],
   "source": [
    "import pandas as pd\n",
    "import numpy as np\n",
    "from tqdm import tqdm, trange"
   ]
  },
  {
   "cell_type": "code",
   "execution_count": 129,
   "metadata": {},
   "outputs": [],
   "source": [
    "#Load the data\n",
    "df = pd.read_pickle(\"../data/sentence_labels\")\n",
    "input_df = df[['Sentence']].head().copy()\n",
    "label_df = df[['Labels']].head().copy()"
   ]
  },
  {
   "cell_type": "code",
   "execution_count": 175,
   "metadata": {},
   "outputs": [],
   "source": [
    "# Format the input\n",
    "from keras.preprocessing.sequence import pad_sequences\n",
    "from transformers import AutoTokenizer\n",
    "import torch\n",
    "\n",
    "#Load swedish tokenizer\n",
    "tokenizer = AutoTokenizer.from_pretrained(\"KB/bert-base-swedish-cased-ner\")\n",
    "\n",
    "# Use wordpiece tokenization\n",
    "input_df['Tokenized'] = input_df[['Sentence']].apply(lambda x: tokenizer.tokenize(x[0]), axis=1)\n",
    "\n",
    "# Replace words with integers, add the special [CLS] and [SEP] tokens\n",
    "input_df['Integerized'] = input_df[['Tokenized']].apply(lambda x: tokenizer.encode(x[0], add_special_tokens=True), axis=1)\n",
    "\n",
    "# Pad and truncate all sentences so they are the same length\n",
    "length = 50\n",
    "input_df['Input'] = input_df[['Integerized']].apply(lambda x: pad_sequences(x, maxlen=length, dtype=\"long\", truncating=\"post\", padding=\"post\")[0], axis=1)\n",
    "\n",
    "# Add attention mask. Attention is 0 for padding, else 1\n",
    "input_df['Attention_Mask'] = input_df[['Input']].apply(lambda x: (x[0] != 0).astype(int), axis=1)\n",
    "\n",
    "# The model only accepts Tensor, so convert the Padded Input\n",
    "#input_df['Input_Tensor'] = input_df[['Padded']].apply(lambda x: torch.tensor(x[0]).unsqueeze(0), axis=1)\n",
    "\n",
    "# The model only accepts Tensor, so convert the Mask\n",
    "#input_df['Attention_Tensor'] = input_df[['Attention_Mask']].apply(lambda x: torch.tensor(x[0]).unsqueeze(0), axis=1)\n",
    "\n",
    "#Sanity checks for sentences\n",
    "def check_sentence(index):\n",
    "    for column in input_df:\n",
    "        print(column)\n",
    "        print(input_df[[column]].iloc[index][0])\n",
    "        print()\n",
    "    \n",
    "#check_sentence(0)"
   ]
  },
  {
   "cell_type": "code",
   "execution_count": 177,
   "metadata": {},
   "outputs": [
    {
     "data": {
      "text/html": [
       "<div>\n",
       "<style scoped>\n",
       "    .dataframe tbody tr th:only-of-type {\n",
       "        vertical-align: middle;\n",
       "    }\n",
       "\n",
       "    .dataframe tbody tr th {\n",
       "        vertical-align: top;\n",
       "    }\n",
       "\n",
       "    .dataframe thead th {\n",
       "        text-align: right;\n",
       "    }\n",
       "</style>\n",
       "<table border=\"1\" class=\"dataframe\">\n",
       "  <thead>\n",
       "    <tr style=\"text-align: right;\">\n",
       "      <th></th>\n",
       "      <th>Labels</th>\n",
       "      <th>Integerized</th>\n",
       "    </tr>\n",
       "  </thead>\n",
       "  <tbody>\n",
       "    <tr>\n",
       "      <th>0</th>\n",
       "      <td>[O, O, O, O, O, O, O, O, LOC, O, PRS, O, O, O,...</td>\n",
       "      <td>[2, 167, 167, 167, 167, 167, 167, 167, 167, 1,...</td>\n",
       "    </tr>\n",
       "    <tr>\n",
       "      <th>1</th>\n",
       "      <td>[O, O, O, O, O, O, O, O, O, O, O, O, O, O, O, ...</td>\n",
       "      <td>[2, 167, 167, 167, 167, 167, 167, 167, 167, 16...</td>\n",
       "    </tr>\n",
       "    <tr>\n",
       "      <th>2</th>\n",
       "      <td>[O, O, O, O, O, O, O, O, O, O, O, O, O, O, TME...</td>\n",
       "      <td>[2, 167, 167, 167, 167, 167, 167, 167, 167, 16...</td>\n",
       "    </tr>\n",
       "    <tr>\n",
       "      <th>3</th>\n",
       "      <td>[O, O, O, O, O, O, O, O, O, PRS, O, O, O, O, O...</td>\n",
       "      <td>[2, 167, 167, 167, 167, 167, 167, 167, 167, 16...</td>\n",
       "    </tr>\n",
       "    <tr>\n",
       "      <th>4</th>\n",
       "      <td>[O, O, O, O, O, LOC, O]</td>\n",
       "      <td>[2, 167, 167, 167, 167, 167, 1, 167, 3]</td>\n",
       "    </tr>\n",
       "  </tbody>\n",
       "</table>\n",
       "</div>"
      ],
      "text/plain": [
       "                                              Labels  \\\n",
       "0  [O, O, O, O, O, O, O, O, LOC, O, PRS, O, O, O,...   \n",
       "1  [O, O, O, O, O, O, O, O, O, O, O, O, O, O, O, ...   \n",
       "2  [O, O, O, O, O, O, O, O, O, O, O, O, O, O, TME...   \n",
       "3  [O, O, O, O, O, O, O, O, O, PRS, O, O, O, O, O...   \n",
       "4                            [O, O, O, O, O, LOC, O]   \n",
       "\n",
       "                                         Integerized  \n",
       "0  [2, 167, 167, 167, 167, 167, 167, 167, 167, 1,...  \n",
       "1  [2, 167, 167, 167, 167, 167, 167, 167, 167, 16...  \n",
       "2  [2, 167, 167, 167, 167, 167, 167, 167, 167, 16...  \n",
       "3  [2, 167, 167, 167, 167, 167, 167, 167, 167, 16...  \n",
       "4            [2, 167, 167, 167, 167, 167, 1, 167, 3]  "
      ]
     },
     "execution_count": 177,
     "metadata": {},
     "output_type": "execute_result"
    }
   ],
   "source": [
    "# Format the Labels\n",
    "\n",
    "# Replace words with integers, add the special [CLS] and [SEP] tokens\n",
    "label_df['Integerized'] = label_df[['Labels']].apply(lambda x: tokenizer.encode(x[0], add_special_tokens=True), axis=1)\n",
    "\n",
    "\n",
    "\n",
    "\n",
    "label_df"
   ]
  },
  {
   "cell_type": "code",
   "execution_count": 171,
   "metadata": {},
   "outputs": [],
   "source": [
    "#Load model\n",
    "from transformers import AutoModel\n",
    "model = AutoModel.from_pretrained('KB/bert-base-swedish-cased')"
   ]
  },
  {
   "cell_type": "code",
   "execution_count": 172,
   "metadata": {},
   "outputs": [
    {
     "name": "stdout",
     "output_type": "stream",
     "text": [
      "torch.Size([1, 50, 768])\n"
     ]
    }
   ],
   "source": [
    "# Run model on a single sentence\n",
    "\n",
    "# Convert the lists into tensors\n",
    "index = 0\n",
    "#Convert to torch tensors\n",
    "data_tensor = torch.tensor(input_df[['Input']].iloc[index][0]).unsqueeze(0)\n",
    "mask_tensor = torch.tensor(input_df[['Attention_Mask']].iloc[index][0]).unsqueeze(0)\n",
    "\n",
    "embeddings = model.forward(input_ids=data_tensor,\n",
    "    attention_mask=mask_tensor,\n",
    "    head_mask=None)\n",
    "\n",
    "print(embeddings[0].shape)"
   ]
  },
  {
   "cell_type": "code",
   "execution_count": 173,
   "metadata": {},
   "outputs": [
    {
     "name": "stdout",
     "output_type": "stream",
     "text": [
      "torch.Size([5, 50, 768])\n"
     ]
    }
   ],
   "source": [
    "# Run model on ALL sentences\n",
    "\n",
    "# Convert the list of lists into tensors\n",
    "data_matrix = torch.tensor([x[0] for x in input_df[['Input']].values])\n",
    "mask_matrix = torch.tensor([x[0] for x in input_df[['Attention_Mask']].values])\n",
    "\n",
    "embeddings = model.forward(input_ids=data_matrix,\n",
    "    attention_mask=mask_matrix,\n",
    "    head_mask=None)\n",
    "print(embeddings[0].shape)"
   ]
  },
  {
   "cell_type": "code",
   "execution_count": null,
   "metadata": {},
   "outputs": [],
   "source": [
    "#Add BIO-format to labels\n",
    "#Add linear classifier"
   ]
  }
 ],
 "metadata": {
  "kernelspec": {
   "display_name": ".thesis",
   "language": "python",
   "name": ".thesis"
  },
  "language_info": {
   "codemirror_mode": {
    "name": "ipython",
    "version": 3
   },
   "file_extension": ".py",
   "mimetype": "text/x-python",
   "name": "python",
   "nbconvert_exporter": "python",
   "pygments_lexer": "ipython3",
   "version": "3.7.5"
  }
 },
 "nbformat": 4,
 "nbformat_minor": 4
}
