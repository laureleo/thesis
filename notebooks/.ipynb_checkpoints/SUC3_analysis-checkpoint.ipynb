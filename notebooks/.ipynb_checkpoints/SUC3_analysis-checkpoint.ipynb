{
 "cells": [
  {
   "cell_type": "markdown",
   "metadata": {},
   "source": [
    "# SUC3 Analyze"
   ]
  },
  {
   "cell_type": "code",
   "execution_count": 1,
   "metadata": {},
   "outputs": [],
   "source": [
    "import pandas as pd\n",
    "import seaborn as sns\n",
    "import xml.etree.ElementTree as et \n",
    "import matplotlib.pyplot as plt\n",
    "import numpy as np"
   ]
  },
  {
   "cell_type": "markdown",
   "metadata": {},
   "source": [
    "### Setup"
   ]
  },
  {
   "cell_type": "code",
   "execution_count": 2,
   "metadata": {},
   "outputs": [],
   "source": [
    "# The attributes at each level of the corpus\n",
    "\n",
    "TEXT_attributes = {\n",
    " 'text_blingbring': '|',\n",
    " 'text_id': '|',\n",
    " 'text_lix': '|',\n",
    " 'text_nk': '|',\n",
    " 'text_ovix': '|',\n",
    " 'text_swefn': '|',\n",
    " 'text_index': 0}\n",
    "\n",
    "SENTENCE_attributes = {\n",
    " 'sentence__geocontext': '|',\n",
    " 'sentence_id': '|',\n",
    " 'sentence_index': 0}\n",
    "\n",
    "WORD_attributes = {\n",
    " 'word_blingbring': '|',\n",
    " 'word_complemgram': '|',\n",
    " 'word_compwf': '|',\n",
    " 'word_dephead': '|',\n",
    " 'word_deprel': '|',\n",
    " 'word_lemma': '|:|',\n",
    " 'word_lex': '|',\n",
    " 'word_msd': '|',\n",
    " 'word_pos': '|',\n",
    " 'word_prefix': '|',\n",
    " 'word_ref': '|',\n",
    " 'word_sense': '|',\n",
    " 'word_suffix': '|',\n",
    " 'word_swefn': '|',\n",
    " 'word_text' : '|',\n",
    " 'word_ex': '|',\n",
    " 'word_name': '|',\n",
    " 'word_subtype': '|',\n",
    " 'word_type': '|',\n",
    " 'word_index': 0}\n",
    "\n",
    "# A dict containing all attributes associated with a single word, increading higher-level ones\n",
    "WORD_LEVEL_MASTER_DICT = {}\n",
    "WORD_LEVEL_MASTER_DICT.update(TEXT_attributes)\n",
    "WORD_LEVEL_MASTER_DICT.update(SENTENCE_attributes)\n",
    "WORD_LEVEL_MASTER_DICT.update(WORD_attributes)"
   ]
  },
  {
   "cell_type": "code",
   "execution_count": 5,
   "metadata": {},
   "outputs": [],
   "source": [
    "\"\"\"\n",
    "Just a renaming utility to make sure there are no overlapping dictionary names between text, sentence and word attributes\n",
    "\"\"\"\n",
    "def update_attributes(dictionary, to_append):\n",
    "    new_dict = {}\n",
    "    for key in dictionary.attrib:\n",
    "        value = dictionary.get(key)\n",
    "        new_attrib_name = to_append + \"_\" + key\n",
    "        new_dict.update({new_attrib_name:value})\n",
    "        \n",
    "    return new_dict"
   ]
  },
  {
   "cell_type": "markdown",
   "metadata": {},
   "source": [
    "### Convert XML to Dataframe"
   ]
  },
  {
   "cell_type": "code",
   "execution_count": 6,
   "metadata": {},
   "outputs": [
    {
     "name": "stderr",
     "output_type": "stream",
     "text": [
      "/home/vic/.local/lib/python3.7/site-packages/ipykernel_launcher.py:8: DeprecationWarning: This method will be removed in future versions.  Use 'list(elem)' or iteration over elem instead.\n",
      "  \n",
      "/home/vic/.local/lib/python3.7/site-packages/ipykernel_launcher.py:25: DeprecationWarning: This method will be removed in future versions.  Use 'list(elem)' or iteration over elem instead.\n",
      "/home/vic/.local/lib/python3.7/site-packages/ipykernel_launcher.py:34: DeprecationWarning: This method will be removed in future versions.  Use 'list(elem)' or iteration over elem instead.\n"
     ]
    },
    {
     "name": "stdout",
     "output_type": "stream",
     "text": [
      "Done\n"
     ]
    }
   ],
   "source": [
    "#Create a tree\n",
    "xtree = et.parse(\"suc3.xml\")\n",
    "\n",
    "#Get its root element\n",
    "suc3 = xtree.getroot()\n",
    "\n",
    "#Get all children - the texts that we will extract words from\n",
    "texts = suc3.getchildren()\n",
    "\n",
    "text_index = 0\n",
    "sentence_index = 0\n",
    "word_index = 0\n",
    "\n",
    "datapoints = []\n",
    "\n",
    "# Loop over the texts in the corpus...\n",
    "for text in texts:\n",
    "    #Assign an index based on the order it appears in the corpus\n",
    "    text_index = text_index + 1\n",
    "    \n",
    "    #Create a dict with all the attributes of the text\n",
    "    text_attributes = update_attributes(text, 'text')\n",
    "    text_attributes.update({\"text_index\": text_index})\n",
    "    \n",
    "    sentences = text.getchildren()  \n",
    "    \n",
    "    #Loop over the sentences in each text...\n",
    "    for sentence in sentences:\n",
    "        sentence_index = sentence_index + 1\n",
    "\n",
    "        sentence_attributes = update_attributes(sentence, 'sentence')\n",
    "        sentence_attributes.update({\"sentence_index\": sentence_index})\n",
    "   \n",
    "        words = sentence.getchildren()\n",
    "        \n",
    "        #Loop over the words in each sentence...\n",
    "        for word in words:\n",
    "            word_index = word_index + 1\n",
    "            \n",
    "            word_attributes = WORD_attributes.copy()\n",
    "            word_attributes.update({\"word_index\": word_index})\n",
    "            \n",
    "            attributes = update_attributes(word, 'word')\n",
    "            \n",
    "            if word.tag == 'ne':\n",
    "                attributes.update({\"word_tag\": \"ne\"})\n",
    "            else:\n",
    "                attributes.update({\"word_tag\": \"w\"})\n",
    "                attributes.update({\"word_text\": word.text})\n",
    "                \n",
    "            word_attributes.update(attributes)\n",
    "            \n",
    "            #Copy the master dict and fill it in with all the information we've extracted from the three loops\n",
    "            WORD_LEVEL_DICT = WORD_LEVEL_MASTER_DICT.copy()\n",
    "            \n",
    "            WORD_LEVEL_DICT.update(text_attributes)\n",
    "            WORD_LEVEL_DICT.update(sentence_attributes)\n",
    "            WORD_LEVEL_DICT.update(word_attributes)\n",
    "            \n",
    "            datapoints.append(WORD_LEVEL_DICT)\n",
    "                \n",
    "print(\"Done\")"
   ]
  },
  {
   "cell_type": "code",
   "execution_count": 7,
   "metadata": {},
   "outputs": [],
   "source": [
    "# Having extracted all words and their associated information, let's convert it into a dataframe\n",
    "df = pd.DataFrame(datapoints)\n",
    "df.head()\n",
    "\n",
    "#Blingbring looks less interesting\n",
    "\n",
    "df = df.drop(columns={'text_blingbring'})\n",
    "\n",
    "#Replace the | with None\n",
    "df = df.replace({'|': np.nan})"
   ]
  },
  {
   "cell_type": "code",
   "execution_count": 12,
   "metadata": {},
   "outputs": [
    {
     "data": {
      "text/html": [
       "<div>\n",
       "<style scoped>\n",
       "    .dataframe tbody tr th:only-of-type {\n",
       "        vertical-align: middle;\n",
       "    }\n",
       "\n",
       "    .dataframe tbody tr th {\n",
       "        vertical-align: top;\n",
       "    }\n",
       "\n",
       "    .dataframe thead th {\n",
       "        text-align: right;\n",
       "    }\n",
       "</style>\n",
       "<table border=\"1\" class=\"dataframe\">\n",
       "  <thead>\n",
       "    <tr style=\"text-align: right;\">\n",
       "      <th></th>\n",
       "      <th>word_type</th>\n",
       "      <th>count</th>\n",
       "    </tr>\n",
       "  </thead>\n",
       "  <tbody>\n",
       "    <tr>\n",
       "      <td>8</td>\n",
       "      <td>LOC</td>\n",
       "      <td>0</td>\n",
       "    </tr>\n",
       "    <tr>\n",
       "      <td>10</td>\n",
       "      <td>PRS</td>\n",
       "      <td>0</td>\n",
       "    </tr>\n",
       "    <tr>\n",
       "      <td>15</td>\n",
       "      <td>PRS</td>\n",
       "      <td>0</td>\n",
       "    </tr>\n",
       "    <tr>\n",
       "      <td>65</td>\n",
       "      <td>TME</td>\n",
       "      <td>0</td>\n",
       "    </tr>\n",
       "    <tr>\n",
       "      <td>77</td>\n",
       "      <td>PRS</td>\n",
       "      <td>0</td>\n",
       "    </tr>\n",
       "    <tr>\n",
       "      <td>...</td>\n",
       "      <td>...</td>\n",
       "      <td>...</td>\n",
       "    </tr>\n",
       "    <tr>\n",
       "      <td>1134955</td>\n",
       "      <td>EVN</td>\n",
       "      <td>0</td>\n",
       "    </tr>\n",
       "    <tr>\n",
       "      <td>1135019</td>\n",
       "      <td>LOC</td>\n",
       "      <td>0</td>\n",
       "    </tr>\n",
       "    <tr>\n",
       "      <td>1135090</td>\n",
       "      <td>TME</td>\n",
       "      <td>0</td>\n",
       "    </tr>\n",
       "    <tr>\n",
       "      <td>1135298</td>\n",
       "      <td>PRS</td>\n",
       "      <td>0</td>\n",
       "    </tr>\n",
       "    <tr>\n",
       "      <td>1135328</td>\n",
       "      <td>LOC</td>\n",
       "      <td>0</td>\n",
       "    </tr>\n",
       "  </tbody>\n",
       "</table>\n",
       "<p>44254 rows × 2 columns</p>\n",
       "</div>"
      ],
      "text/plain": [
       "        word_type  count\n",
       "8             LOC      0\n",
       "10            PRS      0\n",
       "15            PRS      0\n",
       "65            TME      0\n",
       "77            PRS      0\n",
       "...           ...    ...\n",
       "1134955       EVN      0\n",
       "1135019       LOC      0\n",
       "1135090       TME      0\n",
       "1135298       PRS      0\n",
       "1135328       LOC      0\n",
       "\n",
       "[44254 rows x 2 columns]"
      ]
     },
     "execution_count": 12,
     "metadata": {},
     "output_type": "execute_result"
    }
   ],
   "source": [
    "entities"
   ]
  },
  {
   "cell_type": "markdown",
   "metadata": {},
   "source": [
    "### Closer look at the entities"
   ]
  },
  {
   "cell_type": "code",
   "execution_count": 9,
   "metadata": {},
   "outputs": [
    {
     "data": {
      "text/html": [
       "<div>\n",
       "<style scoped>\n",
       "    .dataframe tbody tr th:only-of-type {\n",
       "        vertical-align: middle;\n",
       "    }\n",
       "\n",
       "    .dataframe tbody tr th {\n",
       "        vertical-align: top;\n",
       "    }\n",
       "\n",
       "    .dataframe thead th {\n",
       "        text-align: right;\n",
       "    }\n",
       "</style>\n",
       "<table border=\"1\" class=\"dataframe\">\n",
       "  <thead>\n",
       "    <tr style=\"text-align: right;\">\n",
       "      <th></th>\n",
       "      <th>word_ex</th>\n",
       "      <th>word_name</th>\n",
       "      <th>word_subtype</th>\n",
       "      <th>word_type</th>\n",
       "    </tr>\n",
       "  </thead>\n",
       "  <tbody>\n",
       "    <tr>\n",
       "      <td>137</td>\n",
       "      <td>NUMEX</td>\n",
       "      <td>allt oftare</td>\n",
       "      <td>FRQ</td>\n",
       "      <td>MSR</td>\n",
       "    </tr>\n",
       "    <tr>\n",
       "      <td>322</td>\n",
       "      <td>NUMEX</td>\n",
       "      <td>573 miljarder rubel</td>\n",
       "      <td>CUR</td>\n",
       "      <td>MSR</td>\n",
       "    </tr>\n",
       "    <tr>\n",
       "      <td>396</td>\n",
       "      <td>NUMEX</td>\n",
       "      <td>över ettusen kilometer</td>\n",
       "      <td>DST</td>\n",
       "      <td>MSR</td>\n",
       "    </tr>\n",
       "    <tr>\n",
       "      <td>692</td>\n",
       "      <td>NUMEX</td>\n",
       "      <td>17 år</td>\n",
       "      <td>AGE</td>\n",
       "      <td>MSR</td>\n",
       "    </tr>\n",
       "    <tr>\n",
       "      <td>796</td>\n",
       "      <td>NUMEX</td>\n",
       "      <td>fem kilometer</td>\n",
       "      <td>DST</td>\n",
       "      <td>MSR</td>\n",
       "    </tr>\n",
       "    <tr>\n",
       "      <td>...</td>\n",
       "      <td>...</td>\n",
       "      <td>...</td>\n",
       "      <td>...</td>\n",
       "      <td>...</td>\n",
       "    </tr>\n",
       "    <tr>\n",
       "      <td>1133059</td>\n",
       "      <td>NUMEX</td>\n",
       "      <td>tusen kronor</td>\n",
       "      <td>CUR</td>\n",
       "      <td>MSR</td>\n",
       "    </tr>\n",
       "    <tr>\n",
       "      <td>1133179</td>\n",
       "      <td>NUMEX</td>\n",
       "      <td>125 kronor</td>\n",
       "      <td>CUR</td>\n",
       "      <td>MSR</td>\n",
       "    </tr>\n",
       "    <tr>\n",
       "      <td>1133193</td>\n",
       "      <td>NUMEX</td>\n",
       "      <td>åtta miljoner kronor</td>\n",
       "      <td>CUR</td>\n",
       "      <td>MSR</td>\n",
       "    </tr>\n",
       "    <tr>\n",
       "      <td>1133552</td>\n",
       "      <td>NUMEX</td>\n",
       "      <td>tio procent</td>\n",
       "      <td>PRC</td>\n",
       "      <td>MSR</td>\n",
       "    </tr>\n",
       "    <tr>\n",
       "      <td>1133739</td>\n",
       "      <td>NUMEX</td>\n",
       "      <td>tolv miljoner kronor</td>\n",
       "      <td>CUR</td>\n",
       "      <td>MSR</td>\n",
       "    </tr>\n",
       "  </tbody>\n",
       "</table>\n",
       "<p>2433 rows × 4 columns</p>\n",
       "</div>"
      ],
      "text/plain": [
       "        word_ex               word_name word_subtype word_type\n",
       "137       NUMEX             allt oftare          FRQ       MSR\n",
       "322       NUMEX     573 miljarder rubel          CUR       MSR\n",
       "396       NUMEX  över ettusen kilometer          DST       MSR\n",
       "692       NUMEX                   17 år          AGE       MSR\n",
       "796       NUMEX           fem kilometer          DST       MSR\n",
       "...         ...                     ...          ...       ...\n",
       "1133059   NUMEX            tusen kronor          CUR       MSR\n",
       "1133179   NUMEX              125 kronor          CUR       MSR\n",
       "1133193   NUMEX    åtta miljoner kronor          CUR       MSR\n",
       "1133552   NUMEX             tio procent          PRC       MSR\n",
       "1133739   NUMEX    tolv miljoner kronor          CUR       MSR\n",
       "\n",
       "[2433 rows x 4 columns]"
      ]
     },
     "execution_count": 9,
     "metadata": {},
     "output_type": "execute_result"
    }
   ],
   "source": [
    "entities = df[df['word_tag'] == 'ne'][['word_ex', 'word_name', 'word_subtype', 'word_type']]\n",
    "entities[entities['word_type'] == 'MSR']"
   ]
  },
  {
   "cell_type": "code",
   "execution_count": 10,
   "metadata": {},
   "outputs": [
    {
     "data": {
      "text/plain": [
       "<matplotlib.axes._subplots.AxesSubplot at 0x7f9e928e5a10>"
      ]
     },
     "execution_count": 10,
     "metadata": {},
     "output_type": "execute_result"
    },
    {
     "data": {
      "image/png": "[encoded data removed]",
      "text/plain": [
       "<Figure size 720x1080 with 1 Axes>"
      ]
     },
     "metadata": {
      "needs_background": "light"
     },
     "output_type": "display_data"
    }
   ],
   "source": [
    "entities = df[df['word_tag'] == 'ne'][['word_subtype']]\n",
    "entities['count'] = 0\n",
    "entity_count = entities.groupby('word_subtype')[['count']].count()\n",
    "entity_count = entity_count.reset_index()\n",
    "entity_count = entity_count.rename(columns={'word_subtype': 'Named Entity'}).sort_values(by='count', ascending=False)\n",
    "\n",
    "fig, ax = plt.subplots(1, figsize = (10,15))\n",
    "sns.barplot(y = 'Named Entity', x = 'count', data = entity_count, )"
   ]
  },
  {
   "cell_type": "markdown",
   "metadata": {},
   "source": [
    "### Distribution of NER"
   ]
  },
  {
   "cell_type": "code",
   "execution_count": 11,
   "metadata": {},
   "outputs": [
    {
     "data": {
      "text/plain": [
       "<matplotlib.axes._subplots.AxesSubplot at 0x7f9e8f0f97d0>"
      ]
     },
     "execution_count": 11,
     "metadata": {},
     "output_type": "execute_result"
    },
    {
     "data": {
      "image/png": "[encoded data removed]",
      "text/plain": [
       "<Figure size 1080x720 with 1 Axes>"
      ]
     },
     "metadata": {
      "needs_background": "light"
     },
     "output_type": "display_data"
    }
   ],
   "source": [
    "entities = df[df['word_tag'] == 'ne'][['word_type']]\n",
    "entities['count'] = 0\n",
    "entity_count = entities.groupby('word_type')[['count']].count()\n",
    "entity_count = entity_count.reset_index()\n",
    "entity_count = entity_count.rename(columns={'word_type': 'Named Entity'}).sort_values(by='count', ascending=False)\n",
    "\n",
    "fig, ax = plt.subplots(1, figsize = (15,10))\n",
    "sns.barplot(y = 'Named Entity', x = 'count', data = entity_count)"
   ]
  }
 ],
 "metadata": {
  "kernelspec": {
   "display_name": "Python 3",
   "language": "python",
   "name": "python3"
  },
  "language_info": {
   "codemirror_mode": {
    "name": "ipython",
    "version": 3
   },
   "file_extension": ".py",
   "mimetype": "text/x-python",
   "name": "python",
   "nbconvert_exporter": "python",
   "pygments_lexer": "ipython3",
   "version": "3.7.5"
  }
 },
 "nbformat": 4,
 "nbformat_minor": 2
}
