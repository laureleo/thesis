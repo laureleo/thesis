{
 "cells": [
  {
   "cell_type": "code",
   "execution_count": 1,
   "metadata": {},
   "outputs": [
    {
     "name": "stderr",
     "output_type": "stream",
     "text": [
      "Using TensorFlow backend.\n"
     ]
    }
   ],
   "source": [
    "import pandas as pd\n",
    "import numpy as np\n",
    "from tqdm import tqdm, trange\n",
    "from data_functions import *\n",
    "#https://github.com/huggingface/transformers/tree/master/model_cards/KB/albert-base-swedish-cased-alpha"
   ]
  },
  {
   "cell_type": "code",
   "execution_count": 2,
   "metadata": {},
   "outputs": [],
   "source": [
    "#Load the data\n",
    "df = pd.read_pickle(\"../data/sentence_labels\")\n",
    "\n",
    "#Work on a subset for testing purposes\n",
    "input_df = df[['Sentence']].copy()\n",
    "label_df = df[['Labels']].copy()"
   ]
  },
  {
   "cell_type": "markdown",
   "metadata": {},
   "source": [
    "## Formatting the input and labels"
   ]
  },
  {
   "cell_type": "code",
   "execution_count": 3,
   "metadata": {},
   "outputs": [
    {
     "name": "stdout",
     "output_type": "stream",
     "text": [
      "Checking input...\n",
      "PASS\n"
     ]
    }
   ],
   "source": [
    "data_tensor_matrix, mask_tensor_matrix = format_sentences_for_BERT(input_df)\n",
    "label_matrix = format_labels_for_BERT(label_df)"
   ]
  },
  {
   "cell_type": "markdown",
   "metadata": {},
   "source": [
    "## Generate Embeddings"
   ]
  },
  {
   "cell_type": "code",
   "execution_count": 4,
   "metadata": {},
   "outputs": [],
   "source": [
    "#Load model\n",
    "from transformers import AutoModel\n",
    "#model = AutoModel.from_pretrained('KB/bert-base-swedish-cased')\n",
    "model = AutoModel.from_pretrained('KB/albert-base-swedish-cased-alpha')"
   ]
  },
  {
   "cell_type": "code",
   "execution_count": 5,
   "metadata": {},
   "outputs": [],
   "source": [
    "\"\"\"\n",
    "This function takes a single input sentence and mask and generates an embedding for all the tokens in the sentence, using the cpu\n",
    "\"\"\"\n",
    "def get_embeddings_with_cpu(data_tensor, mask_tensor):\n",
    "    embeddings = model.forward(input_ids=data_tensor,\n",
    "        attention_mask=mask_tensor,\n",
    "        head_mask=None)\n",
    "    print(embeddings[0].shape)\n",
    "    \n",
    "    return embeddings[0]\n",
    "#embedding_matrix = get_embeddings_with_cpu(data_matrix[:10], mask_matrix[:10])\n"
   ]
  },
  {
   "cell_type": "code",
   "execution_count": 6,
   "metadata": {},
   "outputs": [],
   "source": [
    "\"\"\"\n",
    "For dealing with large amounts of data, a GPU is much faster\n",
    "\n",
    "The resulting embedding matrix is a three-dimensional tensor corresponding to [Sentence][Words][Embeddings]\n",
    "embeddings[5][4][:] is thus the embedding of the fourth word in the fifth sentence\n",
    "\"\"\"\n",
    "\n",
    "def get_embeddings_with_gpu(data_matrix, mask_matrix):\n",
    "    # Load the device\n",
    "    device = torch.device(\"cuda\" if torch.cuda.is_available() else \"cpu\")\n",
    "    #print(f\"Using device: {torch.cuda.get_device_name(0)}\")\n",
    "\n",
    "    # Set the model to use the device\n",
    "    model.cuda()\n",
    "\n",
    "    # Move the data onto the GPU\n",
    "    data_matrix = data_matrix.to(device)\n",
    "    mask_matrix = mask_matrix.to(device)\n",
    "\n",
    "    # Generate embeddings\n",
    "    matrix_embedding = model.forward(input_ids=data_matrix,\n",
    "        attention_mask=mask_matrix,\n",
    "        head_mask=None)[0]\n",
    "    #print(f\"Embedding generated with shape {batch_embedding.shape}\")\n",
    "\n",
    "    # Make it an ordinary np array instead of a torch\n",
    "    matrix_embedding = np.array(matrix_embedding.tolist())\n",
    "\n",
    "    return matrix_embedding\n",
    "\n",
    "#embedding_matrix = get_embeddings_with_gpu(data_matrix[:10], mask_matrix[:10])\n"
   ]
  },
  {
   "cell_type": "code",
   "execution_count": 7,
   "metadata": {},
   "outputs": [],
   "source": [
    "\"\"\"\n",
    "Most people won't be able to load all the data onto the GPU at once however, so it's better to do it in batches.\n",
    "(50 input sentences take 2803MB on my computer, for example).\n",
    "\n",
    "This method batchifies and stitches together the batches \n",
    "\"\"\"\n",
    "def get_embeddings_with_gpu_batch(data_matrix, mask_matrix, batch_size):\n",
    "    num_items = data_matrix.shape[0]\n",
    "    num_loops = int(np.ceil(num_items/batch_size))\n",
    "    \n",
    "    start = 0\n",
    "    end = batch_size\n",
    "    data_holder = []\n",
    "    \n",
    "    for i in trange(num_loops):        \n",
    "        # Split the data into batches\n",
    "        data_batch = data_matrix[start:end]\n",
    "        mask_batch = mask_matrix[start:end]\n",
    "        \n",
    "        #Get the embedding for the batch\n",
    "        batch_embedding = get_embeddings_with_gpu(data_batch, mask_batch)\n",
    "\n",
    "        data_holder.append(batch_embedding)\n",
    "        \n",
    "        #Move to next batch\n",
    "        start += batch_size\n",
    "        end += batch_size\n",
    "    \n",
    "    # Merge the batches we've generated\n",
    "    embedding_matrix = np.vstack(data_holder)\n",
    "\n",
    "    print(f\"Final embedding generated with shape {embedding_matrix.shape}\")\n",
    "\n",
    "    return embedding_matrix\n",
    "\n",
    "\n",
    "#embedding_matrix = get_embeddings_with_gpu_batch(data_tensor_matrix, mask_tensor_matrix, 50)\n",
    "#print(embedding_matrix.shape)"
   ]
  },
  {
   "cell_type": "code",
   "execution_count": 12,
   "metadata": {},
   "outputs": [],
   "source": [
    "#Save embedding\n",
    "#emb1 = get_embeddings_with_gpu(data_tensor_matrix[:37123], mask_tensor_matrix[:37123])"
   ]
  },
  {
   "cell_type": "code",
   "execution_count": 10,
   "metadata": {},
   "outputs": [
    {
     "data": {
      "text/plain": [
       "37122.5"
      ]
     },
     "execution_count": 10,
     "metadata": {},
     "output_type": "execute_result"
    }
   ],
   "source": [
    "#Save embedding\n",
    "emb2 = get_embeddings_with_gpu(data_tensor_matrix[37123:], mask_tensor_matrix[37123:])\n"
   ]
  },
  {
   "cell_type": "code",
   "execution_count": 36,
   "metadata": {},
   "outputs": [
    {
     "name": "stdout",
     "output_type": "stream",
     "text": [
      "Generated INPUT with shape (50000, 768)\n",
      "Generated LABELS with shape (50000, 8)\n",
      "Generated DICT {0: '[ P A D ]', 1: '[ U N K ]', 2: '[ C L S ]', 3: '[ S E P ]', 4: 'O', 5: 'p e r s o n', 6: 'i n s t', 7: 'w o r k'}\n",
      "Generated LIST of token labels\n"
     ]
    }
   ],
   "source": [
    "input_data = format_input_for_NER(embedding_matrix)\n",
    "output_data, label_dict, label_list = format_output_for_NER(label_matrix)"
   ]
  },
  {
   "cell_type": "code",
   "execution_count": 11,
   "metadata": {},
   "outputs": [],
   "source": [
    "# Some last checks on the data\n",
    "num_dimensions = input_data.shape[1]\n",
    "num_classes = output_data.shape[1]"
   ]
  },
  {
   "cell_type": "markdown",
   "metadata": {},
   "source": [
    "## Split into Train and Test"
   ]
  },
  {
   "cell_type": "code",
   "execution_count": 69,
   "metadata": {},
   "outputs": [],
   "source": [
    "ratio = 0.8\n",
    "train_x,train_y,test_x,test_y = split_data(ratio, input_data, output_data)\n"
   ]
  },
  {
   "cell_type": "markdown",
   "metadata": {},
   "source": [
    "## Train the classifier on the embeddings"
   ]
  },
  {
   "cell_type": "code",
   "execution_count": 13,
   "metadata": {},
   "outputs": [],
   "source": [
    "# Define a simple baseline model\n",
    "from keras.models import Sequential\n",
    "from keras.layers import Dense\n",
    "def baseline_model():\n",
    "    # create model\n",
    "    model = Sequential()\n",
    "    model.add(\n",
    "        Dense(8, input_dim=num_dimensions, activation='relu'))\n",
    "    model.add(\n",
    "        Dense(num_classes, activation='softmax'))\n",
    "    \n",
    "    # Compile model\n",
    "    model.compile(loss='categorical_crossentropy',\n",
    "                  optimizer='adam',\n",
    "                  metrics=['accuracy'])\n",
    "    return model"
   ]
  },
  {
   "cell_type": "code",
   "execution_count": 20,
   "metadata": {},
   "outputs": [],
   "source": [
    "base_model = baseline_model()\n",
    "\n",
    "#start from savepoint\n",
    "base_model.load_weights(\"../data/2020-03-31_#sentences_1000_weights.h5\")\n",
    "history_df = pd.read_pickle(\"../data/2020-03-31_#epochs_200_history_df\")\n"
   ]
  },
  {
   "cell_type": "code",
   "execution_count": 15,
   "metadata": {},
   "outputs": [],
   "source": [
    "# Train the model, setting aside 20% data for validation\n",
    "def train_model():\n",
    "    history = base_model.fit(\n",
    "        train_x,\n",
    "        train_y,\n",
    "        epochs=100,\n",
    "        batch_size=10,\n",
    "        validation_split=0.2)\n",
    "    return history\n",
    "\n",
    "#history = train_model()\n",
    "#print('\\nhistory dict:', history.history.keys())"
   ]
  },
  {
   "cell_type": "code",
   "execution_count": 21,
   "metadata": {},
   "outputs": [
    {
     "data": {
      "image/png": "[encoded data removed]",
      "text/plain": [
       "<Figure size 1080x720 with 1 Axes>"
      ]
     },
     "metadata": {},
     "output_type": "display_data"
    }
   ],
   "source": [
    "import matplotlib.pyplot as plt\n",
    "import seaborn as sns\n",
    "\n",
    "def create_history_df(history):\n",
    "    training_df = pd.DataFrame()\n",
    "    training_df['Accuracy'] = history.history['accuracy']\n",
    "    training_df[\"Validation Accuracy\"] = history.history['val_accuracy']\n",
    "    training_df['Loss'] = history.history['loss']\n",
    "    training_df[\"Val Loss\"] = history.history['val_loss']\n",
    "    return training_df\n",
    "\n",
    "#history_df = create_history_df(history)\n",
    "\n",
    "sns.set()\n",
    "fig, ax = plt.subplots(figsize=(15,10))\n",
    "sns.lineplot(data = history_df, ax = ax)\n",
    "plt.ylabel('Metric')\n",
    "plt.xlabel('Epoch')\n",
    "plt.show()"
   ]
  },
  {
   "cell_type": "code",
   "execution_count": null,
   "metadata": {},
   "outputs": [],
   "source": [
    "from datetime import date\n",
    "\n",
    "#save model\n",
    "WEIGHT_PATH = \"../data/\" + str(date.today()) + \"_#sentences_\" + str(input_df.shape[0]) + \"_weights.h5\"\n",
    "base_model.save_weights(WEIGHT_PATH)\n",
    "\n",
    "HISTORY_PATH = \"../data/\" + str(date.today()) + \"_#epochs_\"  +str(training_df.shape[0]) + \"_history_df\"\n",
    "\n",
    "# Save the history object for posterity\n",
    "training_df.to_pickle(HISTORY_PATH)\n",
    "\n",
    "#Save history\n",
    "print(f\"Saved Model to {WEIGHT_PATH}, History to {HISTORY_PATH}\")"
   ]
  },
  {
   "cell_type": "code",
   "execution_count": null,
   "metadata": {},
   "outputs": [],
   "source": [
    "from keras.wrappers.scikit_learn import KerasClassifier\n",
    "#estimator = KerasClassifier(build_fn=baseline_model, epochs=20, batch_size=5, verbose=0)"
   ]
  },
  {
   "cell_type": "code",
   "execution_count": null,
   "metadata": {},
   "outputs": [],
   "source": [
    "from sklearn.model_selection import KFold\n",
    "# Use 10 fold cross-validation to reduce risk of bias\n",
    "#kfold = KFold(n_splits=2, shuffle=True)"
   ]
  },
  {
   "cell_type": "code",
   "execution_count": null,
   "metadata": {},
   "outputs": [],
   "source": [
    "from sklearn.model_selection import cross_val_score\n",
    "#results = cross_val_score(estimator, train_x, train_y, cv=kfold, verbose=1)\n",
    "#print(\"Baseline: %.2f%% (%.2f%%)\" % (results.mean()*100, results.std()*100))"
   ]
  },
  {
   "cell_type": "markdown",
   "metadata": {},
   "source": [
    "# Evaluate"
   ]
  },
  {
   "cell_type": "code",
   "execution_count": 22,
   "metadata": {},
   "outputs": [
    {
     "name": "stdout",
     "output_type": "stream",
     "text": [
      "\n",
      "# Evaluate on test data\n",
      "WARNING:tensorflow:From /home/vic/git/thesis/.thesis/lib/python3.7/site-packages/keras/backend/tensorflow_backend.py:422: The name tf.global_variables is deprecated. Please use tf.compat.v1.global_variables instead.\n",
      "\n",
      "10000/10000 [==============================] - 0s 15us/step\n",
      "test loss, test acc: [0.9119214257077277, 0.8705999851226807]\n"
     ]
    }
   ],
   "source": [
    "\n",
    "print('\\n# Evaluate on test data')\n",
    "results = base_model.evaluate(test_x, test_y)\n",
    "print('test loss, test acc:', results)\n"
   ]
  },
  {
   "cell_type": "code",
   "execution_count": 135,
   "metadata": {},
   "outputs": [],
   "source": [
    "#Get the predicted classes for the test set\n",
    "predictions = base_model.predict_classes(test_x)\n",
    "\n",
    "#Get the true classes for the test set\n",
    "ground_truth = test_y.apply(lambda x: x.argmax(), axis=1).values\n",
    "\n",
    "#confusion matrix\n",
    "from sklearn.metrics import confusion_matrix\n",
    "cmatrix = confusion_matrix(y_true=ground_truth, y_pred=predictions)"
   ]
  },
  {
   "cell_type": "code",
   "execution_count": 145,
   "metadata": {},
   "outputs": [
    {
     "data": {
      "text/plain": [
       "['[ P A D ]',\n",
       " '[ U N K ]',\n",
       " '[ C L S ]',\n",
       " '[ S E P ]',\n",
       " 'O',\n",
       " 'p e r s o n',\n",
       " 'i n s t',\n",
       " 'w o r k']"
      ]
     },
     "execution_count": 145,
     "metadata": {},
     "output_type": "execute_result"
    }
   ],
   "source": [
    "list(label_dict.values())"
   ]
  },
  {
   "cell_type": "code",
   "execution_count": 151,
   "metadata": {},
   "outputs": [
    {
     "data": {
      "image/png": "[encoded data removed]",
      "text/plain": [
       "<Figure size 1080x720 with 2 Axes>"
      ]
     },
     "metadata": {},
     "output_type": "display_data"
    }
   ],
   "source": [
    "fig, ax = plt.subplots(figsize = (15,10))\n",
    "sns.heatmap(cmatrix, annot=True, ax = ax, fmt='.2f',yticklabels=list(label_dict.values()), xticklabels=list(label_dict.values()))\n",
    "plt.show()"
   ]
  },
  {
   "cell_type": "code",
   "execution_count": 119,
   "metadata": {},
   "outputs": [
    {
     "data": {
      "text/plain": [
       "array([[6534,   48,   25,   74,    0,    0,    0,    0],\n",
       "       [  14,    8,    0,    2,    0,    0,    0,    0],\n",
       "       [   3,    0,  193,    1,    0,    0,    0,    0],\n",
       "       [ 114,    7,    0,   16,    0,    0,    0,    0],\n",
       "       [   0,    0,    0,    0,    0,    0,    0,    0],\n",
       "       [   0,    0,    0,    0,    0,    0,    0,    0],\n",
       "       [   0,    0,    0,    0,    0,    0,    0,    0],\n",
       "       [   0,    0,    0,    0,    0,    0,    0,    0]])"
      ]
     },
     "execution_count": 119,
     "metadata": {},
     "output_type": "execute_result"
    }
   ],
   "source": [
    "from sklearn.metrics import confusion_matrix\n",
    "confusion_matrix(y_true=ground_truth, y_pred=predictions, labels =test_y.columns.values)"
   ]
  },
  {
   "cell_type": "code",
   "execution_count": 99,
   "metadata": {},
   "outputs": [
    {
     "data": {
      "text/plain": [
       "array([2, 4, 4, ..., 0, 0, 0])"
      ]
     },
     "execution_count": 99,
     "metadata": {},
     "output_type": "execute_result"
    }
   ],
   "source": []
  },
  {
   "cell_type": "code",
   "execution_count": 96,
   "metadata": {},
   "outputs": [
    {
     "data": {
      "text/html": [
       "<div>\n",
       "<style scoped>\n",
       "    .dataframe tbody tr th:only-of-type {\n",
       "        vertical-align: middle;\n",
       "    }\n",
       "\n",
       "    .dataframe tbody tr th {\n",
       "        vertical-align: top;\n",
       "    }\n",
       "\n",
       "    .dataframe thead th {\n",
       "        text-align: right;\n",
       "    }\n",
       "</style>\n",
       "<table border=\"1\" class=\"dataframe\">\n",
       "  <thead>\n",
       "    <tr style=\"text-align: right;\">\n",
       "      <th></th>\n",
       "      <th>0</th>\n",
       "      <th>1</th>\n",
       "      <th>2</th>\n",
       "      <th>3</th>\n",
       "      <th>167</th>\n",
       "      <th>535</th>\n",
       "      <th>1663</th>\n",
       "      <th>25689</th>\n",
       "      <th>huh</th>\n",
       "    </tr>\n",
       "  </thead>\n",
       "  <tbody>\n",
       "    <tr>\n",
       "      <th>40000</th>\n",
       "      <td>0</td>\n",
       "      <td>0</td>\n",
       "      <td>1</td>\n",
       "      <td>0</td>\n",
       "      <td>0</td>\n",
       "      <td>0</td>\n",
       "      <td>0</td>\n",
       "      <td>0</td>\n",
       "      <td>NaN</td>\n",
       "    </tr>\n",
       "    <tr>\n",
       "      <th>40001</th>\n",
       "      <td>0</td>\n",
       "      <td>0</td>\n",
       "      <td>0</td>\n",
       "      <td>0</td>\n",
       "      <td>1</td>\n",
       "      <td>0</td>\n",
       "      <td>0</td>\n",
       "      <td>0</td>\n",
       "      <td>NaN</td>\n",
       "    </tr>\n",
       "    <tr>\n",
       "      <th>40002</th>\n",
       "      <td>0</td>\n",
       "      <td>0</td>\n",
       "      <td>0</td>\n",
       "      <td>0</td>\n",
       "      <td>1</td>\n",
       "      <td>0</td>\n",
       "      <td>0</td>\n",
       "      <td>0</td>\n",
       "      <td>NaN</td>\n",
       "    </tr>\n",
       "    <tr>\n",
       "      <th>40003</th>\n",
       "      <td>0</td>\n",
       "      <td>0</td>\n",
       "      <td>0</td>\n",
       "      <td>0</td>\n",
       "      <td>1</td>\n",
       "      <td>0</td>\n",
       "      <td>0</td>\n",
       "      <td>0</td>\n",
       "      <td>NaN</td>\n",
       "    </tr>\n",
       "    <tr>\n",
       "      <th>40004</th>\n",
       "      <td>0</td>\n",
       "      <td>0</td>\n",
       "      <td>0</td>\n",
       "      <td>0</td>\n",
       "      <td>1</td>\n",
       "      <td>0</td>\n",
       "      <td>0</td>\n",
       "      <td>0</td>\n",
       "      <td>NaN</td>\n",
       "    </tr>\n",
       "    <tr>\n",
       "      <th>...</th>\n",
       "      <td>...</td>\n",
       "      <td>...</td>\n",
       "      <td>...</td>\n",
       "      <td>...</td>\n",
       "      <td>...</td>\n",
       "      <td>...</td>\n",
       "      <td>...</td>\n",
       "      <td>...</td>\n",
       "      <td>...</td>\n",
       "    </tr>\n",
       "    <tr>\n",
       "      <th>49995</th>\n",
       "      <td>1</td>\n",
       "      <td>0</td>\n",
       "      <td>0</td>\n",
       "      <td>0</td>\n",
       "      <td>0</td>\n",
       "      <td>0</td>\n",
       "      <td>0</td>\n",
       "      <td>0</td>\n",
       "      <td>NaN</td>\n",
       "    </tr>\n",
       "    <tr>\n",
       "      <th>49996</th>\n",
       "      <td>1</td>\n",
       "      <td>0</td>\n",
       "      <td>0</td>\n",
       "      <td>0</td>\n",
       "      <td>0</td>\n",
       "      <td>0</td>\n",
       "      <td>0</td>\n",
       "      <td>0</td>\n",
       "      <td>NaN</td>\n",
       "    </tr>\n",
       "    <tr>\n",
       "      <th>49997</th>\n",
       "      <td>1</td>\n",
       "      <td>0</td>\n",
       "      <td>0</td>\n",
       "      <td>0</td>\n",
       "      <td>0</td>\n",
       "      <td>0</td>\n",
       "      <td>0</td>\n",
       "      <td>0</td>\n",
       "      <td>NaN</td>\n",
       "    </tr>\n",
       "    <tr>\n",
       "      <th>49998</th>\n",
       "      <td>1</td>\n",
       "      <td>0</td>\n",
       "      <td>0</td>\n",
       "      <td>0</td>\n",
       "      <td>0</td>\n",
       "      <td>0</td>\n",
       "      <td>0</td>\n",
       "      <td>0</td>\n",
       "      <td>NaN</td>\n",
       "    </tr>\n",
       "    <tr>\n",
       "      <th>49999</th>\n",
       "      <td>1</td>\n",
       "      <td>0</td>\n",
       "      <td>0</td>\n",
       "      <td>0</td>\n",
       "      <td>0</td>\n",
       "      <td>0</td>\n",
       "      <td>0</td>\n",
       "      <td>0</td>\n",
       "      <td>NaN</td>\n",
       "    </tr>\n",
       "  </tbody>\n",
       "</table>\n",
       "<p>10000 rows × 9 columns</p>\n",
       "</div>"
      ],
      "text/plain": [
       "       0  1  2  3  167  535  1663  25689  huh\n",
       "40000  0  0  1  0    0    0     0      0  NaN\n",
       "40001  0  0  0  0    1    0     0      0  NaN\n",
       "40002  0  0  0  0    1    0     0      0  NaN\n",
       "40003  0  0  0  0    1    0     0      0  NaN\n",
       "40004  0  0  0  0    1    0     0      0  NaN\n",
       "...   .. .. .. ..  ...  ...   ...    ...  ...\n",
       "49995  1  0  0  0    0    0     0      0  NaN\n",
       "49996  1  0  0  0    0    0     0      0  NaN\n",
       "49997  1  0  0  0    0    0     0      0  NaN\n",
       "49998  1  0  0  0    0    0     0      0  NaN\n",
       "49999  1  0  0  0    0    0     0      0  NaN\n",
       "\n",
       "[10000 rows x 9 columns]"
      ]
     },
     "execution_count": 96,
     "metadata": {},
     "output_type": "execute_result"
    }
   ],
   "source": [
    "test_y"
   ]
  },
  {
   "cell_type": "markdown",
   "metadata": {},
   "source": [
    "## Test predictions"
   ]
  },
  {
   "cell_type": "code",
   "execution_count": 23,
   "metadata": {},
   "outputs": [
    {
     "name": "stdout",
     "output_type": "stream",
     "text": [
      "Checking input...\n",
      "Converting sentence to DataFrame Object\n",
      "Generated INPUT with shape (50, 768)\n",
      "WORD: Det, ENTITY: O, PROBABILITY: 0.9153293371200562\n",
      "WORD: var, ENTITY: O, PROBABILITY: 1.0\n",
      "WORD: hans, ENTITY: O, PROBABILITY: 0.9999961853027344\n",
      "WORD: namn, ENTITY: [ P A D ], PROBABILITY: 0.9695685505867004\n",
      "WORD: ,, ENTITY: O, PROBABILITY: 0.805397629737854\n",
      "WORD: Victor, ENTITY: O, PROBABILITY: 0.9999686479568481\n",
      "WORD: ., ENTITY: O, PROBABILITY: 0.981834352016449\n",
      "WORD: Son, ENTITY: O, PROBABILITY: 0.9011185169219971\n",
      "WORD: till, ENTITY: p e r s o n, PROBABILITY: 0.7432293891906738\n",
      "WORD: Alexander, ENTITY: O, PROBABILITY: 0.6240684390068054\n",
      "WORD: från, ENTITY: [ P A D ], PROBABILITY: 0.7172788977622986\n",
      "WORD: Stockholm, ENTITY: O, PROBABILITY: 0.9909958243370056\n",
      "WORD: ,, ENTITY: [ P A D ], PROBABILITY: 0.6536931395530701\n",
      "WORD: Sverige, ENTITY: [ P A D ], PROBABILITY: 0.7519299983978271\n",
      "WORD: -, ENTITY: [ P A D ], PROBABILITY: 0.6537007093429565\n",
      "WORD: -, ENTITY: [ P A D ], PROBABILITY: 0.6537030935287476\n",
      "WORD: -, ENTITY: [ P A D ], PROBABILITY: 1.0\n",
      "WORD: -, ENTITY: [ P A D ], PROBABILITY: 0.9999872446060181\n"
     ]
    }
   ],
   "source": [
    "\"\"\"\n",
    "This method takes a sentence and does NER on it\n",
    "\n",
    "CHECK CLS/SEP tokens??\n",
    "\"\"\"\n",
    "def NER(sentence, classifier):\n",
    "    #Format input\n",
    "    tp, tm = format_sentences_for_BERT(sentence)\n",
    "    \n",
    "    #Split on word-level to create a dict\n",
    "    tokenizer = AutoTokenizer.from_pretrained(\"KB/bert-base-swedish-cased-ner\")\n",
    "    word_list = tokenizer.tokenize(s)\n",
    "\n",
    "    \n",
    "    #Encode it \n",
    "    e = get_embeddings_with_gpu(tp, tm)\n",
    "    \n",
    "    #Format for NER\n",
    "    n = format_input_for_NER(e)\n",
    "    \n",
    "    #Classify it\n",
    "    c = base_model.predict(n)\n",
    "    \n",
    "    #Start from 1 to skip the cls token\n",
    "    #Print the predictions\n",
    "    for i in range(len(word_list)+4):\n",
    "        \n",
    "        #Get the predictions for the first word, skip the cls token\n",
    "        predictions = c[i+1]\n",
    "        \n",
    "        #Take the index of the most likely word. This correspond to the class\n",
    "        index = np.argmax(predictions)\n",
    "        \n",
    "        #Translate this index to a label\n",
    "        #label = tokenizer.decode()\n",
    "        \n",
    "        #Grab the certainity\n",
    "        certainity = predictions[index]\n",
    "        \n",
    "        #Check which word this is\n",
    "        if i <len(word_list):\n",
    "            word = word_list[i]\n",
    "        else:\n",
    "            word = \"-\"\n",
    "        \n",
    "        #Check which entity it corresponds to\n",
    "        print(f\"WORD: {word}, ENTITY: {label_dict.get(index)}, PROBABILITY: {certainity}\")\n",
    "\n",
    "        \n",
    "    return c, tp\n",
    "s = \"Det var hans namn, Victor. Son till Alexander från Stockholm, Sverige\"\n",
    "e, tp= NER(s, base_model)"
   ]
  }
 ],
 "metadata": {
  "kernelspec": {
   "display_name": ".thesis",
   "language": "python",
   "name": ".thesis"
  },
  "language_info": {
   "codemirror_mode": {
    "name": "ipython",
    "version": 3
   },
   "file_extension": ".py",
   "mimetype": "text/x-python",
   "name": "python",
   "nbconvert_exporter": "python",
   "pygments_lexer": "ipython3",
   "version": "3.7.5"
  }
 },
 "nbformat": 4,
 "nbformat_minor": 4
}
